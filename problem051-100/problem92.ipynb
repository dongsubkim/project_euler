{
 "metadata": {
  "language_info": {
   "codemirror_mode": {
    "name": "ipython",
    "version": 3
   },
   "file_extension": ".py",
   "mimetype": "text/x-python",
   "name": "python",
   "nbconvert_exporter": "python",
   "pygments_lexer": "ipython3",
   "version": "3.8.5"
  },
  "orig_nbformat": 2,
  "kernelspec": {
   "name": "python385jvsc74a57bd0d0a6fc611dd9351d0e1a9a0fceebb8e7c292efc5334406d2c05ad42c75550574",
   "display_name": "Python 3.8.5 64-bit ('base': conda)"
  }
 },
 "nbformat": 4,
 "nbformat_minor": 2,
 "cells": [
  {
   "source": [
    "\n",
    "<p>A number chain is created by continuously adding the square of the digits in a number to form a new number until it has been seen before.</p>\n",
    "<p>For example,</p>\n",
    "<p class=\"margin_left\">44 → 32 → 13 → 10 → <b>1</b> → <b>1</b><br />\n",
    "85 → <b>89</b> → 145 → 42 → 20 → 4 → 16 → 37 → 58 → <b>89</b></p>\n",
    "<p>Therefore any chain that arrives at 1 or 89 will become stuck in an endless loop. What is most amazing is that EVERY starting number will eventually arrive at 1 or 89.</p>\n",
    "<p>How many starting numbers below ten million will arrive at 89?</p>\n"
   ],
   "cell_type": "markdown",
   "metadata": {}
  },
  {
   "cell_type": "code",
   "execution_count": 1,
   "metadata": {},
   "outputs": [],
   "source": [
    "def digit_square(n):\n",
    "    s = 0\n",
    "    while n:\n",
    "        s += (n % 10)**2\n",
    "        n //= 10\n",
    "    return s"
   ]
  },
  {
   "cell_type": "code",
   "execution_count": 18,
   "metadata": {},
   "outputs": [
    {
     "output_type": "stream",
     "name": "stdout",
     "text": [
      "9999999\n488 ms ± 0 ns per loop (mean ± std. dev. of 1 run, 1 loop each)\n"
     ]
    }
   ],
   "source": [
    "%%timeit -n1 -r1\n",
    "c = 0\n",
    "for i in range(1, 10000000):\n",
    "    c += 1\n",
    "print(c)"
   ]
  },
  {
   "cell_type": "code",
   "execution_count": 27,
   "metadata": {},
   "outputs": [],
   "source": [
    "def solution():\n",
    "    foo = set()\n",
    "    foo.add(1)\n",
    "    bar = set()\n",
    "    bar.add(89)\n",
    "\n",
    "    for i in range(2, 600):\n",
    "        n = digit_square(i)\n",
    "        while True:\n",
    "            if n in foo:\n",
    "                foo.add(i)\n",
    "                break\n",
    "            elif n in bar:\n",
    "                bar.add(i)\n",
    "                break\n",
    "            n = digit_square(n)\n",
    "    c = 0\n",
    "    for i in range(2, 10000000):\n",
    "        if digit_square(i) in bar:\n",
    "            c += 1\n",
    "    return c\n",
    "    "
   ]
  },
  {
   "cell_type": "code",
   "execution_count": 28,
   "metadata": {
    "tags": []
   },
   "outputs": [
    {
     "output_type": "execute_result",
     "data": {
      "text/plain": [
       "8581146"
      ]
     },
     "metadata": {},
     "execution_count": 28
    }
   ],
   "source": [
    "solution()"
   ]
  },
  {
   "cell_type": "code",
   "execution_count": null,
   "metadata": {},
   "outputs": [],
   "source": []
  }
 ]
}