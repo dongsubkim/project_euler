{
 "metadata": {
  "language_info": {
   "codemirror_mode": {
    "name": "ipython",
    "version": 3
   },
   "file_extension": ".py",
   "mimetype": "text/x-python",
   "name": "python",
   "nbconvert_exporter": "python",
   "pygments_lexer": "ipython3",
   "version": "3.8.5"
  },
  "orig_nbformat": 2,
  "kernelspec": {
   "name": "python385jvsc74a57bd0d0a6fc611dd9351d0e1a9a0fceebb8e7c292efc5334406d2c05ad42c75550574",
   "display_name": "Python 3.8.5 64-bit ('base': conda)"
  }
 },
 "nbformat": 4,
 "nbformat_minor": 2,
 "cells": [
  {
   "source": [
    "# Problem 85 \n",
    "## [Counting rectangles](https://projecteuler.net/problem=85)\n",
    "\n",
    "<p>By counting carefully it can be seen that a rectangular grid measuring 3 by 2 contains eighteen rectangles:</p>\n",
    "<div class=\"center\">\n",
    "\n",
    "![p085.png](https://res.cloudinary.com/ddeivviyp/image/upload/v1623049884/MyBlog/v1ppur1qxpoqazqeilbs.png)\n",
    "\n",
    "<p>Although there exists no rectangular grid that contains exactly two million rectangles, find the area of the grid with the nearest solution.</p>\n",
    "\n"
   ],
   "cell_type": "markdown",
   "metadata": {}
  },
  {
   "cell_type": "code",
   "execution_count": 21,
   "metadata": {},
   "outputs": [],
   "source": [
    "import math"
   ]
  },
  {
   "cell_type": "code",
   "execution_count": 22,
   "metadata": {},
   "outputs": [],
   "source": [
    "def squares(w, h):\n",
    "    c = 0\n",
    "    for i in range(1, w+1):\n",
    "        for j in range(1, h+1):\n",
    "            c += (w+1 - i) * (h+1 - j)\n",
    "    return c"
   ]
  },
  {
   "cell_type": "code",
   "execution_count": 23,
   "metadata": {},
   "outputs": [],
   "source": [
    "def solution():\n",
    "    closest = 0\n",
    "    closestArea = (0, 0)\n",
    "    T = 2000000\n",
    "    for i in range(1, 100):\n",
    "        for j in range(1, 100):\n",
    "            v = squares(i, j)\n",
    "            if abs(T-v) < abs(T-closest):\n",
    "                closestArea = (i, j)\n",
    "                closest = v\n",
    "    return closest, closestArea, math.prod(closestArea)"
   ]
  },
  {
   "cell_type": "code",
   "execution_count": 24,
   "metadata": {},
   "outputs": [
    {
     "output_type": "stream",
     "name": "stdout",
     "text": [
      "(1999998, (36, 77), 2772)\n2.67 s ± 0 ns per loop (mean ± std. dev. of 1 run, 1 loop each)\n"
     ]
    }
   ],
   "source": [
    "%%timeit -n1 -r1\n",
    "print(solution())"
   ]
  },
  {
   "cell_type": "code",
   "execution_count": null,
   "metadata": {},
   "outputs": [],
   "source": []
  }
 ]
}