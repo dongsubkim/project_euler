{
 "metadata": {
  "language_info": {
   "codemirror_mode": {
    "name": "ipython",
    "version": 3
   },
   "file_extension": ".py",
   "mimetype": "text/x-python",
   "name": "python",
   "nbconvert_exporter": "python",
   "pygments_lexer": "ipython3",
   "version": "3.8.5"
  },
  "orig_nbformat": 4,
  "kernelspec": {
   "name": "python3",
   "display_name": "Python 3.8.5 64-bit ('base': conda)"
  },
  "interpreter": {
   "hash": "d0a6fc611dd9351d0e1a9a0fceebb8e7c292efc5334406d2c05ad42c75550574"
  }
 },
 "nbformat": 4,
 "nbformat_minor": 2,
 "cells": [
  {
   "source": [
    "# Problem 98\n",
    "## [Anagramic squares](https://projecteuler.net/problem=98)\n",
    "\n",
    "<p>By replacing each of the letters in the word CARE with 1, 2, 9, and 6 respectively, we form a square number: 1296 = 36<sup>2</sup>. What is remarkable is that, by using the same digital substitutions, the anagram, RACE, also forms a square number: 9216 = 96<sup>2</sup>. We shall call CARE (and RACE) a square anagram word pair and specify further that leading zeroes are not permitted, neither may a different letter have the same digital value as another letter.</p>\n",
    "<p>Using <a href=\"https://projecteuler.net/project/resources/p098_words.txt\">words.txt</a> (right click and 'Save Link/Target As...'), a 16K text file containing nearly two-thousand common English words, find all the square anagram word pairs (a palindromic word is NOT considered to be an anagram of itself).</p>\n",
    "<p>What is the largest square number formed by any member of such a pair?</p>\n",
    "<p class=\"smaller\">NOTE: All anagrams formed must be contained in the given text file.</p>\n"
   ],
   "cell_type": "markdown",
   "metadata": {}
  },
  {
   "cell_type": "code",
   "execution_count": 3,
   "metadata": {},
   "outputs": [],
   "source": [
    "words = []\n",
    "with open(\"p098_words.txt\", \"r\") as f:\n",
    "    words = f.read().replace(\"\\\"\", \"\").split(\",\")"
   ]
  },
  {
   "cell_type": "code",
   "execution_count": 5,
   "metadata": {},
   "outputs": [],
   "source": [
    "from collections import Counter, defaultdict"
   ]
  },
  {
   "cell_type": "code",
   "execution_count": 10,
   "metadata": {},
   "outputs": [],
   "source": [
    "d = defaultdict(list)\n",
    "for w in words:\n",
    "    key = [0] * 26\n",
    "    for c in w:\n",
    "        key[ord(c) - ord('A')] += 1\n",
    "    d[tuple(key)].append(w)"
   ]
  },
  {
   "cell_type": "code",
   "execution_count": 13,
   "metadata": {},
   "outputs": [],
   "source": [
    "for k in list(d.keys()):\n",
    "    if len(d[k]) == 1:\n",
    "        del d[k]"
   ]
  },
  {
   "cell_type": "code",
   "execution_count": 19,
   "metadata": {},
   "outputs": [],
   "source": [
    "anagrams = list(d.values())"
   ]
  },
  {
   "cell_type": "code",
   "execution_count": 22,
   "metadata": {},
   "outputs": [],
   "source": [
    "anagrams.sort(key=lambda a: len(a[0]), reverse=True)"
   ]
  },
  {
   "cell_type": "code",
   "execution_count": 35,
   "metadata": {},
   "outputs": [],
   "source": [
    "from itertools import permutations\n",
    "import math"
   ]
  },
  {
   "cell_type": "code",
   "execution_count": 57,
   "metadata": {},
   "outputs": [],
   "source": [
    "def solution():\n",
    "    for pair in anagrams:\n",
    "        print(pair)\n",
    "        letters = list(set(list(pair[0])))\n",
    "        for p in permutations(range(10), len(pair[0])):\n",
    "            mapping = {}\n",
    "            for c, v in zip(letters, p):\n",
    "                mapping[c] = str(v)\n",
    "            convert = lambda c: mapping[c]\n",
    "            n1 = \"\".join(list(map(convert, list(pair[0]))))\n",
    "            n2 = \"\".join(list(map(convert, list(pair[1]))))\n",
    "            if n1[0] == \"0\" or n2[0] == \"0\":\n",
    "                continue\n",
    "            n1, n2 = int(n1), int(n2)\n",
    "            if math.isqrt(n1)**2 == n1 and math.isqrt(n2)**2 == n2:\n",
    "                print(n1, n2)"
   ]
  },
  {
   "cell_type": "code",
   "execution_count": 58,
   "metadata": {},
   "outputs": [
    {
     "output_type": "stream",
     "name": "stdout",
     "text": [
      "['INTRODUCE', 'REDUCTION']\n",
      "['CREATION', 'REACTION']\n",
      "['CENTRE', 'RECENT']\n",
      "['COURSE', 'SOURCE']\n",
      "['CREDIT', 'DIRECT']\n",
      "['DANGER', 'GARDEN']\n",
      "['EXCEPT', 'EXPECT']\n",
      "['FORMER', 'REFORM']\n",
      "['IGNORE', 'REGION']\n",
      "['ARISE', 'RAISE']\n",
      "['BOARD', 'BROAD']\n",
      "17689 18769\n",
      "['EARTH', 'HEART']\n",
      "['LEAST', 'STEAL']\n",
      "['NIGHT', 'THING']\n",
      "['PHASE', 'SHAPE']\n",
      "['QUIET', 'QUITE']\n",
      "['SHEET', 'THESE']\n",
      "['SHOUT', 'SOUTH']\n",
      "['THROW', 'WORTH']\n",
      "['CARE', 'RACE']\n",
      "9216 1296\n",
      "1296 9216\n",
      "['DEAL', 'LEAD']\n",
      "1764 4761\n",
      "4761 1764\n",
      "['EARN', 'NEAR']\n",
      "['EAST', 'SEAT']\n",
      "2916 1296\n",
      "['FILE', 'LIFE']\n",
      "9216 1296\n",
      "1296 9216\n",
      "['FORM', 'FROM']\n",
      "['HATE', 'HEAT']\n",
      "1369 1936\n",
      "['ITEM', 'TIME']\n",
      "['MALE', 'MEAL']\n",
      "1369 1936\n",
      "['MEAN', 'NAME']\n",
      "2401 1024\n",
      "9604 4096\n",
      "['NOTE', 'TONE']\n",
      "9216 1296\n",
      "1296 9216\n",
      "['POST', 'SPOT', 'STOP']\n",
      "2916 1296\n",
      "['RATE', 'TEAR']\n",
      "1024 2401\n",
      "4096 9604\n",
      "['SHUT', 'THUS']\n",
      "4761 1764\n",
      "1764 4761\n",
      "['SIGN', 'SING']\n",
      "['SURE', 'USER']\n",
      "['ACT', 'CAT']\n",
      "['DOG', 'GOD']\n",
      "961 169\n",
      "169 961\n",
      "['EAT', 'TEA']\n",
      "256 625\n",
      "961 196\n",
      "['HOW', 'WHO']\n",
      "256 625\n",
      "961 196\n",
      "['ITS', 'SIT']\n",
      "256 625\n",
      "961 196\n",
      "['NOW', 'OWN']\n",
      "625 256\n",
      "196 961\n",
      "['NO', 'ON']\n"
     ]
    }
   ],
   "source": [
    "solution()"
   ]
  },
  {
   "cell_type": "code",
   "execution_count": null,
   "metadata": {},
   "outputs": [],
   "source": []
  }
 ]
}