{
 "metadata": {
  "language_info": {
   "codemirror_mode": {
    "name": "ipython",
    "version": 3
   },
   "file_extension": ".py",
   "mimetype": "text/x-python",
   "name": "python",
   "nbconvert_exporter": "python",
   "pygments_lexer": "ipython3",
   "version": "3.8.5"
  },
  "orig_nbformat": 2,
  "kernelspec": {
   "name": "python385jvsc74a57bd0d0a6fc611dd9351d0e1a9a0fceebb8e7c292efc5334406d2c05ad42c75550574",
   "display_name": "Python 3.8.5 64-bit ('base': conda)"
  }
 },
 "nbformat": 4,
 "nbformat_minor": 2,
 "cells": [
  {
   "source": [
    "<p>Each character on a computer is assigned a unique code and the preferred standard is ASCII (American Standard Code for Information Interchange). For example, uppercase A = 65, asterisk (*) = 42, and lowercase k = 107.</p>\n",
    "<p>A modern encryption method is to take a text file, convert the bytes to ASCII, then XOR each byte with a given value, taken from a secret key. The advantage with the XOR function is that using the same encryption key on the cipher text, restores the plain text; for example, 65 XOR 42 = 107, then 107 XOR 42 = 65.</p>\n",
    "<p>For unbreakable encryption, the key is the same length as the plain text message, and the key is made up of random bytes. The user would keep the encrypted message and the encryption key in different locations, and without both \"halves\", it is impossible to decrypt the message.</p>\n",
    "<p>Unfortunately, this method is impractical for most users, so the modified method is to use a password as a key. If the password is shorter than the message, which is likely, the key is repeated cyclically throughout the message. The balance for this method is using a sufficiently long password key for security, but short enough to be memorable.</p>\n",
    "<p>Your task has been made easy, as the encryption key consists of three lower case characters. Using <a href=\"project/resources/p059_cipher.txt\">p059_cipher.txt</a> (right click and 'Save Link/Target As...'), a file containing the encrypted ASCII codes, and the knowledge that the plain text must contain common English words, decrypt the message and find the sum of the ASCII values in the original text.</p>\n"
   ],
   "cell_type": "markdown",
   "metadata": {}
  },
  {
   "cell_type": "code",
   "execution_count": 4,
   "metadata": {},
   "outputs": [],
   "source": [
    "cipher = []\n",
    "with open(\"p059_cipher.txt\", \"r\") as f:\n",
    "    cipher = f.readlines()"
   ]
  },
  {
   "cell_type": "code",
   "execution_count": 7,
   "metadata": {},
   "outputs": [],
   "source": [
    "cipher = cipher[0].split(\",\")"
   ]
  },
  {
   "cell_type": "code",
   "execution_count": 9,
   "metadata": {},
   "outputs": [
    {
     "output_type": "execute_result",
     "data": {
      "text/plain": [
       "1455"
      ]
     },
     "metadata": {},
     "execution_count": 9
    }
   ],
   "source": [
    "len(cipher)"
   ]
  },
  {
   "cell_type": "code",
   "execution_count": 11,
   "metadata": {},
   "outputs": [],
   "source": [
    "key = \"aaa\""
   ]
  },
  {
   "cell_type": "code",
   "execution_count": 13,
   "metadata": {},
   "outputs": [],
   "source": [
    "cipher = list(map(int, cipher))"
   ]
  },
  {
   "cell_type": "code",
   "execution_count": 48,
   "metadata": {},
   "outputs": [],
   "source": [
    "from collections import Counter\n",
    "from operator import xor\n",
    "from itertools import product, starmap"
   ]
  },
  {
   "cell_type": "code",
   "execution_count": 90,
   "metadata": {
    "tags": []
   },
   "outputs": [
    {
     "output_type": "stream",
     "name": "stdout",
     "text": [
      "[101, 120, 112]\nAn extract taken from the introduction of one of Euler's most celebrated papers, \"De summis serierum reciprocarum\" [On the sums of series of reciprocals]: I have recently found, quite unexpectedly, an elegant expression for the entire sum of this series 1 + 1/4 + 1/9 + 1/16 + etc., which depends on the quadrature of the circle, so that if the true sum of this series is obtained, from it at once the quadrature of the circle follows. Namely, I have found that the sum of this series is a sixth part of the square of the perimeter of the circle whose diameter is 1; or by putting the sum of this series equal to s, it has the ratio sqrt(6) multiplied by s to 1 of the perimeter to the diameter. I will soon show that the sum of this series to be approximately 1.644934066842264364; and from multiplying this number by six, and then taking the square root, the number 3.141592653589793238 is indeed produced, which expresses the perimeter of a circle whose diameter is 1. Following again the same steps by which I had arrived at this sum, I have discovered that the sum of the series 1 + 1/16 + 1/81 + 1/256 + 1/625 + etc. also depends on the quadrature of the circle. Namely, the sum of this multiplied by 90 gives the biquadrate (fourth power) of the circumference of the perimeter of a circle whose diameter is 1. And by similar reasoning I have likewise been able to determine the sums of the subsequent series in which the exponents are even numbers.\n129448\n"
     ]
    }
   ],
   "source": [
    "cand = []\n",
    "for k in product('abcdefghijklmnopqrstuvwxyz', repeat=3):\n",
    "    key = [ord(c) for c in k] * (1455//3)\n",
    "    decrypt = list(starmap(xor, [(i, j) for i, j in zip(cipher, key)]))\n",
    "    s = \"\".join(map(chr, decrypt))\n",
    "    w =['the', 'be', 'to', 'of', 'and', 'a', 'in', 'that']\n",
    "    if all([ww in s for ww in w]):\n",
    "        print(key[:3])\n",
    "        print(s)\n",
    "        print(sum(map(ord, list(s))))\n"
   ]
  },
  {
   "cell_type": "code",
   "execution_count": 84,
   "metadata": {},
   "outputs": [
    {
     "output_type": "execute_result",
     "data": {
      "text/plain": [
       "617"
      ]
     },
     "metadata": {},
     "execution_count": 84
    }
   ],
   "source": [
    "\n",
    "len(cand)"
   ]
  },
  {
   "cell_type": "code",
   "execution_count": 85,
   "metadata": {},
   "outputs": [
    {
     "output_type": "execute_result",
     "data": {
      "text/plain": [
       "'Ew aatvxcp9terej9fvvm$mha9ijmrk}ugmikw k\\x7f kwe$vf$\\\\uh|r#j ivsp9cauefkap|d$iat|rw5 &]e$juitiw9sakiakui9razitkogxrqt\"$BOj9tl| wlmw9ob9sakiaj k\\x7f v|cmirkzahj]>9I$qar| v|cawth` bvuj},$humme$lnaapazta}l}5 ew auecxnp9e|irajsmvn$\\x7fov9tl| awtmke$jui9ob9tlps$jevpew91$2 564$2 569$2 56129+$|tg7,$nhmzh$}et|n`j kw pqe$hue}remuv| k\\x7f pqe$zivzla5 wv pqap9ib9tl| pkua9sqt k\\x7f pqiw9sakiaj mj k{tepna},$\\x7frkt mm em kwca9tl| ula`kaplra9ob9tl| gprgue$\\x7fohuosj.$Wai|l}5 M9heoe$\\x7foqwd$mhem pqe$jui9ob9tlps$jevpew9iw9a$ji|mh$iavm k\\x7f pqe$jqqxra9ob9tl| t|rmtep|r$vf$mha9cmkch| sqow| `pai|tak mj 5\" kk f` tltppnc9tl| wlm$vf$mhmj w|rm|s$|qqxl$mo$j,$pt$qaw9tl| vxtmv whrp16-9mqutmilm|d${y$j pv 59ob9tl| t|rmtep|r$mo$mha9dmxmamev7 M9wmul$jokw wqos9tlxt$mha9sqt k\\x7f pqiw9sakiaj pv f| eipvvxmtap|l}91*/40 30)62!46+60*60\" ewd$\\x7frkt illppph`ij~ pqiw9nqtbak f` wpx(9aj} pqej9terij~ pqe$jqqxra9rkvt(9tl| jlmf|r$*.5-11 22,31!93 36*8$ps$pn`|e`9pvvdqze`5 sqigq aapv|sw|s$mha9pakii|tak k\\x7f e9cmkch| sqow| `pai|tak mj 57 Bvlhvwmwg$xgepn$mha9sete$jtais${y$nhmzh$P lxd$xrvpva} em pqiw9sqt,$P lxva9dmjckoev|d$mhem pqe$jui9ob9tl| w|rm|s$( /91+(6$2 56859+$(/6,6$2 5666, /9epz.$xlwv `|pawdw9oj9tl| ula`kaplra9ob9tl| gprgue*9Neteh`,$mha9sqt k\\x7f pqiw9mqutmilm|d${y$ 0$~ir|s$mha9bmhue}reme$1fklrpq tvwak)$vf$mha9cmkcqtfakejze$vf$mha9pakii|tak k\\x7f e9cmkch| sqow| `pai|tak mj 57 Ewd${y$jiiplek v|awvnmwg$P lxva9lmrespsa9ba|n$xbh| pv `|takmmwe$mha9sqts$vf$mha9sq{sahuawt$jevpew9ij9wlpcl9tl| aapkwejms$xra9er|n$wui{evj.'"
      ]
     },
     "metadata": {},
     "execution_count": 85
    }
   ],
   "source": [
    "cand[0]"
   ]
  },
  {
   "cell_type": "code",
   "execution_count": null,
   "metadata": {},
   "outputs": [],
   "source": []
  }
 ]
}