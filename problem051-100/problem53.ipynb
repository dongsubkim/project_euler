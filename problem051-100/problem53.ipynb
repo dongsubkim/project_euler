{
 "metadata": {
  "language_info": {
   "codemirror_mode": {
    "name": "ipython",
    "version": 3
   },
   "file_extension": ".py",
   "mimetype": "text/x-python",
   "name": "python",
   "nbconvert_exporter": "python",
   "pygments_lexer": "ipython3",
   "version": "3.8.5"
  },
  "orig_nbformat": 2,
  "kernelspec": {
   "name": "python385jvsc74a57bd0d0a6fc611dd9351d0e1a9a0fceebb8e7c292efc5334406d2c05ad42c75550574",
   "display_name": "Python 3.8.5 64-bit ('base': conda)"
  }
 },
 "nbformat": 4,
 "nbformat_minor": 2,
 "cells": [
  {
   "source": [
    "<p>There are exactly ten ways of selecting three from five, 12345:</p>\n",
    "<p class=\"center\">123, 124, 125, 134, 135, 145, 234, 235, 245, and 345</p>\n",
    "<p>In combinatorics, we use the notation, $\\displaystyle \\binom 5 3 = 10$.</p>\n",
    "<p>In general, $\\displaystyle \\binom n r = \\dfrac{n!}{r!(n-r)!}$, where $r \\le n$, $n! = n \\times (n-1) \\times ... \\times 3 \\times 2 \\times 1$, and $0! = 1$.\n",
    "</p>\n",
    "<p>It is not until $n = 23$, that a value exceeds one-million: $\\displaystyle \\binom {23} {10} = 1144066$.</p>\n",
    "<p>How many, not necessarily distinct, values of $\\displaystyle \\binom n r$ for $1 \\le n \\le 100$, are greater than one-million?</p>\n",
    "\n"
   ],
   "cell_type": "markdown",
   "metadata": {}
  },
  {
   "cell_type": "code",
   "execution_count": 1,
   "metadata": {},
   "outputs": [],
   "source": [
    "import math"
   ]
  },
  {
   "cell_type": "code",
   "execution_count": 2,
   "metadata": {},
   "outputs": [],
   "source": [
    "def comb(n, r):\n",
    "    return math.factorial(n) / math.factorial(r) / math.factorial(n - r)"
   ]
  },
  {
   "cell_type": "code",
   "execution_count": 56,
   "metadata": {},
   "outputs": [
    {
     "output_type": "stream",
     "name": "stdout",
     "text": [
      "23 10 4\n24 9 7\n25 8 10\n26 8 11\n27 8 12\n28 7 15\n29 7 16\n30 7 17\n31 7 18\n32 7 19\n33 6 22\n34 6 23\n35 6 24\n36 6 25\n37 6 26\n38 6 27\n39 6 28\n40 6 29\n41 6 30\n42 6 31\n43 6 32\n44 5 35\n45 5 36\n46 5 37\n47 5 38\n48 5 39\n49 5 40\n50 5 41\n51 5 42\n52 5 43\n53 5 44\n54 5 45\n55 5 46\n56 5 47\n57 5 48\n58 5 49\n59 5 50\n60 5 51\n61 5 52\n62 5 53\n63 5 54\n64 5 55\n65 5 56\n66 5 57\n67 5 58\n68 5 59\n69 5 60\n70 5 61\n71 5 62\n72 4 65\n73 4 66\n74 4 67\n75 4 68\n76 4 69\n77 4 70\n78 4 71\n79 4 72\n80 4 73\n81 4 74\n82 4 75\n83 4 76\n84 4 77\n85 4 78\n86 4 79\n87 4 80\n88 4 81\n89 4 82\n90 4 83\n91 4 84\n92 4 85\n93 4 86\n94 4 87\n95 4 88\n96 4 89\n97 4 90\n98 4 91\n99 4 92\n100 4 93\n"
     ]
    }
   ],
   "source": [
    "c = 0\n",
    "for n in range(23, 101):\n",
    "    for r in range(4, n // 2):\n",
    "        if comb(n, r) > 1000000:\n",
    "            print(n, r, n - (r-1) * 2 - 1)\n",
    "            c += n - (r-1) * 2 - 1\n",
    "            break"
   ]
  },
  {
   "cell_type": "code",
   "execution_count": 57,
   "metadata": {},
   "outputs": [
    {
     "output_type": "execute_result",
     "data": {
      "text/plain": [
       "4075"
      ]
     },
     "metadata": {},
     "execution_count": 57
    }
   ],
   "source": [
    "c"
   ]
  },
  {
   "cell_type": "code",
   "execution_count": null,
   "metadata": {},
   "outputs": [],
   "source": []
  }
 ]
}