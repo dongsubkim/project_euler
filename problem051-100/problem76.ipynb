{
 "metadata": {
  "language_info": {
   "codemirror_mode": {
    "name": "ipython",
    "version": 3
   },
   "file_extension": ".py",
   "mimetype": "text/x-python",
   "name": "python",
   "nbconvert_exporter": "python",
   "pygments_lexer": "ipython3",
   "version": "3.8.5"
  },
  "orig_nbformat": 2,
  "kernelspec": {
   "name": "python385jvsc74a57bd0d0a6fc611dd9351d0e1a9a0fceebb8e7c292efc5334406d2c05ad42c75550574",
   "display_name": "Python 3.8.5 64-bit ('base': conda)"
  }
 },
 "nbformat": 4,
 "nbformat_minor": 2,
 "cells": [
  {
   "source": [
    "# Problem 76 \n",
    "## [Counting summations](https://projecteuler.net/problem=76)\n",
    "\n",
    "<p>It is possible to write five as a sum in exactly six different ways:</p>\n",
    "<p class=\"margin_left\">4 + 1<br />\n",
    "3 + 2<br />\n",
    "3 + 1 + 1<br />\n",
    "2 + 2 + 1<br />\n",
    "2 + 1 + 1 + 1<br />\n",
    "1 + 1 + 1 + 1 + 1</p>\n",
    "<p>How many different ways can one hundred be written as a sum of at least two positive integers?</p>\n",
    "\n",
    "---\n"
   ],
   "cell_type": "markdown",
   "metadata": {}
  },
  {
   "cell_type": "code",
   "execution_count": 31,
   "metadata": {},
   "outputs": [],
   "source": [
    "def count_number_of_ways_to_sum(target_sum):\n",
    "    \"\"\"\n",
    "    Compute the number of unique ways (order does not matter) of summing to target_sum\n",
    "    using numbers from 1 to target_sum, exclusive.\n",
    "    \"\"\"\n",
    "    if target_sum <= 1:\n",
    "        raise ValueError('there are no numbers greater than 0 less than the target sum')\n",
    "\n",
    "    # ith index contains the answer to the (i + 1)th subproblem\n",
    "    num_ways_to_sum = [0] * (target_sum + 1)\n",
    "\n",
    "    # There is only 1 way to sum to 1\n",
    "    num_ways_to_sum[0] = 1\n",
    "\n",
    "    # Consider sums involving numbers in [1, target_sum)\n",
    "    for i in range(1, target_sum):\n",
    "        # Every subproblem j >= i depends on i\n",
    "        for j in range(i, target_sum + 1):\n",
    "            # The number of ways to sum j includes all the ways to sum i \n",
    "            # with all the ways to sum (j - i) appended (like the parenthesis)\n",
    "            num_ways_to_sum[j] += num_ways_to_sum[j - i]\n",
    "    return num_ways_to_sum[target_sum]\n"
   ]
  },
  {
   "cell_type": "code",
   "execution_count": 32,
   "metadata": {
    "tags": []
   },
   "outputs": [
    {
     "output_type": "execute_result",
     "data": {
      "text/plain": [
       "190569291"
      ]
     },
     "metadata": {},
     "execution_count": 32
    }
   ],
   "source": [
    "count_number_of_ways_to_sum(100)"
   ]
  },
  {
   "cell_type": "code",
   "execution_count": 28,
   "metadata": {},
   "outputs": [
    {
     "output_type": "stream",
     "name": "stdout",
     "text": [
      "[1, 0, 0, 0, 0, 0, 0]\n[1, 1, 0, 0, 0, 0, 0]\n[1, 1, 0, 0, 0, 0, 0]\n[1, 1, 1, 0, 0, 0, 0]\n[1, 1, 1, 0, 0, 0, 0]\n[1, 1, 1, 1, 0, 0, 0]\n[1, 1, 1, 1, 0, 0, 0]\n[1, 1, 1, 1, 1, 0, 0]\n[1, 1, 1, 1, 1, 0, 0]\n[1, 1, 1, 1, 1, 1, 0]\n[1, 1, 1, 1, 1, 1, 0]\n[1, 1, 1, 1, 1, 1, 1]\n[1, 1, 1, 1, 1, 1, 1]\n[1, 1, 2, 1, 1, 1, 1]\n[1, 1, 2, 1, 1, 1, 1]\n[1, 1, 2, 2, 1, 1, 1]\n[1, 1, 2, 2, 1, 1, 1]\n[1, 1, 2, 2, 3, 1, 1]\n[1, 1, 2, 2, 3, 1, 1]\n[1, 1, 2, 2, 3, 3, 1]\n[1, 1, 2, 2, 3, 3, 1]\n[1, 1, 2, 2, 3, 3, 4]\n[1, 1, 2, 2, 3, 3, 4]\n[1, 1, 2, 3, 3, 3, 4]\n[1, 1, 2, 3, 3, 3, 4]\n[1, 1, 2, 3, 4, 3, 4]\n[1, 1, 2, 3, 4, 3, 4]\n[1, 1, 2, 3, 4, 5, 4]\n[1, 1, 2, 3, 4, 5, 4]\n[1, 1, 2, 3, 4, 5, 7]\n[1, 1, 2, 3, 4, 5, 7]\n[1, 1, 2, 3, 5, 5, 7]\n[1, 1, 2, 3, 5, 5, 7]\n[1, 1, 2, 3, 5, 6, 7]\n[1, 1, 2, 3, 5, 6, 7]\n[1, 1, 2, 3, 5, 6, 9]\n[1, 1, 2, 3, 5, 6, 9]\n[1, 1, 2, 3, 5, 7, 9]\n[1, 1, 2, 3, 5, 7, 9]\n[1, 1, 2, 3, 5, 7, 10]\n[1, 1, 2, 3, 5, 7, 10]\n"
     ]
    },
    {
     "output_type": "execute_result",
     "data": {
      "text/plain": [
       "10"
      ]
     },
     "metadata": {},
     "execution_count": 28
    }
   ],
   "source": [
    "    count_number_of_ways_to_sum(6)"
   ]
  },
  {
   "cell_type": "code",
   "execution_count": null,
   "metadata": {},
   "outputs": [],
   "source": []
  }
 ]
}