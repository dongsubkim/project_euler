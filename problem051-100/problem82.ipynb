{
 "metadata": {
  "language_info": {
   "codemirror_mode": {
    "name": "ipython",
    "version": 3
   },
   "file_extension": ".py",
   "mimetype": "text/x-python",
   "name": "python",
   "nbconvert_exporter": "python",
   "pygments_lexer": "ipython3",
   "version": "3.8.5"
  },
  "orig_nbformat": 2,
  "kernelspec": {
   "name": "python385jvsc74a57bd0d0a6fc611dd9351d0e1a9a0fceebb8e7c292efc5334406d2c05ad42c75550574",
   "display_name": "Python 3.8.5 64-bit ('base': conda)"
  }
 },
 "nbformat": 4,
 "nbformat_minor": 2,
 "cells": [
  {
   "source": [
    "# Problem 82 \n",
    "## [Path sum: three ways](https://projecteuler.net/problem=82)\n",
    "\n",
    "<p class=\"small_notice\">NOTE: This problem is a more challenging version of [Problem 81](https://rocky-reef-36065.herokuapp.com/post/61a1d9cc-fd69-4587-6f45-f87784158d9f) .</p>\n",
    "<p>The minimal path sum in the 5 by 5 matrix below, by starting in any cell in the left column and finishing in any cell in the right column, and only moving up, down, and right, is indicated in red and bold; the sum is equal to 994.</p>\n",
    "<div class=\"center\">\n",
    "\n",
    "![Web capture_4-6-2021_1783_projecteuler.net.jpeg](https://res.cloudinary.com/ddeivviyp/image/upload/v1622794110/MyBlog/uugv24dvinzxtnmdq8kq.jpg)\n",
    "\n",
    "</div>\n",
    "<p>Find the minimal path sum from the left column to the right column in [matrix.txt](https://projecteuler.net/project/resources/p082_matrix.txt) (right click and \"Save Link/Target As...\"), a 31K text file containing an 80 by 80 matrix.</p>"
   ],
   "cell_type": "markdown",
   "metadata": {}
  },
  {
   "cell_type": "code",
   "execution_count": 1,
   "metadata": {},
   "outputs": [],
   "source": [
    "import math"
   ]
  },
  {
   "cell_type": "code",
   "execution_count": 9,
   "metadata": {},
   "outputs": [],
   "source": [
    "sample = [[131, 673, 234, 103, 18], [201, 96, 342, 965, 150], [630, 803, 746, 422, 111], [537, 699, 497, 121, 956], [805, 732, 524, 37, 331]]"
   ]
  },
  {
   "cell_type": "code",
   "execution_count": 12,
   "metadata": {},
   "outputs": [],
   "source": [
    "def solution(matrix):\n",
    "    for j in range(1, len(matrix[0])):\n",
    "        temp = []\n",
    "        for i in range(len(matrix)):\n",
    "            temp.append(matrix[i][j] + matrix[i][j-1])\n",
    "        changed = True\n",
    "        while changed:\n",
    "            changed = False\n",
    "            for i in range(len(temp)):\n",
    "                if i > 0 and temp[i-1] + matrix[i][j] < temp[i]:\n",
    "                    temp[i] = temp[i-1] + matrix[i][j]\n",
    "                    changed = True\n",
    "                if i < len(temp)-1 and temp[i+1] + matrix[i][j] < temp[i]:\n",
    "                    temp[i] = temp[i+1] + matrix[i][j]\n",
    "                    changed = True\n",
    "        for i in range(len(matrix)):\n",
    "            matrix[i][j] = temp[i]\n",
    "    return min([r[-1] for r in matrix])"
   ]
  },
  {
   "cell_type": "code",
   "execution_count": 11,
   "metadata": {},
   "outputs": [
    {
     "output_type": "stream",
     "name": "stdout",
     "text": [
      "[[131, 804, 873, 976, 994], [201, 297, 639, 1604, 1144], [630, 1100, 1385, 1807, 1255], [537, 1236, 1733, 1854, 2211], [805, 1537, 2061, 1891, 2222]]\n"
     ]
    },
    {
     "output_type": "execute_result",
     "data": {
      "text/plain": [
       "994"
      ]
     },
     "metadata": {},
     "execution_count": 11
    }
   ],
   "source": [
    "solution(sample)"
   ]
  },
  {
   "cell_type": "code",
   "execution_count": 15,
   "metadata": {},
   "outputs": [],
   "source": [
    "matrix = []\n",
    "with open(\"p082_matrix.txt\", \"r\") as f:\n",
    "    matrix = f.read().splitlines()\n",
    "matrix = [list(map(int, r.split(\",\"))) for r in matrix]"
   ]
  },
  {
   "cell_type": "code",
   "execution_count": 17,
   "metadata": {},
   "outputs": [
    {
     "output_type": "execute_result",
     "data": {
      "text/plain": [
       "260324"
      ]
     },
     "metadata": {},
     "execution_count": 17
    }
   ],
   "source": [
    "solution(matrix)"
   ]
  },
  {
   "cell_type": "code",
   "execution_count": null,
   "metadata": {},
   "outputs": [],
   "source": []
  }
 ]
}