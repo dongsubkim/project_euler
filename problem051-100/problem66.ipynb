{
 "metadata": {
  "language_info": {
   "codemirror_mode": {
    "name": "ipython",
    "version": 3
   },
   "file_extension": ".py",
   "mimetype": "text/x-python",
   "name": "python",
   "nbconvert_exporter": "python",
   "pygments_lexer": "ipython3",
   "version": "3.8.5"
  },
  "orig_nbformat": 2,
  "kernelspec": {
   "name": "python385jvsc74a57bd0d0a6fc611dd9351d0e1a9a0fceebb8e7c292efc5334406d2c05ad42c75550574",
   "display_name": "Python 3.8.5 64-bit ('base': conda)"
  }
 },
 "nbformat": 4,
 "nbformat_minor": 2,
 "cells": [
  {
   "source": [
    "<p>Consider quadratic Diophantine equations of the form:</p>\n",
    "<p class=\"margin_left\"><i>x</i><sup>2</sup> – D<i>y</i><sup>2</sup> = 1</p>\n",
    "<p>For example, when D=13, the minimal solution in <i>x</i> is 649<sup>2</sup> – 13×180<sup>2</sup> = 1.</p>\n",
    "<p>It can be assumed that there are no solutions in positive integers when D is square.</p>\n",
    "<p>By finding minimal solutions in <i>x</i> for D = {2, 3, 5, 6, 7}, we obtain the following:</p>\n",
    "<p class=\"margin_left\">3<sup>2</sup> – 2×2<sup>2</sup> = 1<br />\n",
    "2<sup>2</sup> – 3×1<sup>2</sup> = 1<br /><span class=\"red strong\">9</span><sup>2</sup> – 5×4<sup>2</sup> = 1<br />\n",
    "5<sup>2</sup> – 6×2<sup>2</sup> = 1<br />\n",
    "8<sup>2</sup> – 7×3<sup>2</sup> = 1</p>\n",
    "<p>Hence, by considering minimal solutions in <i>x</i> for D ≤ 7, the largest <i>x</i> is obtained when D=5.</p>\n",
    "<p>Find the value of D ≤ 1000 in minimal solutions of <i>x</i> for which the largest value of <i>x</i> is obtained.</p>\n"
   ],
   "cell_type": "markdown",
   "metadata": {}
  },
  {
   "cell_type": "code",
   "execution_count": 19,
   "metadata": {},
   "outputs": [],
   "source": [
    "import math\n",
    "def foo(D):\n",
    "    # a^2 - D b^2 = k \n",
    "    b = 1\n",
    "    a = int(D**0.5)\n",
    "    k = a**2 - D\n",
    "    while k != 1:\n",
    "        # Find m such that m > 0 such that (a+bm)%k == 0 and abs(m**2 - D) is minimal\n",
    "        # update a, b, k := (am+Db)/abs(k), (a+bm)/abs(k), (m**2-D)/k\n",
    "        m = 1\n",
    "        minimal = math.inf\n",
    "        min_m = 1\n",
    "        while m < D:\n",
    "            if (a + b * m) % k == 0 and abs(m**2 - D) < minimal:\n",
    "                minimal = abs(m**2 - D)\n",
    "                min_m = m\n",
    "            m +=1\n",
    "        m = min_m\n",
    "        a, b, k = (a*m+D*b)// abs(k), (a+b*m) // abs(k), (m**2-D)//k\n",
    "    return a, D"
   ]
  },
  {
   "cell_type": "code",
   "execution_count": 20,
   "metadata": {},
   "outputs": [],
   "source": [
    "def solution(s, N):\n",
    "    max_pair = [0,0]\n",
    "    for i in range(s, N+1):\n",
    "        if int(i**0.5)**2 == i:\n",
    "            continue\n",
    "        ans = foo(i)\n",
    "        # print(ans)\n",
    "        if max_pair[0] < ans[0]:\n",
    "            max_pair = ans\n",
    "    return max_pair"
   ]
  },
  {
   "cell_type": "code",
   "execution_count": 18,
   "metadata": {
    "tags": []
   },
   "outputs": [
    {
     "output_type": "stream",
     "name": "stdout",
     "text": [
      "(16421658242965910275055840472270471049, 661)\n796 ms ± 0 ns per loop (mean ± std. dev. of 1 run, 1 loop each)\n"
     ]
    }
   ],
   "source": [
    "%%timeit -n1 -r1\n",
    "print(solution(2, 1000))"
   ]
  },
  {
   "cell_type": "code",
   "execution_count": null,
   "metadata": {},
   "outputs": [],
   "source": []
  }
 ]
}