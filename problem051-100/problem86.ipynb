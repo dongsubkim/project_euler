{
 "metadata": {
  "language_info": {
   "codemirror_mode": {
    "name": "ipython",
    "version": 3
   },
   "file_extension": ".py",
   "mimetype": "text/x-python",
   "name": "python",
   "nbconvert_exporter": "python",
   "pygments_lexer": "ipython3",
   "version": "3.8.5"
  },
  "orig_nbformat": 2,
  "kernelspec": {
   "name": "python385jvsc74a57bd0d0a6fc611dd9351d0e1a9a0fceebb8e7c292efc5334406d2c05ad42c75550574",
   "display_name": "Python 3.8.5 64-bit ('base': conda)"
  }
 },
 "nbformat": 4,
 "nbformat_minor": 2,
 "cells": [
  {
   "source": [
    "# Problem 86 \n",
    "## [Cuboid route](https://projecteuler.net/problem=86)\n",
    "\n",
    "<p>A spider, S, sits in one corner of a cuboid room, measuring 6 by 5 by 3, and a fly, F, sits in the opposite corner. By travelling on the surfaces of the room the shortest \"straight line\" distance from S to F is 10 and the path is shown on the diagram.</p>\n",
    "<div class=\"center\">\n",
    "\n",
    "![p086.png](https://res.cloudinary.com/ddeivviyp/image/upload/v1623142400/MyBlog/nwcpznoudx4toh9wjqq9.png)\n",
    "\n",
    "\n",
    "<p>However, there are up to three \"shortest\" path candidates for any given cuboid and the shortest route doesn't always have integer length.</p>\n",
    "<p>It can be shown that there are exactly 2060 distinct cuboids, ignoring rotations, with integer dimensions, up to a maximum size of M by M by M, for which the shortest route has integer length when M = 100. This is the least value of M for which the number of solutions first exceeds two thousand; the number of solutions when M = 99 is 1975.</p>\n",
    "<p>Find the least value of M such that the number of solutions first exceeds one million.</p>\n",
    "\n",
    "---"
   ],
   "cell_type": "markdown",
   "metadata": {}
  },
  {
   "cell_type": "code",
   "execution_count": 16,
   "metadata": {},
   "outputs": [],
   "source": [
    "import math\n",
    "from itertools import combinations_with_replacement"
   ]
  },
  {
   "cell_type": "code",
   "execution_count": 17,
   "metadata": {},
   "outputs": [],
   "source": [
    "def check(a, b, c):\n",
    "    s = (a+b)**2 + c**2\n",
    "    if math.isqrt(s)**2 == s:\n",
    "        return True\n",
    "    return False\n"
   ]
  },
  {
   "cell_type": "code",
   "execution_count": 41,
   "metadata": {},
   "outputs": [],
   "source": [
    "def solution(limit):\n",
    "    c = 0\n",
    "    d = 2\n",
    "    while c < limit:\n",
    "        d += 1\n",
    "        for wh in range(3, 2*d+1):\n",
    "            s = wh**2 + d**2\n",
    "            if math.isqrt(s)**2 == s:\n",
    "                if wh <= d:\n",
    "                    c += wh//2\n",
    "                else:\n",
    "                    c += 1 + (d - (wh+1)//2)\n",
    "    return d, c\n"
   ]
  },
  {
   "cell_type": "code",
   "execution_count": 42,
   "metadata": {},
   "outputs": [
    {
     "output_type": "execute_result",
     "data": {
      "text/plain": [
       "(1818, 1000457)"
      ]
     },
     "metadata": {},
     "execution_count": 42
    }
   ],
   "source": [
    "solution(1000000)"
   ]
  },
  {
   "cell_type": "code",
   "execution_count": null,
   "metadata": {},
   "outputs": [],
   "source": []
  }
 ]
}