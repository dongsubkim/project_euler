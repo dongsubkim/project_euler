{
 "metadata": {
  "language_info": {
   "codemirror_mode": {
    "name": "ipython",
    "version": 3
   },
   "file_extension": ".py",
   "mimetype": "text/x-python",
   "name": "python",
   "nbconvert_exporter": "python",
   "pygments_lexer": "ipython3",
   "version": "3.8.5"
  },
  "orig_nbformat": 2,
  "kernelspec": {
   "name": "python385jvsc74a57bd0d0a6fc611dd9351d0e1a9a0fceebb8e7c292efc5334406d2c05ad42c75550574",
   "display_name": "Python 3.8.5 64-bit ('base': conda)"
  }
 },
 "nbformat": 4,
 "nbformat_minor": 2,
 "cells": [
  {
   "source": [
    "<p>Euler's Totient function, φ(<i>n</i>) [sometimes called the phi function], is used to determine the number of numbers less than <i>n</i> which are relatively prime to <i>n</i>. For example, as 1, 2, 4, 5, 7, and 8, are all less than nine and relatively prime to nine, φ(9)=6.</p>\n",
    "<div class=\"center\">\n",
    "<table class=\"grid center\"><tr><td><b><i>n</i></b></td>\n",
    "<td><b>Relatively Prime</b></td>\n",
    "<td><b>φ(<i>n</i>)</b></td>\n",
    "<td><b><i>n</i>/φ(<i>n</i>)</b></td>\n",
    "</tr><tr><td>2</td>\n",
    "<td>1</td>\n",
    "<td>1</td>\n",
    "<td>2</td>\n",
    "</tr><tr><td>3</td>\n",
    "<td>1,2</td>\n",
    "<td>2</td>\n",
    "<td>1.5</td>\n",
    "</tr><tr><td>4</td>\n",
    "<td>1,3</td>\n",
    "<td>2</td>\n",
    "<td>2</td>\n",
    "</tr><tr><td>5</td>\n",
    "<td>1,2,3,4</td>\n",
    "<td>4</td>\n",
    "<td>1.25</td>\n",
    "</tr><tr><td>6</td>\n",
    "<td>1,5</td>\n",
    "<td>2</td>\n",
    "<td>3</td>\n",
    "</tr><tr><td>7</td>\n",
    "<td>1,2,3,4,5,6</td>\n",
    "<td>6</td>\n",
    "<td>1.1666...</td>\n",
    "</tr><tr><td>8</td>\n",
    "<td>1,3,5,7</td>\n",
    "<td>4</td>\n",
    "<td>2</td>\n",
    "</tr><tr><td>9</td>\n",
    "<td>1,2,4,5,7,8</td>\n",
    "<td>6</td>\n",
    "<td>1.5</td>\n",
    "</tr><tr><td>10</td>\n",
    "<td>1,3,7,9</td>\n",
    "<td>4</td>\n",
    "<td>2.5</td>\n",
    "</tr></table></div>\n",
    "<p>It can be seen that <i>n</i>=6 produces a maximum <i>n</i>/φ(<i>n</i>) for <i>n</i> ≤ 10.</p>\n",
    "<p>Find the value of <i>n</i> ≤ 1,000,000 for which <i>n</i>/φ(<i>n</i>) is a maximum.</p>\n"
   ],
   "cell_type": "markdown",
   "metadata": {}
  },
  {
   "cell_type": "code",
   "execution_count": 1,
   "metadata": {},
   "outputs": [],
   "source": [
    "import math"
   ]
  },
  {
   "cell_type": "code",
   "execution_count": 18,
   "metadata": {},
   "outputs": [],
   "source": []
  },
  {
   "cell_type": "code",
   "execution_count": 54,
   "metadata": {},
   "outputs": [],
   "source": [
    "def phi(n):\n",
    "    s = set(range(1, n))\n",
    "    for p in primes:\n",
    "        if n % p == 0:\n",
    "            s -= set([p*i for i in range(1, n//p)])\n",
    "        if p > n//2:\n",
    "            break\n",
    "    if len(s) == n-1:\n",
    "        primes.append(n)\n",
    "    return n/len(s)"
   ]
  },
  {
   "cell_type": "code",
   "execution_count": 64,
   "metadata": {},
   "outputs": [],
   "source": [
    "primes = []\n",
    "def solution():\n",
    "    maxv, maxi = 0, 0\n",
    "    for n in range(2, 10001):\n",
    "        v = phi(n)\n",
    "        # print(n, v)\n",
    "        if v > maxv:\n",
    "            maxv, maxi = v, n\n",
    "    return maxi, maxv\n"
   ]
  },
  {
   "cell_type": "code",
   "execution_count": 65,
   "metadata": {},
   "outputs": [
    {
     "output_type": "stream",
     "name": "stdout",
     "text": [
      "(2310, 4.8125)\n3.24 s ± 0 ns per loop (mean ± std. dev. of 1 run, 1 loop each)\n"
     ]
    }
   ],
   "source": [
    "%%timeit -n1 -r1\n",
    "print(solution())"
   ]
  },
  {
   "cell_type": "code",
   "execution_count": 71,
   "metadata": {},
   "outputs": [
    {
     "output_type": "execute_result",
     "data": {
      "text/plain": [
       "510510"
      ]
     },
     "metadata": {},
     "execution_count": 71
    }
   ],
   "source": [
    "2*3*5*7*11*13*17"
   ]
  },
  {
   "cell_type": "code",
   "execution_count": null,
   "metadata": {},
   "outputs": [],
   "source": []
  }
 ]
}