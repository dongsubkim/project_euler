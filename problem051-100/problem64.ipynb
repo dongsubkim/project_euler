{
 "metadata": {
  "language_info": {
   "codemirror_mode": {
    "name": "ipython",
    "version": 3
   },
   "file_extension": ".py",
   "mimetype": "text/x-python",
   "name": "python",
   "nbconvert_exporter": "python",
   "pygments_lexer": "ipython3",
   "version": "3.8.5"
  },
  "orig_nbformat": 2,
  "kernelspec": {
   "name": "python385jvsc74a57bd0d0a6fc611dd9351d0e1a9a0fceebb8e7c292efc5334406d2c05ad42c75550574",
   "display_name": "Python 3.8.5 64-bit ('base': conda)"
  }
 },
 "nbformat": 4,
 "nbformat_minor": 2,
 "cells": [
  {
   "source": [
    "<p>All square roots are periodic when written as continued fractions and can be written in the form:</p>\n",
    "\n",
    "$$\\displaystyle \\quad \\quad \\sqrt{N}=a_0+\\frac 1 {a_1+\\frac 1 {a_2+ \\frac 1 {a3+ \\dots}}}$$\n",
    "\n",
    "<p>For example, let us consider $\\sqrt{23}:$ </p>\n",
    "$\\quad \\quad \\sqrt{23}=4+\\sqrt{23}-4=4+\\frac 1 {\\frac 1 {\\sqrt{23}-4}}=4+\\frac 1  {1+\\frac{\\sqrt{23}-3}7}$\n",
    "\n",
    "<p>If we continue we would get the following expansion:</p>\n",
    "\n",
    "$\\displaystyle \\quad \\quad \\sqrt{23}=4+\\frac 1 {1+\\frac 1 {3+ \\frac 1 {1+\\frac 1 {8+ \\dots}}}}$\n",
    "\n",
    "<p>The process can be summarised as follows:</p>\n",
    "<p>\n",
    "$\\quad \\quad a_0=4, \\frac 1 {\\sqrt{23}-4}=\\frac {\\sqrt{23}+4} 7=1+\\frac {\\sqrt{23}-3} 7$<br />\n",
    "$\\quad \\quad a_1=1, \\frac 7 {\\sqrt{23}-3}=\\frac {7(\\sqrt{23}+3)} {14}=3+\\frac {\\sqrt{23}-3} 2$<br />\n",
    "$\\quad \\quad a_2=3, \\frac 2 {\\sqrt{23}-3}=\\frac {2(\\sqrt{23}+3)} {14}=1+\\frac {\\sqrt{23}-4} 7$<br />\n",
    "$\\quad \\quad a_3=1, \\frac 7 {\\sqrt{23}-4}=\\frac {7(\\sqrt{23}+4)} 7=8+\\sqrt{23}-4$<br />\n",
    "$\\quad \\quad a_4=8, \\frac 1 {\\sqrt{23}-4}=\\frac {\\sqrt{23}+4} 7=1+\\frac {\\sqrt{23}-3} 7$<br />\n",
    "$\\quad \\quad a_5=1, \\frac 7 {\\sqrt{23}-3}=\\frac {7 (\\sqrt{23}+3)} {14}=3+\\frac {\\sqrt{23}-3} 2$<br />\n",
    "\n",
    "$\\quad \\quad a_6=3, \\frac 2 {\\sqrt{23}-3}=\\frac {2(\\sqrt{23}+3)} {14}=1+\\frac {\\sqrt{23}-4} 7$<br />\n",
    "$\\quad \\quad a_7=1, \\frac 7 {\\sqrt{23}-4}=\\frac {7(\\sqrt{23}+4)} {7}=8+\\sqrt{23}-4$<br />\n",
    "</p>\n",
    "\n",
    "<p>It can be seen that the sequence is repeating. For conciseness, we use the notation $\\sqrt{23}=[4;(1,3,1,8)]$, to indicate that the block (1,3,1,8) repeats indefinitely.</p>\n",
    "\n",
    "<p>The first ten continued fraction representations of (irrational) square roots are:</p>\n",
    "<p>\n",
    "$\\quad \\quad \\sqrt{2}=[1;(2)]$, period=$1$<br />\n",
    "$\\quad \\quad \\sqrt{3}=[1;(1,2)]$, period=$2$<br />\n",
    "$\\quad \\quad \\sqrt{5}=[2;(4)]$, period=$1$<br />\n",
    "$\\quad \\quad \\sqrt{6}=[2;(2,4)]$, period=$2$<br />\n",
    "$\\quad \\quad \\sqrt{7}=[2;(1,1,1,4)]$, period=$4$<br />\n",
    "$\\quad \\quad \\sqrt{8}=[2;(1,4)]$, period=$2$<br />\n",
    "$\\quad \\quad \\sqrt{10}=[3;(6)]$, period=$1$<br />\n",
    "$\\quad \\quad \\sqrt{11}=[3;(3,6)]$, period=$2$<br />\n",
    "$\\quad \\quad \\sqrt{12}=[3;(2,6)]$, period=$2$<br />\n",
    "$\\quad \\quad \\sqrt{13}=[3;(1,1,1,1,6)]$, period=$5$\n",
    "</p>\n",
    "<p>Exactly four continued fractions, for $N \\le 13$, have an odd period.</p>\n",
    "<p>How many continued fractions for $N \\le 10\\,000$ have an odd period?</p>\n"
   ],
   "cell_type": "markdown",
   "metadata": {}
  },
  {
   "cell_type": "code",
   "execution_count": 1,
   "metadata": {},
   "outputs": [
    {
     "output_type": "execute_result",
     "data": {
      "text/plain": [
       "1.4142135623730951"
      ]
     },
     "metadata": {},
     "execution_count": 1
    }
   ],
   "source": [
    "2 ** 0.5"
   ]
  },
  {
   "cell_type": "code",
   "execution_count": 3,
   "metadata": {},
   "outputs": [],
   "source": [
    "def solution(N):\n",
    "    c = 0\n",
    "    for S in range(1, N):\n",
    "        m, d, a = 0, 1, int(S**0.5)\n",
    "        if S == a * a:\n",
    "            continue\n",
    "        a0 = a\n",
    "        p = 0\n",
    "        while a != 2*a0:\n",
    "            m = d * a - m\n",
    "            d = (S - m * m) // d\n",
    "            a = (S**0.5 + m) // d\n",
    "            p += 1\n",
    "        if p % 2 == 1:\n",
    "            c += 1\n",
    "    return c"
   ]
  },
  {
   "cell_type": "code",
   "execution_count": 5,
   "metadata": {},
   "outputs": [
    {
     "output_type": "execute_result",
     "data": {
      "text/plain": [
       "1322"
      ]
     },
     "metadata": {},
     "execution_count": 5
    }
   ],
   "source": [
    "solution(10001)"
   ]
  },
  {
   "cell_type": "code",
   "execution_count": null,
   "metadata": {},
   "outputs": [],
   "source": []
  }
 ]
}