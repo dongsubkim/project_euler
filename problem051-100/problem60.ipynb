{
 "metadata": {
  "language_info": {
   "codemirror_mode": {
    "name": "ipython",
    "version": 3
   },
   "file_extension": ".py",
   "mimetype": "text/x-python",
   "name": "python",
   "nbconvert_exporter": "python",
   "pygments_lexer": "ipython3",
   "version": "3.8.5"
  },
  "orig_nbformat": 2,
  "kernelspec": {
   "name": "python385jvsc74a57bd0d0a6fc611dd9351d0e1a9a0fceebb8e7c292efc5334406d2c05ad42c75550574",
   "display_name": "Python 3.8.5 64-bit ('base': conda)"
  }
 },
 "nbformat": 4,
 "nbformat_minor": 2,
 "cells": [
  {
   "source": [
    "The primes 3, 7, 109, and 673, are quite remarkable. By taking any two primes and concatenating them in any order the result will always be prime. For example, taking 7 and 109, both 7109 and 1097 are prime. The sum of these four primes, 792, represents the lowest sum for a set of four primes with this property.\n",
    "\n",
    "Find the lowest sum for a set of five primes for which any two primes concatenate to produce another prime."
   ],
   "cell_type": "markdown",
   "metadata": {}
  },
  {
   "cell_type": "code",
   "execution_count": 49,
   "metadata": {},
   "outputs": [],
   "source": [
    "import math\n",
    "from collections import defaultdict\n",
    "from itertools import product, combinations, permutations\n",
    "primes = set()"
   ]
  },
  {
   "cell_type": "code",
   "execution_count": 50,
   "metadata": {},
   "outputs": [],
   "source": [
    "def is_prime(n):\n",
    "    if n in primes:\n",
    "        return True\n",
    "    if n % 2 == 0:\n",
    "        if n == 2:\n",
    "            return True\n",
    "        else:\n",
    "            return False\n",
    "    for p in primes:\n",
    "        if p <= math.sqrt(n) and n % p == 0:\n",
    "            return False\n",
    "    for i in range(3, int(math.sqrt(n))+1, 2):\n",
    "        if n % i == 0:\n",
    "            return False\n",
    "    return True"
   ]
  },
  {
   "cell_type": "code",
   "execution_count": 55,
   "metadata": {},
   "outputs": [],
   "source": [
    "def concat_prime(a, b):\n",
    "    if is_prime(int(str(a)+str(b))) and is_prime(int(str(b)+str(a))):\n",
    "        return True\n",
    "    return False\n",
    "    "
   ]
  },
  {
   "cell_type": "code",
   "execution_count": 52,
   "metadata": {},
   "outputs": [],
   "source": [
    "for i in range(2, 10000):\n",
    "    if is_prime(i):\n",
    "        primes.add(i)"
   ]
  },
  {
   "cell_type": "code",
   "execution_count": 58,
   "metadata": {},
   "outputs": [],
   "source": [
    "def foo():\n",
    "    for a in primes:\n",
    "        for b in primes:\n",
    "            if b < a or not concat_prime(a, b):\n",
    "                continue\n",
    "            for c in primes:\n",
    "                if c < b or not (concat_prime(a, c) and concat_prime(b, c)):\n",
    "                    continue\n",
    "                for d in primes:\n",
    "                    if d < c or not (concat_prime(a, d) and concat_prime(b, d) and concat_prime(c, d)):\n",
    "                        continue\n",
    "                    for e in primes:\n",
    "                        if e < d or not (concat_prime(a, e) and concat_prime(b, e) and concat_prime(c, e) and concat_prime(d, e)):\n",
    "                            continue\n",
    "                        print(a, b, c, d, e)\n",
    "                        return a + b + c + d + e\n",
    "\n"
   ]
  },
  {
   "cell_type": "code",
   "execution_count": 59,
   "metadata": {},
   "outputs": [
    {
     "output_type": "stream",
     "name": "stdout",
     "text": [
      "13 5197 5701 6733 8389\n"
     ]
    },
    {
     "output_type": "execute_result",
     "data": {
      "text/plain": [
       "26033"
      ]
     },
     "metadata": {},
     "execution_count": 59
    }
   ],
   "source": [
    "foo()"
   ]
  },
  {
   "cell_type": "code",
   "execution_count": null,
   "metadata": {},
   "outputs": [],
   "source": []
  }
 ]
}