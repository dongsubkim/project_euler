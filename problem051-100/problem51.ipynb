{
 "metadata": {
  "language_info": {
   "codemirror_mode": {
    "name": "ipython",
    "version": 3
   },
   "file_extension": ".py",
   "mimetype": "text/x-python",
   "name": "python",
   "nbconvert_exporter": "python",
   "pygments_lexer": "ipython3",
   "version": "3.8.5"
  },
  "orig_nbformat": 2,
  "kernelspec": {
   "name": "python385jvsc74a57bd0d0a6fc611dd9351d0e1a9a0fceebb8e7c292efc5334406d2c05ad42c75550574",
   "display_name": "Python 3.8.5 64-bit ('base': conda)"
  }
 },
 "nbformat": 4,
 "nbformat_minor": 2,
 "cells": [
  {
   "source": [
    "\n",
    "<p>By replacing the 1<sup>st</sup> digit of the 2-digit number *3, it turns out that six of the nine possible values: 13, 23, 43, 53, 73, and 83, are all prime.</p>\n",
    "<p>By replacing the 3<sup>rd</sup> and 4<sup>th</sup> digits of 56**3 with the same digit, this 5-digit number is the first example having seven primes among the ten generated numbers, yielding the family: 56003, 56113, 56333, 56443, 56663, 56773, and 56993. Consequently 56003, being the first member of this family, is the smallest prime with this property.</p>\n",
    "<p>Find the smallest prime which, by replacing part of the number (not necessarily adjacent digits) with the same digit, is part of an eight prime value family.</p>\n",
    "\n"
   ],
   "cell_type": "markdown",
   "metadata": {}
  },
  {
   "cell_type": "code",
   "execution_count": 6,
   "metadata": {},
   "outputs": [],
   "source": [
    "import math\n",
    "import utils\n",
    "primes = {\n",
    "    1: set(),\n",
    "    2: set(),\n",
    "    3: set(),\n",
    "    4: set(),\n",
    "    5: set(),\n",
    "    6: set()\n",
    "}\n"
   ]
  },
  {
   "cell_type": "code",
   "execution_count": 27,
   "metadata": {},
   "outputs": [],
   "source": [
    "from itertools import permutations, combinations"
   ]
  },
  {
   "cell_type": "code",
   "execution_count": 7,
   "metadata": {},
   "outputs": [],
   "source": [
    "for i in range(2, 1000000):\n",
    "    if utils.is_prime(i):\n",
    "        primes[len(str(i))].add(i)\n"
   ]
  },
  {
   "cell_type": "code",
   "execution_count": 15,
   "metadata": {},
   "outputs": [
    {
     "output_type": "execute_result",
     "data": {
      "text/plain": [
       "68906"
      ]
     },
     "metadata": {},
     "execution_count": 15
    }
   ],
   "source": [
    "len(primes[6])"
   ]
  },
  {
   "cell_type": "code",
   "execution_count": 18,
   "metadata": {},
   "outputs": [],
   "source": [
    "def family(num, ind):\n",
    "    num = str(num)\n",
    "    res = []\n",
    "    if 0 in ind:\n",
    "        r = range(1, 10)\n",
    "    else:\n",
    "        r = range(10)\n",
    "    for i in r:\n",
    "        v = list(num)\n",
    "        for j in ind:\n",
    "            v[j] = str(i)\n",
    "        res.append(int(\"\".join(v)))\n",
    "    return res"
   ]
  },
  {
   "cell_type": "code",
   "execution_count": 19,
   "metadata": {},
   "outputs": [
    {
     "output_type": "execute_result",
     "data": {
      "text/plain": [
       "[56003, 56113, 56223, 56333, 56443, 56553, 56663, 56773, 56883, 56993]"
      ]
     },
     "metadata": {},
     "execution_count": 19
    }
   ],
   "source": [
    "family(56003, [2, 3])"
   ]
  },
  {
   "cell_type": "code",
   "execution_count": 48,
   "metadata": {},
   "outputs": [],
   "source": [
    "def same_digits(num, ind):\n",
    "    num = str(num)\n",
    "    return all([num[i] == num[ind[0]] for i in ind])"
   ]
  },
  {
   "cell_type": "code",
   "execution_count": 84,
   "metadata": {},
   "outputs": [],
   "source": [
    "def solution(n, t):\n",
    "    for i in range(1,n):\n",
    "        for ind in combinations(range(n), i):\n",
    "            family_cand = []\n",
    "            for p in primes[n]:\n",
    "                if same_digits(p, ind):\n",
    "                    family_cand.append(p)\n",
    "            ret = real_family(family_cand, ind, n, t)\n",
    "            if ret:\n",
    "                print(ret, ind)\n",
    "                common, min_d = ret[0], min(ret[1])\n",
    "                num = \"\"\n",
    "                for i in range(n):\n",
    "                    if i in ind:\n",
    "                        num += min_d\n",
    "                    else:\n",
    "                        num += common[0]\n",
    "                        common = common[1:]\n",
    "                return num\n",
    "            \n"
   ]
  },
  {
   "cell_type": "code",
   "execution_count": 82,
   "metadata": {},
   "outputs": [],
   "source": [
    "from collections import defaultdict\n",
    "def real_family(family, ind, n, t):\n",
    "    fam = defaultdict(list)\n",
    "    for n in family:\n",
    "        n = list(str(n))\n",
    "        v = \"\".join([x for i, x in enumerate(n) if i not in ind])\n",
    "        fam[v].append(n[ind[0]])\n",
    "    for k, v in fam.items():\n",
    "        if len(v) == t:\n",
    "            return k, v\n",
    "    return False"
   ]
  },
  {
   "cell_type": "code",
   "execution_count": 85,
   "metadata": {
    "tags": []
   },
   "outputs": [
    {
     "output_type": "stream",
     "name": "stdout",
     "text": [
      "('233', ['5', '9', '4', '8', '3', '2', '6', '1']) (0, 2, 4)\n121313\n"
     ]
    }
   ],
   "source": [
    "for i in range(2,7):\n",
    "    ret = solution(i, 8)\n",
    "    if ret:\n",
    "        print(ret)"
   ]
  },
  {
   "cell_type": "code",
   "execution_count": null,
   "metadata": {},
   "outputs": [],
   "source": []
  }
 ]
}