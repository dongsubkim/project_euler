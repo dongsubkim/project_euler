{
 "metadata": {
  "language_info": {
   "codemirror_mode": {
    "name": "ipython",
    "version": 3
   },
   "file_extension": ".py",
   "mimetype": "text/x-python",
   "name": "python",
   "nbconvert_exporter": "python",
   "pygments_lexer": "ipython3",
   "version": "3.8.5"
  },
  "orig_nbformat": 2,
  "kernelspec": {
   "name": "python385jvsc74a57bd0d0a6fc611dd9351d0e1a9a0fceebb8e7c292efc5334406d2c05ad42c75550574",
   "display_name": "Python 3.8.5 64-bit ('base': conda)"
  }
 },
 "nbformat": 4,
 "nbformat_minor": 2,
 "cells": [
  {
   "source": [
    "# Problem 81\n",
    "## [Path sum: two ways](https://projecteuler.net/problem=81)\n",
    "\n",
    "<p>In the 5 by 5 matrix below, the minimal path sum from the top left to the bottom right, by <b>only moving to the right and down</b>, is indicated in bold red and is equal to 2427.</p>\n",
    "<div class=\"center\" styple=\"width:560px;height:290px;\">\n",
    "\n",
    "![Screen Shot 2021-06-03 at 5.17.22 PM.png](https://res.cloudinary.com/ddeivviyp/image/upload/v1622708303/MyBlog/bwwrnienqlkzopgbehkg.png)\n",
    "\n",
    "</div>\n",
    "<p>Find the minimal path sum from the top left to the bottom right by only moving right and down in <a href=\"https://projecteuler.net/project/resources/p081_matrix.txt\">matrix.txt</a> (right click and \"Save Link/Target As...\"), a 31K text file containing an 80 by 80 matrix.</p>"
   ],
   "cell_type": "markdown",
   "metadata": {}
  },
  {
   "cell_type": "code",
   "execution_count": 17,
   "metadata": {},
   "outputs": [],
   "source": [
    "matrix = []\n",
    "with open(\"p081_matrix.txt\", \"r\") as f:\n",
    "    matrix = f.read().splitlines()"
   ]
  },
  {
   "cell_type": "code",
   "execution_count": 18,
   "metadata": {},
   "outputs": [],
   "source": [
    "matrix = [list(map(int, r.split(\",\"))) for r in matrix]"
   ]
  },
  {
   "cell_type": "code",
   "execution_count": 9,
   "metadata": {},
   "outputs": [],
   "source": [
    "sample = [[131, 673, 234, 103, 18], [201, 96, 342, 965, 150], [630, 803, 746, 422, 111], [537, 699, 497, 121, 956], [805, 732, 524, 37, 331]]"
   ]
  },
  {
   "cell_type": "code",
   "execution_count": 10,
   "metadata": {},
   "outputs": [
    {
     "output_type": "execute_result",
     "data": {
      "text/plain": [
       "[[131, 673, 234, 103, 18],\n",
       " [201, 96, 342, 965, 150],\n",
       " [630, 803, 746, 422, 111],\n",
       " [537, 699, 497, 121, 956],\n",
       " [805, 732, 524, 37, 331]]"
      ]
     },
     "metadata": {},
     "execution_count": 10
    }
   ],
   "source": [
    "sample"
   ]
  },
  {
   "cell_type": "code",
   "execution_count": 11,
   "metadata": {},
   "outputs": [],
   "source": [
    "import math"
   ]
  },
  {
   "cell_type": "code",
   "execution_count": 13,
   "metadata": {},
   "outputs": [],
   "source": [
    "def solution(matrix):\n",
    "    for i in range(len(matrix)):\n",
    "        for j in range(len(matrix[0])):\n",
    "            if i == 0 and j == 0:\n",
    "                continue\n",
    "            left = matrix[i][j-1] if j>0 else math.inf\n",
    "            up = matrix[i-1][j] if i > 0 else math.inf\n",
    "            matrix[i][j] += min(left, up)\n",
    "    return matrix[-1][-1]"
   ]
  },
  {
   "cell_type": "code",
   "execution_count": 20,
   "metadata": {},
   "outputs": [
    {
     "output_type": "execute_result",
     "data": {
      "text/plain": [
       "427337"
      ]
     },
     "metadata": {},
     "execution_count": 20
    }
   ],
   "source": [
    "solution(matrix)"
   ]
  },
  {
   "cell_type": "code",
   "execution_count": null,
   "metadata": {},
   "outputs": [],
   "source": []
  }
 ]
}