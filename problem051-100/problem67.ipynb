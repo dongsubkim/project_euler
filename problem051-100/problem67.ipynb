{
 "metadata": {
  "language_info": {
   "codemirror_mode": {
    "name": "ipython",
    "version": 3
   },
   "file_extension": ".py",
   "mimetype": "text/x-python",
   "name": "python",
   "nbconvert_exporter": "python",
   "pygments_lexer": "ipython3",
   "version": "3.8.5"
  },
  "orig_nbformat": 2,
  "kernelspec": {
   "name": "python385jvsc74a57bd0d0a6fc611dd9351d0e1a9a0fceebb8e7c292efc5334406d2c05ad42c75550574",
   "display_name": "Python 3.8.5 64-bit ('base': conda)"
  }
 },
 "nbformat": 4,
 "nbformat_minor": 2,
 "cells": [
  {
   "source": [
    "<p>By starting at the top of the triangle below and moving to adjacent numbers on the row below, the maximum total from top to bottom is 23.</p>\n",
    "<p class=\"monospace center\"><span class=\"red\"><b>3</b></span><br /><span class=\"red\"><b>7</b></span> 4<br />\n",
    "2 <span class=\"red\"><b>4</b></span> 6<br />\n",
    "8 5 <span class=\"red\"><b>9</b></span> 3</p>\n",
    "<p>That is, 3 + 7 + 4 + 9 = 23.</p>\n",
    "<p>Find the maximum total from top to bottom in <a href=\"project/resources/p067_triangle.txt\">triangle.txt</a> (right click and 'Save Link/Target As...'), a 15K text file containing a triangle with one-hundred rows.</p>\n",
    "<p class=\"smaller\"><b>NOTE:</b> This is a much more difficult version of <a href=\"problem=18\">Problem 18</a>. It is not possible to try every route to solve this problem, as there are 2<sup>99</sup> altogether! If you could check one trillion (10<sup>12</sup>) routes every second it would take over twenty billion years to check them all. There is an efficient algorithm to solve it. ;o)</p>\n"
   ],
   "cell_type": "markdown",
   "metadata": {}
  },
  {
   "cell_type": "code",
   "execution_count": 3,
   "metadata": {},
   "outputs": [],
   "source": [
    "triangles = []\n",
    "with open(\"p067_triangle.txt\", 'r') as f:\n",
    "    triangles =  f.read().splitlines() "
   ]
  },
  {
   "cell_type": "code",
   "execution_count": 8,
   "metadata": {},
   "outputs": [],
   "source": [
    "triangles = [list(map(int, r.split(\" \"))) for r in triangles]"
   ]
  },
  {
   "cell_type": "code",
   "execution_count": 11,
   "metadata": {},
   "outputs": [
    {
     "output_type": "execute_result",
     "data": {
      "text/plain": [
       "[73, 41]"
      ]
     },
     "metadata": {},
     "execution_count": 11
    }
   ],
   "source": [
    "triangles[1]"
   ]
  },
  {
   "cell_type": "code",
   "execution_count": 12,
   "metadata": {},
   "outputs": [],
   "source": [
    "for i in range(len(triangles)-2, -1, -1):\n",
    "    row = triangles[i]\n",
    "    next = triangles[i+1]\n",
    "    for i in range(len(row)):\n",
    "        row[i] += max(next[i], next[i+1])\n",
    "        "
   ]
  },
  {
   "cell_type": "code",
   "execution_count": 13,
   "metadata": {},
   "outputs": [
    {
     "output_type": "execute_result",
     "data": {
      "text/plain": [
       "[7273]"
      ]
     },
     "metadata": {},
     "execution_count": 13
    }
   ],
   "source": [
    "triangles[0]"
   ]
  },
  {
   "cell_type": "code",
   "execution_count": null,
   "metadata": {},
   "outputs": [],
   "source": []
  }
 ]
}