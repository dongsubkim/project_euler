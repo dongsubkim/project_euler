{
 "metadata": {
  "language_info": {
   "codemirror_mode": {
    "name": "ipython",
    "version": 3
   },
   "file_extension": ".py",
   "mimetype": "text/x-python",
   "name": "python",
   "nbconvert_exporter": "python",
   "pygments_lexer": "ipython3",
   "version": "3.8.5"
  },
  "orig_nbformat": 2,
  "kernelspec": {
   "name": "python385jvsc74a57bd0d0a6fc611dd9351d0e1a9a0fceebb8e7c292efc5334406d2c05ad42c75550574",
   "display_name": "Python 3.8.5 64-bit ('base': conda)"
  }
 },
 "nbformat": 4,
 "nbformat_minor": 2,
 "cells": [
  {
   "source": [
    "<p>Consider the following \"magic\" 3-gon ring, filled with the numbers 1 to 6, and each line adding to nine.</p>\n",
    "<div class=\"center\">\n",
    "<img src=\"https://projecteuler.net/project/images/p068_1.png\" class=\"dark_img\" alt=\"\" /><br /></div>\n",
    "<p>Working <b>clockwise</b>, and starting from the group of three with the numerically lowest external node (4,3,2 in this example), each solution can be described uniquely. For example, the above solution can be described by the set: 4,3,2; 6,2,1; 5,1,3.</p>\n",
    "<p>It is possible to complete the ring with four different totals: 9, 10, 11, and 12. There are eight solutions in total.</p>\n",
    "<div class=\"center\">\n",
    "<table width=\"400\" cellspacing=\"0\" cellpadding=\"0\"><tr><td width=\"100\"><b>Total</b></td><td width=\"300\"><b>Solution Set</b></td>\n",
    "</tr><tr><td>9</td><td>4,2,3; 5,3,1; 6,1,2</td>\n",
    "</tr><tr><td>9</td><td>4,3,2; 6,2,1; 5,1,3</td>\n",
    "</tr><tr><td>10</td><td>2,3,5; 4,5,1; 6,1,3</td>\n",
    "</tr><tr><td>10</td><td>2,5,3; 6,3,1; 4,1,5</td>\n",
    "</tr><tr><td>11</td><td>1,4,6; 3,6,2; 5,2,4</td>\n",
    "</tr><tr><td>11</td><td>1,6,4; 5,4,2; 3,2,6</td>\n",
    "</tr><tr><td>12</td><td>1,5,6; 2,6,4; 3,4,5</td>\n",
    "</tr><tr><td>12</td><td>1,6,5; 3,5,4; 2,4,6</td>\n",
    "</tr></table></div>\n",
    "<p>By concatenating each group it is possible to form 9-digit strings; the maximum string for a 3-gon ring is 432621513.</p>\n",
    "<p>Using the numbers 1 to 10, and depending on arrangements, it is possible to form 16- and 17-digit strings. What is the maximum <b>16-digit</b> string for a \"magic\" 5-gon ring?</p>\n",
    "<div class=\"center\">\n",
    "<img src=\"https://projecteuler.net/project/images/p068_2.png\" class=\"dark_img\" alt=\"\" /><br /></div>\n"
   ],
   "cell_type": "markdown",
   "metadata": {}
  },
  {
   "cell_type": "code",
   "execution_count": 9,
   "metadata": {},
   "outputs": [],
   "source": [
    "from itertools import permutations"
   ]
  },
  {
   "cell_type": "code",
   "execution_count": 26,
   "metadata": {},
   "outputs": [],
   "source": [
    "def solution():\n",
    "    ans = []\n",
    "    line_sum = [14, 15, 16, 17, 18]\n",
    "    for ls in line_sum:\n",
    "        inner = list(range(ls-13, ls-8))\n",
    "        outer = [i for i in range(1, 11) if i not in inner]\n",
    "        for a in permutations(inner):\n",
    "            ax = [a[i] + a[(i+1)%5] for i in range(5)]\n",
    "            if len(set(ax)) != 5:\n",
    "                continue\n",
    "            for b in permutations(outer):\n",
    "                bx = [i + j for i, j in zip(ax, b)]\n",
    "                if all([bx[0] == i for i in bx]):\n",
    "                    s = \"\"\n",
    "                    for i in range(b.index(min(b)), b.index(min(b))+5):\n",
    "                        s += str(b[i%5]) + str(a[i%5]) + str(a[(i+1)%5])\n",
    "                    ans.append(s)\n",
    "    return ans"
   ]
  },
  {
   "cell_type": "code",
   "execution_count": 27,
   "metadata": {},
   "outputs": [],
   "source": [
    "ans = solution()"
   ]
  },
  {
   "cell_type": "code",
   "execution_count": 28,
   "metadata": {},
   "outputs": [],
   "source": [
    "ans.sort()"
   ]
  },
  {
   "cell_type": "code",
   "execution_count": 29,
   "metadata": {},
   "outputs": [
    {
     "output_type": "execute_result",
     "data": {
      "text/plain": [
       "['6357528249411013',\n",
       " '6357528249411013',\n",
       " '6357528249411013',\n",
       " '6357528249411013',\n",
       " '6357528249411013',\n",
       " '6531031914842725',\n",
       " '6531031914842725',\n",
       " '6531031914842725',\n",
       " '6531031914842725',\n",
       " '6531031914842725']"
      ]
     },
     "metadata": {},
     "execution_count": 29
    }
   ],
   "source": [
    "ans"
   ]
  },
  {
   "cell_type": "code",
   "execution_count": null,
   "metadata": {},
   "outputs": [],
   "source": []
  }
 ]
}