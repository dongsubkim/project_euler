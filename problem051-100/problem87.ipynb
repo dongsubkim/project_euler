{
 "metadata": {
  "language_info": {
   "codemirror_mode": {
    "name": "ipython",
    "version": 3
   },
   "file_extension": ".py",
   "mimetype": "text/x-python",
   "name": "python",
   "nbconvert_exporter": "python",
   "pygments_lexer": "ipython3",
   "version": "3.8.5"
  },
  "orig_nbformat": 2,
  "kernelspec": {
   "name": "python385jvsc74a57bd0d0a6fc611dd9351d0e1a9a0fceebb8e7c292efc5334406d2c05ad42c75550574",
   "display_name": "Python 3.8.5 64-bit ('base': conda)"
  }
 },
 "nbformat": 4,
 "nbformat_minor": 2,
 "cells": [
  {
   "source": [
    "# Problem 86 \n",
    "## [Prime power triples](https://projecteuler.net/problem=87)\n",
    "\n",
    "\n",
    "<p>The smallest number expressible as the sum of a prime square, prime cube, and prime fourth power is 28. In fact, there are exactly four numbers below fifty that can be expressed in such a way:</p>\n",
    "<p class=\"margin_left\">28 = 2<sup>2</sup> + 2<sup>3</sup> + 2<sup>4</sup><br />\n",
    "33 = 3<sup>2</sup> + 2<sup>3</sup> + 2<sup>4</sup><br />\n",
    "49 = 5<sup>2</sup> + 2<sup>3</sup> + 2<sup>4</sup><br />\n",
    "47 = 2<sup>2</sup> + 3<sup>3</sup> + 2<sup>4</sup></p>\n",
    "<p>How many numbers below fifty million can be expressed as the sum of a prime square, prime cube, and prime fourth power?</p>\n",
    "\n",
    "---\n"
   ],
   "cell_type": "markdown",
   "metadata": {}
  },
  {
   "cell_type": "code",
   "execution_count": 1,
   "metadata": {},
   "outputs": [],
   "source": [
    "import math"
   ]
  },
  {
   "cell_type": "code",
   "execution_count": 2,
   "metadata": {},
   "outputs": [],
   "source": [
    "limit = 50000000"
   ]
  },
  {
   "cell_type": "code",
   "execution_count": 21,
   "metadata": {},
   "outputs": [],
   "source": [
    "primes = []"
   ]
  },
  {
   "cell_type": "code",
   "execution_count": 22,
   "metadata": {},
   "outputs": [],
   "source": [
    "def is_prime(n):\n",
    "    for p in primes:\n",
    "        if p > math.isqrt(n):\n",
    "            return True\n",
    "        if n % p == 0:\n",
    "            return False\n",
    "    return True"
   ]
  },
  {
   "cell_type": "code",
   "execution_count": 23,
   "metadata": {},
   "outputs": [],
   "source": [
    "for i in range(2,7072):\n",
    "    if is_prime(i):\n",
    "        primes.append(i)        "
   ]
  },
  {
   "cell_type": "code",
   "execution_count": 24,
   "metadata": {},
   "outputs": [],
   "source": [
    "from itertools import product"
   ]
  },
  {
   "cell_type": "code",
   "execution_count": 42,
   "metadata": {},
   "outputs": [
    {
     "output_type": "stream",
     "name": "stdout",
     "text": [
      "1097343\n"
     ]
    }
   ],
   "source": [
    "s = set()\n",
    "for p1 in primes:\n",
    "    for p2 in primes:\n",
    "        for p3 in primes:\n",
    "            v = p1**2 + p2**3 + p3**4\n",
    "            if v < limit:\n",
    "                s.add(v)\n",
    "            else:\n",
    "                break\n",
    "print(len(s))"
   ]
  },
  {
   "cell_type": "code",
   "execution_count": null,
   "metadata": {},
   "outputs": [],
   "source": []
  }
 ]
}