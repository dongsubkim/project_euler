{
 "metadata": {
  "language_info": {
   "codemirror_mode": {
    "name": "ipython",
    "version": 3
   },
   "file_extension": ".py",
   "mimetype": "text/x-python",
   "name": "python",
   "nbconvert_exporter": "python",
   "pygments_lexer": "ipython3",
   "version": "3.8.5"
  },
  "orig_nbformat": 4,
  "kernelspec": {
   "name": "python3",
   "display_name": "Python 3.8.5 64-bit ('base': conda)"
  },
  "interpreter": {
   "hash": "d0a6fc611dd9351d0e1a9a0fceebb8e7c292efc5334406d2c05ad42c75550574"
  }
 },
 "nbformat": 4,
 "nbformat_minor": 2,
 "cells": [
  {
   "source": [
    "# Problem 96\n",
    "## [Su Doku](https://projecteuler.net/problem=96)\n",
    "\n",
    "<p>Su Doku (Japanese meaning <i>number place</i>) is the name given to a popular puzzle concept. Its origin is unclear, but credit must be attributed to Leonhard Euler who invented a similar, and much more difficult, puzzle idea called Latin Squares. The objective of Su Doku puzzles, however, is to replace the blanks (or zeros) in a 9 by 9 grid in such that each row, column, and 3 by 3 box contains each of the digits 1 to 9. Below is an example of a typical starting puzzle grid and its solution grid.</p>\n",
    "<div class=\"center\">\n",
    "<img src=\"https://projecteuler.net/project/images/p096_1.png\" alt=\"p096_1.png\" />     <img src=\"https://projecteuler.net/project/images/p096_2.png\" alt=\"p096_2.png\" />\n",
    "</div>\n",
    "<p>A well constructed Su Doku puzzle has a unique solution and can be solved by logic, although it may be necessary to employ \"guess and test\" methods in order to eliminate options (there is much contested opinion over this). The complexity of the search determines the difficulty of the puzzle; the example above is considered <i>easy</i> because it can be solved by straight forward direct deduction.</p>\n",
    "<p>The 6K text file, <a href=\"https://projecteuler.net/project/resources/p096_sudoku.txt\">sudoku.txt</a> (right click and 'Save Link/Target As...'), contains fifty different Su Doku puzzles ranging in difficulty, but all with unique solutions (the first puzzle in the file is the example above).</p>\n",
    "<p>By solving all fifty puzzles find the sum of the 3-digit numbers found in the top left corner of each solution grid; for example, 483 is the 3-digit number found in the top left corner of the solution grid above.</p>"
   ],
   "cell_type": "markdown",
   "metadata": {}
  },
  {
   "cell_type": "code",
   "execution_count": 235,
   "metadata": {},
   "outputs": [],
   "source": [
    "sudoku = []\n",
    "with open('p096_sudoku.txt', 'r') as f:\n",
    "    sudoku = f.read().splitlines()\n"
   ]
  },
  {
   "cell_type": "code",
   "execution_count": 236,
   "metadata": {},
   "outputs": [
    {
     "output_type": "execute_result",
     "data": {
      "text/plain": [
       "500"
      ]
     },
     "metadata": {},
     "execution_count": 236
    }
   ],
   "source": [
    "len(sudoku)"
   ]
  },
  {
   "cell_type": "code",
   "execution_count": 244,
   "metadata": {},
   "outputs": [],
   "source": [
    "temp = []\n",
    "for i in range(50):\n",
    "    s = sudoku[i*10+1:i*10+10]\n",
    "    s = np.array([list(map(int, list(i))) for i in s])\n",
    "    temp.append(s)\n",
    "sudoku = temp"
   ]
  },
  {
   "cell_type": "code",
   "execution_count": 245,
   "metadata": {},
   "outputs": [],
   "source": [
    "import numpy as np\n",
    "from collections import Counter"
   ]
  },
  {
   "cell_type": "code",
   "execution_count": 246,
   "metadata": {},
   "outputs": [],
   "source": [
    "def check_row(a):\n",
    "    c = Counter(list(a))\n",
    "    for k, v in c.items():\n",
    "        if k != 0 and v > 1:\n",
    "            return False\n",
    "    return True"
   ]
  },
  {
   "cell_type": "code",
   "execution_count": 247,
   "metadata": {},
   "outputs": [],
   "source": [
    "def check(sudoku):\n",
    "    for i in range(9):\n",
    "        row = sudoku[i]\n",
    "        if not check_row(row):\n",
    "            return False\n",
    "        col = sudoku[:, i]\n",
    "        if not check_row(col):\n",
    "            return False\n",
    "    for i in range(3):\n",
    "        for j in range(3):\n",
    "            block = sudoku[i*3:i*3+3, j*3:j*3+3].reshape((-1))\n",
    "            if not check_row(block):\n",
    "                return False\n",
    "    return True\n",
    "            "
   ]
  },
  {
   "cell_type": "code",
   "execution_count": 248,
   "metadata": {},
   "outputs": [],
   "source": [
    "def valid(sudoku):\n",
    "    if 0 in sudoku:\n",
    "        return False\n",
    "    elif check(sudoku):\n",
    "        return True\n",
    "    return False"
   ]
  },
  {
   "cell_type": "code",
   "execution_count": 253,
   "metadata": {},
   "outputs": [],
   "source": [
    "def valid_num(puzzle, i, v):\n",
    "    row_i, col_j = i//9, i%9\n",
    "    row = puzzle[row_i]\n",
    "    if v in row:\n",
    "        return False\n",
    "    col = puzzle[:, col_j]\n",
    "    if v in col:\n",
    "        return False\n",
    "    block = puzzle[row_i//3*3:row_i//3*3+3, col_j//3*3:col_j//3*3+3]\n",
    "    if v in block:\n",
    "        return False\n",
    "    return True"
   ]
  },
  {
   "cell_type": "code",
   "execution_count": 250,
   "metadata": {},
   "outputs": [],
   "source": [
    "def backtrack(puzzle, i):\n",
    "    if valid(puzzle):\n",
    "        return [True, puzzle]\n",
    "    if puzzle[i//9][i%9] != 0:\n",
    "        return backtrack(puzzle, i+1)\n",
    "    if not check(puzzle):\n",
    "        return [False, None]\n",
    "    for v in range(1, 10):\n",
    "        if not valid_num(puzzle, i, v):\n",
    "            continue\n",
    "        puzzle[i//9][i%9] = v\n",
    "        res = backtrack(puzzle, i+1)\n",
    "        if res[0] == True:\n",
    "            return res\n",
    "    puzzle[i//9][i%9] = 0\n",
    "    return [False, None]\n",
    "    "
   ]
  },
  {
   "cell_type": "code",
   "execution_count": 251,
   "metadata": {},
   "outputs": [],
   "source": [
    "def solve(sudoku):\n",
    "    return backtrack(sudoku, 0)"
   ]
  },
  {
   "cell_type": "code",
   "execution_count": 252,
   "metadata": {
    "tags": []
   },
   "outputs": [
    {
     "output_type": "stream",
     "name": "stdout",
     "text": [
      "[4 8 3]\n",
      "[2 4 5]\n",
      "[4 6 2]\n",
      "[1 3 7]\n",
      "[5 2 3]\n",
      "[1 7 6]\n",
      "[1 4 3]\n",
      "[4 8 7]\n",
      "[8 1 4]\n",
      "[7 6 1]\n",
      "[9 7 6]\n",
      "[9 6 2]\n",
      "[3 9 7]\n",
      "[6 3 9]\n",
      "[6 9 7]\n",
      "[3 6 1]\n",
      "[3 5 9]\n",
      "[7 8 6]\n",
      "[7 4 3]\n",
      "[7 8 2]\n",
      "[4 2 8]\n",
      "[4 2 5]\n",
      "[3 4 8]\n",
      "[1 2 4]\n",
      "[3 6 1]\n",
      "[5 8 1]\n",
      "[3 8 7]\n",
      "[3 4 5]\n",
      "[2 3 5]\n",
      "[2 9 8]\n",
      "[7 6 1]\n",
      "[1 3 2]\n",
      "[6 9 8]\n",
      "[8 5 2]\n",
      "[4 5 3]\n",
      "[5 1 6]\n",
      "[9 4 5]\n",
      "[3 6 5]\n",
      "[1 3 4]\n",
      "[1 9 3]\n",
      "[8 1 4]\n",
      "[3 8 4]\n",
      "[4 6 9]\n",
      "[3 1 6]\n",
      "[5 8 6]\n",
      "[9 5 4]\n",
      "[1 5 9]\n",
      "[8 6 1]\n",
      "[2 9 4]\n",
      "[3 5 1]\n",
      "24702\n",
      "3min 21s ± 0 ns per loop (mean ± std. dev. of 1 run, 1 loop each)\n"
     ]
    }
   ],
   "source": [
    "%%timeit -n1 -r1\n",
    "s = 0\n",
    "for su in sudoku:\n",
    "    ans = solve(su.copy())[1][0, :3]\n",
    "    print(ans)\n",
    "    s += ans[0]*100 + ans[1]*10 + ans[2]\n",
    "print(s)"
   ]
  },
  {
   "cell_type": "code",
   "execution_count": null,
   "metadata": {},
   "outputs": [],
   "source": []
  }
 ]
}