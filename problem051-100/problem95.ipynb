{
 "metadata": {
  "language_info": {
   "codemirror_mode": {
    "name": "ipython",
    "version": 3
   },
   "file_extension": ".py",
   "mimetype": "text/x-python",
   "name": "python",
   "nbconvert_exporter": "python",
   "pygments_lexer": "ipython3",
   "version": "3.8.5"
  },
  "orig_nbformat": 4,
  "kernelspec": {
   "name": "python3",
   "display_name": "Python 3.8.5 64-bit ('base': conda)"
  },
  "interpreter": {
   "hash": "d0a6fc611dd9351d0e1a9a0fceebb8e7c292efc5334406d2c05ad42c75550574"
  }
 },
 "nbformat": 4,
 "nbformat_minor": 2,
 "cells": [
  {
   "source": [
    "# Problem 95\n",
    "## [Amicable chains](https://projecteuler.net/problem=95)\n",
    "\n",
    "<p>The proper divisors of a number are all the divisors excluding the number itself. For example, the proper divisors of 28 are 1, 2, 4, 7, and 14. As the sum of these divisors is equal to 28, we call it a perfect number.</p>\n",
    "<p>Interestingly the sum of the proper divisors of 220 is 284 and the sum of the proper divisors of 284 is 220, forming a chain of two numbers. For this reason, 220 and 284 are called an amicable pair.</p>\n",
    "<p>Perhaps less well known are longer chains. For example, starting with 12496, we form a chain of five numbers:</p>\n",
    "<p class=\"center\">12496 → 14288 → 15472 → 14536 → 14264 (→ 12496 → ...)</p>\n",
    "<p>Since this chain returns to its starting point, it is called an amicable chain.</p>\n",
    "<p>Find the smallest member of the longest amicable chain with no element exceeding one million.</p>\n",
    "\n"
   ],
   "cell_type": "markdown",
   "metadata": {}
  },
  {
   "cell_type": "code",
   "execution_count": 1,
   "metadata": {},
   "outputs": [],
   "source": [
    "import math"
   ]
  },
  {
   "cell_type": "code",
   "execution_count": 12,
   "metadata": {},
   "outputs": [],
   "source": [
    "def sum_factors(n):\n",
    "    res = 0\n",
    "    for i in range(1, math.isqrt(n)+1):\n",
    "        if n % i == 0:\n",
    "            res += i\n",
    "            if n // i != i and i != 1:\n",
    "                res += n // i\n",
    "    return res"
   ]
  },
  {
   "cell_type": "code",
   "execution_count": 105,
   "metadata": {},
   "outputs": [],
   "source": [
    "def solution(limit):\n",
    "    longest_chain = []\n",
    "    non_chain = set()\n",
    "    non_chain.add(1)\n",
    "    for n in range(2, limit):\n",
    "        chain = [n]\n",
    "        while True:\n",
    "            next = sum_factors(chain[-1])\n",
    "            if next in non_chain or next >= limit:\n",
    "                non_chain.add(n)\n",
    "                break\n",
    "            if next in chain:\n",
    "                if len(chain[chain.index(next):]) > len(longest_chain):\n",
    "                    longest_chain = chain[chain.index(next):]\n",
    "                break\n",
    "            else:\n",
    "                chain.append(next)\n",
    "    return min(longest_chain)\n"
   ]
  },
  {
   "cell_type": "code",
   "execution_count": 106,
   "metadata": {
    "tags": []
   },
   "outputs": [
    {
     "output_type": "stream",
     "name": "stdout",
     "text": [
      "14316\n1min 3s ± 0 ns per loop (mean ± std. dev. of 1 run, 1 loop each)\n"
     ]
    }
   ],
   "source": [
    "%%timeit -n1 -r1\n",
    "print(solution(1000000))"
   ]
  }
 ]
}