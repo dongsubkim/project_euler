{
 "metadata": {
  "language_info": {
   "codemirror_mode": {
    "name": "ipython",
    "version": 3
   },
   "file_extension": ".py",
   "mimetype": "text/x-python",
   "name": "python",
   "nbconvert_exporter": "python",
   "pygments_lexer": "ipython3",
   "version": "3.8.5"
  },
  "orig_nbformat": 2,
  "kernelspec": {
   "name": "python385jvsc74a57bd0d0a6fc611dd9351d0e1a9a0fceebb8e7c292efc5334406d2c05ad42c75550574",
   "display_name": "Python 3.8.5 64-bit ('base': conda)"
  }
 },
 "nbformat": 4,
 "nbformat_minor": 2,
 "cells": [
  {
   "source": [
    "# Problem 89\n",
    "## [Roman numerals](https://projecteuler.net/problem=89)\n",
    "\n",
    "<p>For a number written in Roman numerals to be considered valid there are basic rules which must be followed. Even though the rules allow some numbers to be expressed in more than one way there is always a \"best\" way of writing a particular number.</p>\n",
    "<p>For example, it would appear that there are at least six ways of writing the number sixteen:</p>\n",
    "<p class=\"margin_left monospace\">IIIIIIIIIIIIIIII<br />\n",
    "VIIIIIIIIIII<br />\n",
    "VVIIIIII<br />\n",
    "XIIIIII<br />\n",
    "VVVI<br />\n",
    "XVI</p>\n",
    "<p>However, according to the rules only <span class=\"monospace\">XIIIIII</span> and <span class=\"monospace\">XVI</span> are valid, and the last example is considered to be the most efficient, as it uses the least number of numerals.</p>\n",
    "<p>The 11K text file, <a href=\"project/resources/p089_roman.txt\">roman.txt</a> (right click and 'Save Link/Target As...'), contains one thousand numbers written in valid, but not necessarily minimal, Roman numerals; see <a href=\"about=roman_numerals\">About... Roman Numerals</a> for the definitive rules for this problem.</p>\n",
    "<p>Find the number of characters saved by writing each of these in their minimal form.</p>\n",
    "<p class=\"smaller\">Note: You can assume that all the Roman numerals in the file contain no more than four consecutive identical units.</p>\n"
   ],
   "cell_type": "markdown",
   "metadata": {}
  },
  {
   "cell_type": "code",
   "execution_count": 1,
   "metadata": {},
   "outputs": [],
   "source": [
    "romans = []\n",
    "with open(\"p089_roman.txt\", \"r\") as f:\n",
    "    romans = f.read().splitlines()"
   ]
  },
  {
   "cell_type": "code",
   "execution_count": 3,
   "metadata": {},
   "outputs": [],
   "source": [
    "chars = {\n",
    "    \"M\": 1000,\n",
    "    \"D\": 500,\n",
    "    \"C\": 100,\n",
    "    \"L\": 50,\n",
    "    \"X\": 10,\n",
    "    \"V\": 5,\n",
    "    \"I\": 1\n",
    "}"
   ]
  },
  {
   "cell_type": "code",
   "execution_count": 4,
   "metadata": {},
   "outputs": [],
   "source": [
    "letters = [\"M\", \"D\", \"C\", \"L\", \"X\", \"V\", \"I\"]"
   ]
  },
  {
   "cell_type": "code",
   "execution_count": 5,
   "metadata": {},
   "outputs": [
    {
     "output_type": "execute_result",
     "data": {
      "text/plain": [
       "'MMMMDCLXXII'"
      ]
     },
     "metadata": {},
     "execution_count": 5
    }
   ],
   "source": [
    "romans[0]"
   ]
  },
  {
   "cell_type": "code",
   "execution_count": 6,
   "metadata": {},
   "outputs": [],
   "source": [
    "subs = {\n",
    "    \"IX\": 9,\n",
    "    \"IV\": 4,\n",
    "    \"XC\": 90,\n",
    "    \"XL\": 40,\n",
    "    \"CD\": 400,\n",
    "    \"CM\": 900\n",
    "}"
   ]
  },
  {
   "cell_type": "code",
   "execution_count": 29,
   "metadata": {},
   "outputs": [],
   "source": [
    "def parse(n):\n",
    "    s = 0\n",
    "    for k, v in subs.items():\n",
    "        if k in n:\n",
    "            s += v\n",
    "            n = n[:n.index(k)] + n[n.index(k)+2:]\n",
    "    for c in n:\n",
    "        s += chars[c]\n",
    "    return s"
   ]
  },
  {
   "cell_type": "code",
   "execution_count": 45,
   "metadata": {},
   "outputs": [],
   "source": [
    "units = {\n",
    "    1000: \"M\",\n",
    "    900: \"CM\",\n",
    "    500: \"D\",\n",
    "    400: \"CD\",\n",
    "    100: \"C\",\n",
    "    90: \"XC\",\n",
    "    50: \"L\",\n",
    "    40: \"XL\",\n",
    "    10: \"X\",\n",
    "    9: \"IX\",\n",
    "    5: \"V\",\n",
    "    4: \"IV\",\n",
    "    1: \"I\"\n",
    "}"
   ]
  },
  {
   "cell_type": "code",
   "execution_count": 46,
   "metadata": {},
   "outputs": [],
   "source": [
    "def romanize(n):\n",
    "    s = \"\"\n",
    "    while n:\n",
    "        for k, v in units.items():\n",
    "            while n >= k:\n",
    "                s += v\n",
    "                n -= k\n",
    "    return s\n"
   ]
  },
  {
   "cell_type": "code",
   "execution_count": 47,
   "metadata": {},
   "outputs": [
    {
     "output_type": "execute_result",
     "data": {
      "text/plain": [
       "'MMMMCCCXIV'"
      ]
     },
     "metadata": {},
     "execution_count": 47
    }
   ],
   "source": [
    "romanize(4314)"
   ]
  },
  {
   "cell_type": "code",
   "execution_count": 50,
   "metadata": {},
   "outputs": [],
   "source": [
    "def solution():\n",
    "    c = 0 \n",
    "    for r in romans:\n",
    "        n = parse(r)\n",
    "        minimal = romanize(n)\n",
    "        if len(minimal) < len(r):\n",
    "            print(r, n, minimal)\n",
    "            c += len(r) - len(minimal)\n",
    "    return c"
   ]
  },
  {
   "cell_type": "code",
   "execution_count": 51,
   "metadata": {},
   "outputs": [
    {
     "output_type": "stream",
     "name": "stdout",
     "text": [
      "MMMDLXVIIII 3569 MMMDLXIX\nMMCCCLXXXXIX 2399 MMCCCXCIX\nMDCCCXXIIII 1824 MDCCCXXIV\nMMMMDCCCCI 4901 MMMMCMI\nMCCLXXVIIII 1279 MCCLXXIX\nMMMMCCXXXXI 4241 MMMMCCXLI\nMMMDCCCCXXXIV 3934 MMMCMXXXIV\nCDXVIIII 419 CDXIX\nMMMMCCCLXXXXVI 4396 MMMMCCCXCVI\nMMMDCCCVIIII 3809 MMMDCCCIX\nDCCLXXXIIII 784 DCCLXXXIV\nMDCCCCXXXII 1932 MCMXXXII\nMMMMCMLXXXXVIII 4998 MMMMCMXCVIII\nMMDCCCLXXXIIII 2884 MMDCCCLXXXIV\nMMCCCCXXXXV 2445 MMCDXLV\nMMMMDLXXXVIIII 4589 MMMMDLXXXIX\nMMDCCCCLXXVI 2976 MMCMLXXVI\nMCCCCLXX 1470 MCDLXX\nMMCDLVIIII 2459 MMCDLIX\nMMMMCCCCXIX 4419 MMMMCDXIX\nMMMMCDLXXXIIII 4484 MMMMCDLXXXIV\nMMMCCCCXXX 3430 MMMCDXXX\nCLXXXXI 191 CXCI\nDLXXXX 590 DXC\nMMMMDLXXXXVIII 4598 MMMMDXCVIII\nDCCCCXLIII 943 CMXLIII\nMMMMCCCCXI 4411 MMMMCDXI\nMMCCCCXI 2411 MMCDXI\nMMMMDXXXXII 4542 MMMMDXLII\nMMMCCCCXV 3415 MMMCDXV\nMMDCCCCXVI 2916 MMCMXVI\nCCLIIII 254 CCLIV\nMMDCCLXXXVIIII 2789 MMDCCLXXXIX\nMMCCLXIIII 2264 MMCCLXIV\nCMLXXXXI 991 CMXCI\nMXVIIII 1019 MXIX\nMCCCCLXVIII 1468 MCDLXVIII\nMMMDCCLXXIIII 3774 MMMDCCLXXIV\nMMMMCCCLXXXXVII 4397 MMMMCCCXCVII\nMMDCCLXXXXV 2795 MMDCCXCV\nMMMCCCCXXVIIII 3429 MMMCDXXIX\nMMDXXXXI 2541 MMDXLI\nMDCCCCXV 1915 MCMXV\nMMMMCMLXXXXV 4995 MMMMCMXCV\nDCCCCIIII 904 CMIV\nMMCCCCIII 2403 MMCDIII\nMMMDCCLXXXVIIII 3789 MMMDCCLXXXIX\nMDCCCLXXXXV 1895 MDCCCXCV\nMMDLXXXIIII 2584 MMDLXXXIV\nMMMDCCCXLIIII 3844 MMMDCCCXLIV\nDCCCCLXVII 967 CMLXVII\nMMMCLXXXXIII 3193 MMMCXCIII\nMMMMDCLXXXXV 4695 MMMMDCXCV\nMMMMDCXXVIIII 4629 MMMMDCXXIX\nDCCCCXXXVIIII 939 CMXXXIX\nMMCCXXXIIII 2234 MMCCXXXIV\nMDCCLXVIIII 1769 MDCCLXIX\nDXXXXIII 543 DXLIII\nMMMMDCCIIII 4704 MMMMDCCIV\nMMMCCVIIII 3209 MMMCCIX\nMCCCCLXXIX 1479 MCDLXXIX\nMMMMDCCCCXXXVI 4936 MMMMCMXXXVI\nMMMDCCCXXXXV 3845 MMMDCCCXLV\nMMDCXXXXIV 2644 MMDCXLIV\nMDCCCLXXXX 1890 MDCCCXC\nMMDCXXXXVIIII 2649 MMDCXLIX\nMDXCVIIII 1599 MDXCIX\nMDCLVIIII 1659 MDCLIX\nMMMCCCLXIIII 3364 MMMCCCLXIV\nMMIIII 2004 MMIV\nMMMMCCCCXXXII 4432 MMMMCDXXXII\nMXVIIII 1019 MXIX\nMMMCCCCXIIII 3414 MMMCDXIV\nCCCCLXIV 464 CDLXIV\nMMXXXXII 2042 MMXLII\nMMMMCCLXXXX 4290 MMMMCCXC\nCCCCLVIIII 459 CDLIX\nMCDLXXXXIV 1494 MCDXCIV\nMMCMLXIIII 2964 MMCMLXIV\nMMMCCCCLXXI 3471 MMMCDLXXI\nMMDCCCCXVIII 2918 MMCMXVIII\nMMCCXLVIIII 2249 MMCCXLIX\nMMMDCCCLIIII 3854 MMMDCCCLIV\nMMDCXXXXI 2641 MMDCXLI\nMMMCCCCXXXII 3432 MMMCDXXXII\nDCCCCLXXXXII 992 CMXCII\nMLXXXXVII 1097 MXCVII\nMMMLXVIIII 3069 MMMLXIX\nMDCCCCXXX 1930 MCMXXX\nDCCCLXXVIIII 879 DCCCLXXIX\nMMDXXXXIX 2549 MMDXLIX\nMMCLXXXXV 2195 MMCXCV\nMDCCXXXXIII 1743 MDCCXLIII\nMMMCLXXXXIIII 3194 MMMCXCIV\nMDCCCCXXXIII 1933 MCMXXXIII\nMCCCXXXXIIII 1344 MCCCXLIV\nMMDCCCCIV 2904 MMCMIV\nMMMDCCLXVIIII 3769 MMMDCCLXIX\nDLXXXXIX 599 DXCIX\nMXXXIIII 1034 MXXXIV\nMMMDCCLXXXIIII 3784 MMMDCCLXXXIV\nDCCCXXXX 840 DCCCXL\nMMCDXXXVIIII 2439 MMCDXXXIX\nMMMDCCCCVI 3906 MMMCMVI\nMMCMLXVIIII 2969 MMCMLXIX\nMMCCCCLXI 2461 MMCDLXI\nMMMCCCXXXIIII 3334 MMMCCCXXXIV\nMMDCCLXXXXI 2791 MMDCCXCI\nMMDCCCXXXXVI 2846 MMDCCCXLVI\nCDXIIII 414 CDXIV\nMLXIIII 1064 MLXIV\nCCCCLXVI 466 CDLXVI\nMMMMCCCCXXXVI 4436 MMMMCDXXXVI\nCCCCLXXXX 490 CDXC\nMCCCLXXXXII 1392 MCCCXCII\nDCCXLIIII 744 DCCXLIV\nMMMMDCCCCLXIII 4963 MMMMCMLXIII\nMMMDCLIIII 3654 MMMDCLIV\nMCCCCXXXXII 1442 MCDXLII\nCCCCLIII 453 CDLIII\nMMDCCCCLX 2960 MMCMLX\nMMMCCCLXXXX 3390 MMMCCCXC\nMDCCCCXXVI 1926 MCMXXVI\nMMDCCCCLXXVI 2976 MMCMLXXVI\nMMMDCCLXXVIIII 3779 MMMDCCLXXIX\nMMMCCCCLXVII 3467 MMMCDLXVII\nLXXVIIII 79 LXXIX\nMMDCCCXXXXVIII 2848 MMDCCCXLVIII\nMMDCCLXXXXVII 2797 MMDCCXCVII\nDCLXXXXI 691 DCXCI\nMMCCCLXXXXVIII 2398 MMCCCXCVIII\nMDCCCCLXXVIII 1978 MCMLXXVIII\nMMXVIIII 2019 MMXIX\nMMCCCCXXVI 2426 MMCDXXVI\nMXXXXII 1042 MXLII\nMMDCCCCLXXXII 2982 MMCMLXXXII\nMMMDCCCCLII 3952 MMMCMLII\nMMMCCLXVIIII 3269 MMMCCLXIX\nMMMCCCCLXVI 3466 MMMCDLXVI\nMMMMDCLXXVIIII 4679 MMMMDCLXXIX\nMMMMDCXXXXIV 4644 MMMMDCXLIV\nMDXVIIII 1519 MDXIX\nMMMCLXXXXV 3195 MMMCXCV\nCCCCXX 420 CDXX\nMDCCCLXXIIII 1874 MDCCCLXXIV\nMMMDCCCCLXXXVII 3987 MMMCMLXXXVII\nMMMDCCLXXXXVI 3796 MMMDCCXCVI\nMMMMCCCCLIIII 4454 MMMMCDLIV\nMCMLXXXXIII 1993 MCMXCIII\nMDCCCXXXXIV 1844 MDCCCXLIV\nXXXXVII 47 XLVII\nMDCXXVIIII 1629 MDCXXIX\nMMMCXXXXIIII 3144 MMMCXLIV\nMMMMCCCCLXI 4461 MMMMCDLXI\nDCLXXXXVIIII 699 DCXCIX\nLXXXXI 91 XCI\nMDCXXXXII 1642 MDCXLII\nMMMMLXXXX 4090 MMMMXC\nMMDCCCCXLV 2945 MMCMXLV\nMMDCCCCLX 2960 MMCMLX\nDCCCCXXIII 923 CMXXIII\nMMMMDCCXLVIIII 4749 MMMMDCCXLIX\nMMMMDCCCLXVIIII 4869 MMMMDCCCLXIX\nMCCCCII 1402 MCDII\nMMDCLIIII 2654 MMDCLIV\nMLXXIIII 1074 MLXXIV\nMMCCCCVI 2406 MMCDVI\nMMMMDCCCCXCV 4995 MMMMCMXCV\nMMMMDCCCCXXXX 4940 MMMMCMXL\nMMCCCCLX 2460 MMCDLX\nMDCCCCII 1902 MCMII\nMMCLXXXXVIII 2198 MMCXCVIII\nMDCCCCLV 1955 MCMLV\nMCCCCLXXIIII 1474 MCDLXXIV\nMDCCCCXLIII 1943 MCMXLIII\nCLXXXXV 195 CXCV\nMCCCCLXIX 1469 MCDLXIX\nMCCCLXXXXIIII 1394 MCCCXCIV\nMMDCCCXLVIIII 2849 MMDCCCXLIX\nMMMMCCCXXXXVIII 4348 MMMMCCCXLVIII\nMMMMDCLXXIIII 4674 MMMMDCLXXIV\nMMCCCXXIIII 2324 MMCCCXXIV\nCCCCXXXXV 445 CDXLV\nMMMCCCCLXV 3465 MMMCDLXV\nMMMMDCCCXXXXII 4842 MMMMDCCCXLII\nMMDCCCCLXXXXVI 2996 MMCMXCVI\nMMMMDCCCCLXXXV 4985 MMMMCMLXXXV\nMMCCXXXXVIII 2248 MMCCXLVIII\nMMMMLXXXXVIIII 4099 MMMMXCIX\nMMMCCCCLXXII 3472 MMMCDLXXII\nMMCXXXXVIIII 2149 MMCXLIX\nMMMMDCXXXIIII 4634 MMMMDCXXXIV\nMCDLXXXXIII 1493 MCDXCIII\nMCCCCXCIII 1493 MCDXCIII\nDCCCXXXXIIII 844 DCCCXLIV\nMCCCCXXIIII 1424 MCDXXIV\nMMMMCXXXXIIII 4144 MMMMCXLIV\nMCCCCXXIV 1424 MCDXXIV\nMCCCLIIII 1354 MCCCLIV\nMMMCCIIII 3204 MMMCCIV\nDCCLXXXVIIII 789 DCCLXXXIX\nMDVIIII 1509 MDIX\nMMMCDLVIIII 3459 MMMCDLIX\nMMCCCCVII 2407 MMCDVII\nMXXXXII 1042 MXLII\nMMMMDCXXXXI 4641 MMMMDCXLI\nMMMMDCCCXXXXV 4845 MMMMDCCCXLV\nMMMMCCXVIIII 4219 MMMMCCXIX\nMMDCCXIIII 2714 MMDCCXIV\nMDCCLVIIII 1759 MDCCLIX\nMMCXXIIII 2124 MMCXXIV\nMMMCLIIII 3154 MMMCLIV\nMMMMCLXXXX 4190 MMMMCXC\nMMMCLXXXIIII 3184 MMMCLXXXIV\nMMMDXXXXIII 3543 MMMDXLIII\nMMMMCCCCLV 4455 MMMMCDLV\nMCCCCLXXX 1480 MCDLXXX\nMMDCCCCXXXI 2931 MMCMXXXI\nMMMDCLXXXVIIII 3689 MMMDCLXXXIX\nMMMDLXXXXVII 3597 MMMDXCVII\nMDLXIIII 1564 MDLXIV\nMDCCCXXXXVI 1846 MDCCCXLVI\nMMMMDCIIII 4604 MMMMDCIV\nXXXXVI 46 XLVI\nMCMLVIIII 1959 MCMLIX\nCLXXXXIX 199 CXCIX\nMMMDCCCCLVIII 3958 MMMCMLVIII\nMCCCC 1400 MCD\nMMMCCLXVIIII 3269 MMMCCLXIX\nMMMDCCXXXXI 3741 MMMDCCXLI\nMMMMXXXXVI 4046 MMMMXLVI\nMCCCCLXXXVIIII 1489 MCDLXXXIX\nCCCLXXXXIX 399 CCCXCIX\nCCCCXIII 413 CDXIII\nCCCCXVI 416 CDXVI\nMDCCCLXXXIIII 1884 MDCCCLXXXIV\nMMMMCCCCLXXXI 4481 MMMMCDLXXXI\nMMCCCLXXVIIII 2379 MMCCCLXXIX\nMMMDCCCLVIIII 3859 MMMDCCCLIX\nMMMMCXXXXV 4145 MMMMCXLV\nCCCCLIX 459 CDLIX\nMMMCCCXXXXV 3345 MMMCCCXLV\nMDCCCCXCV 1995 MCMXCV\nMMDCCCXCIIII 2894 MMDCCCXCIV\nMMMCDXXIIII 3424 MMMCDXXIV\nMMMMDCCCCLXVIII 4968 MMMMCMLXVIII\nMMMXXIIII 3024 MMMXXIV\nDCCCXXXXVIII 848 DCCCXLVIII\nMMMDCCCCXXXVIIII 3939 MMMCMXXXIX\nMCLXXXXIIII 1194 MCXCIV\nDXXXXIII 543 DXLIII\nMCCCXXXXVIII 1348 MCCCXLVIII\nMCLXXXXVIII 1198 MCXCVIII\nCCLXVIIII 269 CCLXIX\nMCCCCLXXXI 1481 MCDLXXXI\nMMMCCCXXVIIII 3329 MMMCCCXXIX\nMMMCCXXVIIII 3229 MMMCCXXIX\nMMMCCCCXXXXVI 3446 MMMCDXLVI\nCDLXXXXIII 493 CDXCIII\nDCCXXXIIII 734 DCCXXXIV\nMDCCXVIIII 1719 MDCCXIX\nMDCCCCXXXVII 1937 MCMXXXVII\nMMDXCVIIII 2599 MMDXCIX\nMMMDCCCCVIII 3908 MMMCMVIII\nMMMMDCCCCXXXXVI 4946 MMMMCMXLVI\nMCMLXXXXIII 1993 MCMXCIII\nXXXXVIIII 49 XLIX\n"
     ]
    },
    {
     "output_type": "execute_result",
     "data": {
      "text/plain": [
       "743"
      ]
     },
     "metadata": {},
     "execution_count": 51
    }
   ],
   "source": [
    "solution()"
   ]
  },
  {
   "cell_type": "code",
   "execution_count": null,
   "metadata": {},
   "outputs": [],
   "source": []
  }
 ]
}