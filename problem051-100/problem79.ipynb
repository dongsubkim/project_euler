{
 "metadata": {
  "language_info": {
   "codemirror_mode": {
    "name": "ipython",
    "version": 3
   },
   "file_extension": ".py",
   "mimetype": "text/x-python",
   "name": "python",
   "nbconvert_exporter": "python",
   "pygments_lexer": "ipython3",
   "version": "3.8.5"
  },
  "orig_nbformat": 2,
  "kernelspec": {
   "name": "python385jvsc74a57bd0d0a6fc611dd9351d0e1a9a0fceebb8e7c292efc5334406d2c05ad42c75550574",
   "display_name": "Python 3.8.5 64-bit ('base': conda)"
  }
 },
 "nbformat": 4,
 "nbformat_minor": 2,
 "cells": [
  {
   "source": [
    "# Problem 79 \n",
    "## [Passcode derivation](https://projecteuler.net/problem=79)\n",
    "\n",
    "<p>A common security method used for online banking is to ask the user for three random characters from a passcode. For example, if the passcode was 531278, they may ask for the 2nd, 3rd, and 5th characters; the expected reply would be: 317.</p>\n",
    "<p>The text file, <a href=\"https://projecteuler.net/project/resources/p079_keylog.txt\">keylog.txt</a>, contains fifty successful login attempts.</p>\n",
    "<p>Given that the three characters are always asked for in order, analyse the file so as to determine the shortest possible secret passcode of unknown length.</p>\n",
    "\n"
   ],
   "cell_type": "markdown",
   "metadata": {}
  },
  {
   "cell_type": "code",
   "execution_count": 8,
   "metadata": {},
   "outputs": [],
   "source": [
    "keylog = []\n",
    "with open(\"p079_keylog.txt\", \"r\") as f:\n",
    "    keylog = f.read().splitlines()"
   ]
  },
  {
   "cell_type": "code",
   "execution_count": 22,
   "metadata": {},
   "outputs": [],
   "source": [
    "keylog = sorted(list(set(keylog)))"
   ]
  },
  {
   "cell_type": "code",
   "execution_count": 23,
   "metadata": {},
   "outputs": [
    {
     "output_type": "execute_result",
     "data": {
      "text/plain": [
       "['129',\n",
       " '160',\n",
       " '162',\n",
       " '168',\n",
       " '180',\n",
       " '289',\n",
       " '290',\n",
       " '316',\n",
       " '318',\n",
       " '319',\n",
       " '362',\n",
       " '368',\n",
       " '380',\n",
       " '389',\n",
       " '620',\n",
       " '629',\n",
       " '680',\n",
       " '689',\n",
       " '690',\n",
       " '710',\n",
       " '716',\n",
       " '718',\n",
       " '719',\n",
       " '720',\n",
       " '728',\n",
       " '729',\n",
       " '731',\n",
       " '736',\n",
       " '760',\n",
       " '762',\n",
       " '769',\n",
       " '790',\n",
       " '890']"
      ]
     },
     "metadata": {},
     "execution_count": 23
    }
   ],
   "source": [
    "keylog"
   ]
  },
  {
   "cell_type": "code",
   "execution_count": 24,
   "metadata": {},
   "outputs": [],
   "source": [
    "orders = []"
   ]
  },
  {
   "cell_type": "code",
   "execution_count": 25,
   "metadata": {},
   "outputs": [],
   "source": [
    "for a in keylog:\n",
    "    orders.append((a[0], a[1]))\n",
    "    orders.append((a[0], a[2]))\n",
    "    orders.append((a[1], a[2]))"
   ]
  },
  {
   "cell_type": "code",
   "execution_count": 28,
   "metadata": {},
   "outputs": [],
   "source": [
    "orders = sorted(list(set(orders)))"
   ]
  },
  {
   "cell_type": "code",
   "execution_count": 39,
   "metadata": {},
   "outputs": [],
   "source": [
    "def check(s):\n",
    "    for order in orders:\n",
    "        a, b = order\n",
    "        try:\n",
    "            s[s.index(a):].index(b) \n",
    "        except:\n",
    "            return False\n",
    "    return True\n",
    "        "
   ]
  },
  {
   "cell_type": "code",
   "execution_count": 42,
   "metadata": {},
   "outputs": [
    {
     "output_type": "execute_result",
     "data": {
      "text/plain": [
       "True"
      ]
     },
     "metadata": {},
     "execution_count": 42
    }
   ],
   "source": [
    "check(\"73162890\")"
   ]
  },
  {
   "cell_type": "code",
   "execution_count": 31,
   "metadata": {},
   "outputs": [],
   "source": [
    "from collections import defaultdict\n",
    "d = defaultdict(list)\n",
    "for order in orders:\n",
    "    d[order[0]].append(order[1])"
   ]
  },
  {
   "cell_type": "code",
   "execution_count": 32,
   "metadata": {},
   "outputs": [
    {
     "output_type": "execute_result",
     "data": {
      "text/plain": [
       "defaultdict(list,\n",
       "            {'1': ['0', '2', '6', '8', '9'],\n",
       "             '2': ['0', '8', '9'],\n",
       "             '3': ['0', '1', '2', '6', '8', '9'],\n",
       "             '6': ['0', '2', '8', '9'],\n",
       "             '7': ['0', '1', '2', '3', '6', '8', '9'],\n",
       "             '8': ['0', '9'],\n",
       "             '9': ['0']})"
      ]
     },
     "metadata": {},
     "execution_count": 32
    }
   ],
   "source": [
    "d"
   ]
  },
  {
   "cell_type": "code",
   "execution_count": 37,
   "metadata": {},
   "outputs": [],
   "source": [
    "def concat(secret):\n",
    "    last = secret[-1]\n",
    "    return [secret + newD for newD in d[last]]\n"
   ]
  },
  {
   "cell_type": "code",
   "execution_count": 54,
   "metadata": {},
   "outputs": [],
   "source": [
    "def solution():\n",
    "    candidates = d.keys()\n",
    "    while True:\n",
    "        new_candidates = []\n",
    "        for s in candidates:\n",
    "            a = concat(s)\n",
    "            for s in a:\n",
    "                if check(s):\n",
    "                    return s\n",
    "            new_candidates += a\n",
    "        \n",
    "        if len(new_candidates) == len(candidates):\n",
    "            return candidates\n",
    "        candidates = new_candidates\n",
    "        print(candidates)\n"
   ]
  },
  {
   "cell_type": "code",
   "execution_count": 55,
   "metadata": {},
   "outputs": [
    {
     "output_type": "stream",
     "name": "stdout",
     "text": [
      "['10', '12', '16', '18', '19', '20', '28', '29', '30', '31', '32', '36', '38', '39', '60', '62', '68', '69', '70', '71', '72', '73', '76', '78', '79', '80', '89', '90']\n['120', '128', '129', '160', '162', '168', '169', '180', '189', '190', '280', '289', '290', '310', '312', '316', '318', '319', '320', '328', '329', '360', '362', '368', '369', '380', '389', '390', '620', '628', '629', '680', '689', '690', '710', '712', '716', '718', '719', '720', '728', '729', '730', '731', '732', '736', '738', '739', '760', '762', '768', '769', '780', '789', '790', '890']\n['1280', '1289', '1290', '1620', '1628', '1629', '1680', '1689', '1690', '1890', '2890', '3120', '3128', '3129', '3160', '3162', '3168', '3169', '3180', '3189', '3190', '3280', '3289', '3290', '3620', '3628', '3629', '3680', '3689', '3690', '3890', '6280', '6289', '6290', '6890', '7120', '7128', '7129', '7160', '7162', '7168', '7169', '7180', '7189', '7190', '7280', '7289', '7290', '7310', '7312', '7316', '7318', '7319', '7320', '7328', '7329', '7360', '7362', '7368', '7369', '7380', '7389', '7390', '7620', '7628', '7629', '7680', '7689', '7690', '7890']\n['12890', '16280', '16289', '16290', '16890', '31280', '31289', '31290', '31620', '31628', '31629', '31680', '31689', '31690', '31890', '32890', '36280', '36289', '36290', '36890', '62890', '71280', '71289', '71290', '71620', '71628', '71629', '71680', '71689', '71690', '71890', '72890', '73120', '73128', '73129', '73160', '73162', '73168', '73169', '73180', '73189', '73190', '73280', '73289', '73290', '73620', '73628', '73629', '73680', '73689', '73690', '73890', '76280', '76289', '76290', '76890']\n['162890', '312890', '316280', '316289', '316290', '316890', '362890', '712890', '716280', '716289', '716290', '716890', '731280', '731289', '731290', '731620', '731628', '731629', '731680', '731689', '731690', '731890', '732890', '736280', '736289', '736290', '736890', '762890']\n['3162890', '7162890', '7312890', '7316280', '7316289', '7316290', '7316890', '7362890']\n73162890\n1.85 ms ± 0 ns per loop (mean ± std. dev. of 1 run, 1 loop each)\n"
     ]
    }
   ],
   "source": [
    "%%timeit -n1 -r1\n",
    "print(solution())"
   ]
  },
  {
   "cell_type": "code",
   "execution_count": null,
   "metadata": {},
   "outputs": [],
   "source": []
  }
 ]
}