{
 "metadata": {
  "language_info": {
   "codemirror_mode": {
    "name": "ipython",
    "version": 3
   },
   "file_extension": ".py",
   "mimetype": "text/x-python",
   "name": "python",
   "nbconvert_exporter": "python",
   "pygments_lexer": "ipython3",
   "version": "3.8.5"
  },
  "orig_nbformat": 2,
  "kernelspec": {
   "name": "python385jvsc74a57bd0d0a6fc611dd9351d0e1a9a0fceebb8e7c292efc5334406d2c05ad42c75550574",
   "display_name": "Python 3.8.5 64-bit ('base': conda)"
  }
 },
 "nbformat": 4,
 "nbformat_minor": 2,
 "cells": [
  {
   "source": [
    "# Problem 91\n",
    "## [Right triangles with integer coordinates](https://projecteuler.net/problem=91)\n",
    "\n",
    "<p>The points P (<i>x</i><sub>1</sub>, <i>y</i><sub>1</sub>) and Q (<i>x</i><sub>2</sub>, <i>y</i><sub>2</sub>) are plotted at integer co-ordinates and are joined to the origin, O(0,0), to form ΔOPQ.</p>\n",
    "\n",
    "<div class=\"center\">\n",
    "<img src=\"https://projecteuler.net/project/images/p091_1.png\" class=\"dark_img\" alt=\"\" /><br /></div>\n",
    "\n",
    "<p>There are exactly fourteen triangles containing a right angle that can be formed when each co-ordinate lies between 0 and 2 inclusive; that is,<br />0 ≤ <i>x</i><sub>1</sub>, <i>y</i><sub>1</sub>, <i>x</i><sub>2</sub>, <i>y</i><sub>2</sub> ≤ 2.</p>\n",
    "\n",
    "<div class=\"center\">\n",
    "<img src=\"https://projecteuler.net/project/images/p091_2.png\" alt=\"\" /><br /></div>\n",
    "\n",
    "<p>Given that 0 ≤ <i>x</i><sub>1</sub>, <i>y</i><sub>1</sub>, <i>x</i><sub>2</sub>, <i>y</i><sub>2</sub> ≤ 50, how many right triangles can be formed?</p>"
   ],
   "cell_type": "markdown",
   "metadata": {}
  },
  {
   "cell_type": "code",
   "execution_count": 25,
   "metadata": {},
   "outputs": [],
   "source": [
    "def isRightTri(a, b, c):\n",
    "    if a + b == c:\n",
    "        return True\n",
    "    if a + c == b:\n",
    "        return True\n",
    "    if b + c == a:\n",
    "        return True\n",
    "    return False"
   ]
  },
  {
   "cell_type": "code",
   "execution_count": 26,
   "metadata": {},
   "outputs": [],
   "source": [
    "import math"
   ]
  },
  {
   "cell_type": "code",
   "execution_count": 27,
   "metadata": {},
   "outputs": [],
   "source": [
    "def isTri(a, b, c):\n",
    "    a = math.sqrt(a)\n",
    "    b = math.sqrt(b)\n",
    "    c = math.sqrt(c)\n",
    "    if (a >= b + c) or (b >= a + c) or (c >= a + b):\n",
    "        return False\n",
    "    return True "
   ]
  },
  {
   "cell_type": "code",
   "execution_count": 30,
   "metadata": {},
   "outputs": [],
   "source": [
    "def solution(N):\n",
    "    c = 0\n",
    "    for x1 in range(N):\n",
    "        for y1 in range(N):\n",
    "            d1 = x1**2 + y1**2\n",
    "            for x2 in range(N):\n",
    "                for y2 in range(N):\n",
    "                    if (x1, y1) == (x2, y2):\n",
    "                        continue\n",
    "                    if (x1, y1) == (0, 0):\n",
    "                        continue\n",
    "                    if (x2, y2) == (0, 0):\n",
    "                        continue\n",
    "                    if 0 == x1 == x2 or 0 == y1 == y2:\n",
    "                        continue\n",
    "                    d2 = x2**2 + y2**2\n",
    "                    d3 = (x1-x2)**2 + (y1-y2)**2\n",
    "                    if not isTri(d1, d2, d3):\n",
    "                        continue\n",
    "                    if isRightTri(d1, d2, d3):\n",
    "                        c += 1\n",
    "    return c\n",
    "\n"
   ]
  },
  {
   "cell_type": "code",
   "execution_count": 34,
   "metadata": {},
   "outputs": [
    {
     "output_type": "stream",
     "name": "stdout",
     "text": [
      "14234\n11.6 s ± 0 ns per loop (mean ± std. dev. of 1 run, 1 loop each)\n"
     ]
    }
   ],
   "source": [
    "%%timeit -n1 -r1\n",
    "print(solution(51)//2)"
   ]
  },
  {
   "cell_type": "code",
   "execution_count": null,
   "metadata": {},
   "outputs": [],
   "source": []
  }
 ]
}