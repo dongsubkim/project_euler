{
 "metadata": {
  "language_info": {
   "codemirror_mode": {
    "name": "ipython",
    "version": 3
   },
   "file_extension": ".py",
   "mimetype": "text/x-python",
   "name": "python",
   "nbconvert_exporter": "python",
   "pygments_lexer": "ipython3",
   "version": "3.8.5"
  },
  "orig_nbformat": 2,
  "kernelspec": {
   "name": "python385jvsc74a57bd0d0a6fc611dd9351d0e1a9a0fceebb8e7c292efc5334406d2c05ad42c75550574",
   "display_name": "Python 3.8.5 64-bit ('base': conda)"
  }
 },
 "nbformat": 4,
 "nbformat_minor": 2,
 "cells": [
  {
   "source": [
    "# Problem 88\n",
    "## [Product-sum numbers](https://projecteuler.net/problem=88)\n",
    "\n",
    "\n",
    "<p>A natural number, N, that can be written as the sum and product of a given set of at least two natural numbers, {<i>a</i><sub>1</sub>, <i>a</i><sub>2</sub>, ... , <i>a</i><sub><i>k</i></sub>} is called a product-sum number: N = <i>a</i><sub>1</sub> + <i>a</i><sub>2</sub> + ... + <i>a</i><sub><i>k</i></sub> = <i>a</i><sub>1</sub> × <i>a</i><sub>2</sub> × ... × <i>a</i><sub><i>k</i></sub>.</p>\n",
    "<p>For example, 6 = 1 + 2 + 3 = 1 × 2 × 3.</p>\n",
    "<p>For a given set of size, <i>k</i>, we shall call the smallest N with this property a minimal product-sum number. The minimal product-sum numbers for sets of size, <i>k</i> = 2, 3, 4, 5, and 6 are as follows.</p>\n",
    "<p class=\"margin_left\"><i>k</i>=2: 4 = 2 × 2 = 2 + 2<br /><i>k</i>=3: 6 = 1 × 2 × 3 = 1 + 2 + 3<br /><i>k</i>=4: 8 = 1 × 1 × 2 × 4 = 1 + 1 + 2 + 4<br /><i>k</i>=5: 8 = 1 × 1 × 2 × 2 × 2  = 1 + 1 + 2 + 2 + 2<br /><i>k</i>=6: 12 = 1 × 1 × 1 × 1 × 2 × 6 = 1 + 1 + 1 + 1 + 2 + 6</p>\n",
    "<p>Hence for 2≤<i>k</i>≤6, the sum of all the minimal product-sum numbers is 4+6+8+12 = 30; note that 8 is only counted once in the sum.</p>\n",
    "<p>In fact, as the complete set of minimal product-sum numbers for 2≤<i>k</i>≤12 is {4, 6, 8, 12, 15, 16}, the sum is 61.</p>\n",
    "<p>What is the sum of all the minimal product-sum numbers for 2≤<i>k</i>≤12000?</p>\n"
   ],
   "cell_type": "markdown",
   "metadata": {}
  },
  {
   "cell_type": "code",
   "execution_count": 2,
   "metadata": {},
   "outputs": [],
   "source": [
    "import math"
   ]
  },
  {
   "cell_type": "code",
   "execution_count": 39,
   "metadata": {},
   "outputs": [],
   "source": [
    "minK = dict.fromkeys(range(2,12001), 1<<32)"
   ]
  },
  {
   "cell_type": "code",
   "execution_count": 41,
   "metadata": {},
   "outputs": [],
   "source": [
    "def valid(n, k):\n",
    "    if k > 12000:\n",
    "        return False\n",
    "    if minK[k] > n:\n",
    "        minK[k] = n\n",
    "        return True\n",
    "    return False"
   ]
  },
  {
   "cell_type": "code",
   "execution_count": 42,
   "metadata": {},
   "outputs": [],
   "source": [
    "def get_min_k(n, product, sum, depth, min_factor):\n",
    "    if product == 1:\n",
    "        return valid(n, depth + sum - 1)\n",
    "    res = 0\n",
    "    if depth > 1:\n",
    "        if product == sum:\n",
    "            return valid(n, depth)\n",
    "        if valid(n, depth + sum - product):\n",
    "            res += 1\n",
    "    \n",
    "    i = min_factor\n",
    "    while i*i <= product:\n",
    "        if product % i == 0:\n",
    "            res += get_min_k(n, product // i, sum - i, depth + 1, i)\n",
    "        i += 1\n",
    "    return res"
   ]
  },
  {
   "cell_type": "code",
   "execution_count": 43,
   "metadata": {},
   "outputs": [],
   "source": [
    "def solution():\n",
    "    n = 4\n",
    "    sum = 0\n",
    "    todo = 12000 - 1\n",
    "    while todo > 0:\n",
    "        found = get_min_k(n, n, n, 1, 2)\n",
    "        if found > 0:\n",
    "            todo -= found\n",
    "            sum += n\n",
    "        n += 1\n",
    "    return sum"
   ]
  },
  {
   "cell_type": "code",
   "execution_count": 44,
   "metadata": {},
   "outputs": [
    {
     "output_type": "execute_result",
     "data": {
      "text/plain": [
       "7587457"
      ]
     },
     "metadata": {},
     "execution_count": 44
    }
   ],
   "source": [
    "solution()"
   ]
  },
  {
   "cell_type": "code",
   "execution_count": null,
   "metadata": {},
   "outputs": [],
   "source": []
  }
 ]
}