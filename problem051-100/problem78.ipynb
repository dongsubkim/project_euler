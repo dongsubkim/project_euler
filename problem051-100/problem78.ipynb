{
 "metadata": {
  "language_info": {
   "codemirror_mode": {
    "name": "ipython",
    "version": 3
   },
   "file_extension": ".py",
   "mimetype": "text/x-python",
   "name": "python",
   "nbconvert_exporter": "python",
   "pygments_lexer": "ipython3",
   "version": "3.8.5"
  },
  "orig_nbformat": 2,
  "kernelspec": {
   "name": "python385jvsc74a57bd0d0a6fc611dd9351d0e1a9a0fceebb8e7c292efc5334406d2c05ad42c75550574",
   "display_name": "Python 3.8.5 64-bit ('base': conda)"
  }
 },
 "nbformat": 4,
 "nbformat_minor": 2,
 "cells": [
  {
   "source": [
    "# Problem 78\n",
    "## [Coin partitions](https://projecteuler.net/problem=78)\n",
    "<p>Let p(<i>n</i>) represent the number of different ways in which <i>n</i> coins can be separated into piles. For example, five coins can be separated into piles in exactly seven different ways, so p(5)=7.</p>\n",
    "<div class=\"margin_left\">\n",
    "OOOOO<br />\n",
    "OOOO   O<br />\n",
    "OOO   OO<br />\n",
    "OOO   O   O<br />\n",
    "OO   OO   O<br />\n",
    "OO   O   O   O<br />\n",
    "O   O   O   O   O\n",
    "</div>\n",
    "<p>Find the least value of <i>n</i> for which p(<i>n</i>) is divisible by one million.</p>\n"
   ],
   "cell_type": "markdown",
   "metadata": {}
  },
  {
   "cell_type": "code",
   "execution_count": 2,
   "metadata": {},
   "outputs": [],
   "source": [
    "import time"
   ]
  },
  {
   "cell_type": "code",
   "execution_count": 58,
   "metadata": {},
   "outputs": [],
   "source": [
    "partitions = {0:1}\n",
    "def partition(n):\n",
    "    ans = 0\n",
    "    k = 1\n",
    "    while True:\n",
    "        q1 = n - k*(3*k-1)//2\n",
    "        q2 = n - k*(3*k+1)//2\n",
    "        if q1 < 0 and q2 < 0:\n",
    "            break\n",
    "        if q1 >= 0:\n",
    "            ans += (-1)**(k+1)*partitions[q1]\n",
    "        if q2 >= 0:\n",
    "            ans += (-1)**(-k+1)*partitions[q2]\n",
    "        k += 1\n",
    "    partitions[n] = int(ans % 1000000)\n",
    "    return int(ans % 1000000)"
   ]
  },
  {
   "cell_type": "code",
   "execution_count": 59,
   "metadata": {
    "tags": []
   },
   "outputs": [
    {
     "output_type": "stream",
     "name": "stdout",
     "text": [
      "55374 0\n5.52 s ± 0 ns per loop (mean ± std. dev. of 1 run, 1 loop each)\n"
     ]
    }
   ],
   "source": [
    "%%timeit -n1 -r1\n",
    "i = 1\n",
    "while True:\n",
    "    p = partition(i)\n",
    "    if p < 0:\n",
    "        print(i, p)\n",
    "        break\n",
    "    if p % 1000000 == 0:\n",
    "        print(i, p)\n",
    "        break\n",
    "    i += 1"
   ]
  },
  {
   "cell_type": "code",
   "execution_count": null,
   "metadata": {},
   "outputs": [],
   "source": []
  }
 ]
}