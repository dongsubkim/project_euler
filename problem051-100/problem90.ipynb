{
 "metadata": {
  "language_info": {
   "codemirror_mode": {
    "name": "ipython",
    "version": 3
   },
   "file_extension": ".py",
   "mimetype": "text/x-python",
   "name": "python",
   "nbconvert_exporter": "python",
   "pygments_lexer": "ipython3",
   "version": "3.8.5"
  },
  "orig_nbformat": 2,
  "kernelspec": {
   "name": "python385jvsc74a57bd0d0a6fc611dd9351d0e1a9a0fceebb8e7c292efc5334406d2c05ad42c75550574",
   "display_name": "Python 3.8.5 64-bit ('base': conda)"
  }
 },
 "nbformat": 4,
 "nbformat_minor": 2,
 "cells": [
  {
   "source": [
    "# Problem 90\n",
    "## [Cube digit pairs](https://projecteuler.net/problem=90)\n",
    "\n",
    "<p>Each of the six faces on a cube has a different digit (0 to 9) written on it; the same is done to a second cube. By placing the two cubes side-by-side in different positions we can form a variety of 2-digit numbers.</p>\n",
    "\n",
    "<p>For example, the square number 64 could be formed:</p>\n",
    "\n",
    "<div class=\"center\">\n",
    "<img src=\"https://projecteuler.net/project/images/p090.png\" class=\"dark_img\" alt=\"\" /><br /></div>\n",
    "\n",
    "<p>In fact, by carefully choosing the digits on both cubes it is possible to display all of the square numbers below one-hundred: 01, 04, 09, 16, 25, 36, 49, 64, and 81.</p>\n",
    "\n",
    "<p>For example, one way this can be achieved is by placing {0, 5, 6, 7, 8, 9} on one cube and {1, 2, 3, 4, 8, 9} on the other cube.</p>\n",
    "\n",
    "<p>However, for this problem we shall allow the 6 or 9 to be turned upside-down so that an arrangement like {0, 5, 6, 7, 8, 9} and {1, 2, 3, 4, 6, 7} allows for all nine square numbers to be displayed; otherwise it would be impossible to obtain 09.</p>\n",
    "\n",
    "<p>In determining a distinct arrangement we are interested in the digits on each cube, not the order.</p>\n",
    "\n",
    "<p class=\"margin_left\">{1, 2, 3, 4, 5, 6} is equivalent to {3, 6, 4, 1, 2, 5}<br />\n",
    "{1, 2, 3, 4, 5, 6} is distinct from {1, 2, 3, 4, 5, 9}</p>\n",
    "\n",
    "<p>But because we are allowing 6 and 9 to be reversed, the two distinct sets in the last example both represent the extended set {1, 2, 3, 4, 5, 6, 9} for the purpose of forming 2-digit numbers.</p>\n",
    "\n",
    "<p>How many distinct arrangements of the two cubes allow for all of the square numbers to be displayed?</p>"
   ],
   "cell_type": "markdown",
   "metadata": {}
  },
  {
   "cell_type": "code",
   "execution_count": 37,
   "metadata": {},
   "outputs": [],
   "source": [
    "matchings = [\n",
    "    [0, 1],\n",
    "    [0, 4],\n",
    "    [0, 6],\n",
    "    [1, 6],\n",
    "    [1, 8],\n",
    "    [2, 5],\n",
    "    [3, 6],\n",
    "    [4, 6]\n",
    "]"
   ]
  },
  {
   "cell_type": "code",
   "execution_count": 3,
   "metadata": {},
   "outputs": [],
   "source": [
    "from itertools import combinations"
   ]
  },
  {
   "cell_type": "code",
   "execution_count": 54,
   "metadata": {},
   "outputs": [],
   "source": [
    "def contains(num, arr):\n",
    "    if num in arr:\n",
    "        return True\n",
    "    if num == 6 and 9 in arr:\n",
    "        return True\n",
    "    if num == 9 and 6 in arr:\n",
    "        return True\n",
    "    return False"
   ]
  },
  {
   "cell_type": "code",
   "execution_count": 55,
   "metadata": {},
   "outputs": [],
   "source": [
    "def check(c1, c2):\n",
    "    for m in matchings:\n",
    "        if not((contains(m[0], c1) and contains(m[1], c2)) or (contains(m[1], c1) and contains(m[0], c2))):\n",
    "            return False\n",
    "    return True"
   ]
  },
  {
   "cell_type": "code",
   "execution_count": 58,
   "metadata": {},
   "outputs": [],
   "source": [
    "def solution():\n",
    "    c = 0\n",
    "    combs = list(combinations(range(10), 6))\n",
    "    for c1 in combs:\n",
    "        for c2 in combs:\n",
    "            if check(c1, c2):\n",
    "                c += 1\n",
    "    return c // 2 "
   ]
  },
  {
   "cell_type": "code",
   "execution_count": 59,
   "metadata": {
    "tags": []
   },
   "outputs": [
    {
     "output_type": "execute_result",
     "data": {
      "text/plain": [
       "1217"
      ]
     },
     "metadata": {},
     "execution_count": 59
    }
   ],
   "source": [
    "solution()"
   ]
  },
  {
   "cell_type": "code",
   "execution_count": null,
   "metadata": {},
   "outputs": [],
   "source": []
  }
 ]
}