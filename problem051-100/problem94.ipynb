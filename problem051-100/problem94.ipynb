{
 "metadata": {
  "language_info": {
   "codemirror_mode": {
    "name": "ipython",
    "version": 3
   },
   "file_extension": ".py",
   "mimetype": "text/x-python",
   "name": "python",
   "nbconvert_exporter": "python",
   "pygments_lexer": "ipython3",
   "version": "3.8.5"
  },
  "orig_nbformat": 2,
  "kernelspec": {
   "name": "python385jvsc74a57bd0d0a6fc611dd9351d0e1a9a0fceebb8e7c292efc5334406d2c05ad42c75550574",
   "display_name": "Python 3.8.5 64-bit ('base': conda)"
  }
 },
 "nbformat": 4,
 "nbformat_minor": 2,
 "cells": [
  {
   "source": [
    "# Problem 94\n",
    "## [Almost equilateral triangles](https://projecteuler.net/problem=94)\n",
    "\n",
    "<p>It is easily proved that no equilateral triangle exists with integral length sides and integral area. However, the <i>almost equilateral triangle</i> 5-5-6 has an area of 12 square units.</p>\n",
    "<p>We shall define an <i>almost equilateral triangle</i> to be a triangle for which two sides are equal and the third differs by no more than one unit.</p>\n",
    "<p>Find the sum of the perimeters of all <i>almost equilateral triangles</i> with integral side lengths and area and whose perimeters do not exceed one billion (1,000,000,000).</p>\n"
   ],
   "cell_type": "markdown",
   "metadata": {}
  },
  {
   "cell_type": "code",
   "execution_count": 1,
   "metadata": {},
   "outputs": [],
   "source": [
    "import math"
   ]
  },
  {
   "cell_type": "code",
   "execution_count": 16,
   "metadata": {},
   "outputs": [],
   "source": [
    "def solution(N):\n",
    "    a = 3\n",
    "    p = 0\n",
    "    while 3*a + 1 < N:\n",
    "        x = (3*a+1) * (a - 1)\n",
    "        if math.isqrt(x)**2 == x:\n",
    "            x = math.isqrt(x) * (a + 1)\n",
    "            if x % 4 == 0:\n",
    "                # print(a, a, a+1)\n",
    "                p += 3*a + 1\n",
    "        x = (3*a-1) * (a+1)\n",
    "        if math.isqrt(x)**2 == x:\n",
    "            x = math.isqrt(x) * (a - 1)\n",
    "            if x % 4 == 0:\n",
    "                # print(a, a, a-1)\n",
    "                p += 3*a - 1\n",
    "        a += 2\n",
    "    return p"
   ]
  },
  {
   "cell_type": "code",
   "execution_count": 18,
   "metadata": {},
   "outputs": [
    {
     "output_type": "stream",
     "name": "stdout",
     "text": [
      "518408346\n2min 34s ± 0 ns per loop (mean ± std. dev. of 1 run, 1 loop each)\n"
     ]
    }
   ],
   "source": [
    "%%timeit -n1 -r1\n",
    "print(solution(1000000000))"
   ]
  },
  {
   "cell_type": "code",
   "execution_count": 25,
   "metadata": {
    "tags": []
   },
   "outputs": [
    {
     "output_type": "stream",
     "name": "stdout",
     "text": [
      "2 1\n7 4\n26 15\n97 56\n362 209\n1351 780\n5042 2911\n18817 10864\n70226 40545\n262087 151316\n978122 564719\n3650401 2107560\n13623482 7865521\n50843527 29354524\n189750626 109552575\n708158977 408855776\n"
     ]
    }
   ],
   "source": [
    "x, y = 2, 1\n",
    "limit = 1000000000\n",
    "result = 0\n",
    "while True:\n",
    "    print(x, y)\n",
    "    a3 = 2*x-1\n",
    "    area3 = y * (x - 2)\n",
    "    if a3 > limit:\n",
    "        break\n",
    "    if a3 > 0 and area3 > 0 and a3 % 3 == 0 and area3 % 3 == 0:\n",
    "        a = a3 // 3\n",
    "        area = area3 // 3\n",
    "        result += 3 * a + 1\n",
    "\n",
    "    a3 = 2*x+1\n",
    "    area3 = y * (x + 2)\n",
    "    if a3 > limit:\n",
    "        break\n",
    "    if a3 > 0 and area3 > 0 and a3 % 3 == 0 and area3 % 3 == 0:\n",
    "        a = a3 // 3\n",
    "        area = area3 // 3\n",
    "        result += 3 * a - 1\n",
    "    x, y = 2*x + y*3, y*2 + x\n"
   ]
  },
  {
   "cell_type": "code",
   "execution_count": 23,
   "metadata": {},
   "outputs": [
    {
     "output_type": "execute_result",
     "data": {
      "text/plain": [
       "518408346"
      ]
     },
     "metadata": {},
     "execution_count": 23
    }
   ],
   "source": [
    "result"
   ]
  },
  {
   "cell_type": "code",
   "execution_count": null,
   "metadata": {},
   "outputs": [],
   "source": []
  }
 ]
}