{
 "metadata": {
  "language_info": {
   "codemirror_mode": {
    "name": "ipython",
    "version": 3
   },
   "file_extension": ".py",
   "mimetype": "text/x-python",
   "name": "python",
   "nbconvert_exporter": "python",
   "pygments_lexer": "ipython3",
   "version": "3.8.5"
  },
  "orig_nbformat": 2,
  "kernelspec": {
   "name": "python385jvsc74a57bd0d0a6fc611dd9351d0e1a9a0fceebb8e7c292efc5334406d2c05ad42c75550574",
   "display_name": "Python 3.8.5 64-bit ('base': conda)"
  }
 },
 "nbformat": 4,
 "nbformat_minor": 2,
 "cells": [
  {
   "source": [
    "<p>Consider the fraction, <i>n/d</i>, where <i>n</i> and <i>d</i> are positive integers. If <i>n</i>&lt;<i>d</i> and HCF(<i>n,d</i>)=1, it is called a reduced proper fraction.</p>\n",
    "<p>If we list the set of reduced proper fractions for <i>d</i> ≤ 8 in ascending order of size, we get:</p>\n",
    "<p class=\"center smaller\">1/8, 1/7, 1/6, 1/5, 1/4, 2/7, 1/3, 3/8, <b>2/5</b>, 3/7, 1/2, 4/7, 3/5, 5/8, 2/3, 5/7, 3/4, 4/5, 5/6, 6/7, 7/8</p>\n",
    "<p>It can be seen that 2/5 is the fraction immediately to the left of 3/7.</p>\n",
    "<p>By listing the set of reduced proper fractions for <i>d</i> ≤ 1,000,000 in ascending order of size, find the numerator of the fraction immediately to the left of 3/7.</p>\n"
   ],
   "cell_type": "markdown",
   "metadata": {}
  },
  {
   "cell_type": "code",
   "execution_count": 6,
   "metadata": {},
   "outputs": [],
   "source": [
    "import math"
   ]
  },
  {
   "cell_type": "code",
   "execution_count": 14,
   "metadata": {},
   "outputs": [
    {
     "output_type": "stream",
     "name": "stdout",
     "text": [
      "428571 1000000 4.285714285678921e-07 1\n428571 999999 0.0 142857\n428570 999998 5.71429714268934e-07 2\n428570 999997 1.4285757138354782e-07 1\n428569 999996 7.142885714017666e-07 1\n428569 999995 2.8571571425439757e-07 1\n428568 999994 8.571480000219012e-07 2\n428568 999993 4.285744285570381e-07 3\n428568 999992 0.0 142856\n428567 999991 5.714337142914694e-07 1\n"
     ]
    }
   ],
   "source": [
    "min_diff = math.inf\n",
    "for i in range(10):\n",
    "    d = 1000000 - i\n",
    "    n = int(d / 7 * 3)\n",
    "    diff = 3/7 - n/d\n",
    "    print(n, d, diff, math.gcd(n, d))\n",
    "    if diff > 0 and diff < min_diff:\n",
    "        min_diff = diff\n"
   ]
  },
  {
   "cell_type": "code",
   "execution_count": 13,
   "metadata": {},
   "outputs": [
    {
     "output_type": "execute_result",
     "data": {
      "text/plain": [
       "1.4285757138354782e-07"
      ]
     },
     "metadata": {},
     "execution_count": 13
    }
   ],
   "source": [
    "min_diff"
   ]
  },
  {
   "cell_type": "code",
   "execution_count": null,
   "metadata": {},
   "outputs": [],
   "source": []
  }
 ]
}