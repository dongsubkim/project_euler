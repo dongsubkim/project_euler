{
 "metadata": {
  "language_info": {
   "codemirror_mode": {
    "name": "ipython",
    "version": 3
   },
   "file_extension": ".py",
   "mimetype": "text/x-python",
   "name": "python",
   "nbconvert_exporter": "python",
   "pygments_lexer": "ipython3",
   "version": "3.8.5"
  },
  "orig_nbformat": 2,
  "kernelspec": {
   "name": "python385jvsc74a57bd0d0a6fc611dd9351d0e1a9a0fceebb8e7c292efc5334406d2c05ad42c75550574",
   "display_name": "Python 3.8.5 64-bit ('base': conda)"
  }
 },
 "nbformat": 4,
 "nbformat_minor": 2,
 "cells": [
  {
   "source": [
    "<p>In the card game poker, a hand consists of five cards and are ranked, from lowest to highest, in the following way:</p>\n",
    "<ul><li><b>High Card</b>: Highest value card.</li>\n",
    "<li><b>One Pair</b>: Two cards of the same value.</li>\n",
    "<li><b>Two Pairs</b>: Two different pairs.</li>\n",
    "<li><b>Three of a Kind</b>: Three cards of the same value.</li>\n",
    "<li><b>Straight</b>: All cards are consecutive values.</li>\n",
    "<li><b>Flush</b>: All cards of the same suit.</li>\n",
    "<li><b>Full House</b>: Three of a kind and a pair.</li>\n",
    "<li><b>Four of a Kind</b>: Four cards of the same value.</li>\n",
    "<li><b>Straight Flush</b>: All cards are consecutive values of same suit.</li>\n",
    "<li><b>Royal Flush</b>: Ten, Jack, Queen, King, Ace, in same suit.</li>\n",
    "</ul><p>The cards are valued in the order:<br />2, 3, 4, 5, 6, 7, 8, 9, 10, Jack, Queen, King, Ace.</p>\n",
    "<p>If two players have the same ranked hands then the rank made up of the highest value wins; for example, a pair of eights beats a pair of fives (see example 1 below). But if two ranks tie, for example, both players have a pair of queens, then highest cards in each hand are compared (see example 4 below); if the highest cards tie then the next highest cards are compared, and so on.</p>\n",
    "<p>Consider the following five hands dealt to two players:</p>\n",
    "<div class=\"center\">\n",
    "<table><tr><td><b>Hand</b></td><td> </td><td><b>Player 1</b></td><td> </td><td><b>Player 2</b></td><td> </td><td><b>Winner</b></td>\n",
    "</tr><tr><td><b>1</b></td><td> </td><td>5H 5C 6S 7S KD<br /><div class=\"smaller\">Pair of Fives</div></td><td> </td><td>2C 3S 8S 8D TD<br /><div class=\"smaller\">Pair of Eights</div></td><td> </td><td>Player 2</td>\n",
    "</tr><tr><td><b>2</b></td><td> </td><td>5D 8C 9S JS AC<br /><div class=\"smaller\">Highest card Ace</div></td><td> </td><td>2C 5C 7D 8S QH<br /><div class=\"smaller\">Highest card Queen</div></td><td> </td><td>Player 1</td>\n",
    "</tr><tr><td><b>3</b></td><td> </td><td>2D 9C AS AH AC<br /><div class=\"smaller\">Three Aces</div></td><td> </td><td>3D 6D 7D TD QD<br /><div class=\"smaller\">Flush  with Diamonds</div></td><td> </td><td>Player 2</td>\n",
    "</tr><tr><td><b>4</b></td><td> </td><td>4D 6S 9H QH QC<br /><div class=\"smaller\">Pair of Queens<br />Highest card Nine</div></td><td> </td><td>3D 6D 7H QD QS<br /><div class=\"smaller\">Pair of Queens<br />Highest card Seven</div></td><td> </td><td>Player 1</td>\n",
    "</tr><tr><td><b>5</b></td><td> </td><td>2H 2D 4C 4D 4S<br /><div class=\"smaller\">Full House<br />With Three Fours</div></td><td> </td><td>3C 3D 3S 9S 9D<br /><div class=\"smaller\">Full House<br />with Three Threes</div></td><td> </td><td>Player 1</td>\n",
    "</tr></table></div>\n",
    "<p>The file, poker.txt, contains one-thousand random hands dealt to two players. Each line of the file contains ten cards (separated by a single space): the first five are Player 1's cards and the last five are Player 2's cards. You can assume that all hands are valid (no invalid characters or repeated cards), each player's hand is in no specific order, and in each hand there is a clear winner.</p>\n",
    "<p>How many hands does Player 1 win?</p>"
   ],
   "cell_type": "markdown",
   "metadata": {}
  },
  {
   "cell_type": "code",
   "execution_count": 1,
   "metadata": {},
   "outputs": [],
   "source": [
    "import math"
   ]
  },
  {
   "cell_type": "code",
   "execution_count": 20,
   "metadata": {},
   "outputs": [],
   "source": [
    "games = []\n",
    "with open(\"p054_poker.txt\", 'r') as f:\n",
    "    file = f.readlines()\n",
    "    for game in file:\n",
    "        game = game[:-1].split()\n",
    "        first, second = game[:5], game[5:]\n",
    "        games.append([first, second])"
   ]
  },
  {
   "cell_type": "code",
   "execution_count": 21,
   "metadata": {},
   "outputs": [
    {
     "output_type": "execute_result",
     "data": {
      "text/plain": [
       "[['8C', 'TS', 'KC', '9H', '4S'], ['7D', '2S', '5D', '3S', 'AC']]"
      ]
     },
     "metadata": {},
     "execution_count": 21
    }
   ],
   "source": [
    "games[0]"
   ]
  },
  {
   "cell_type": "code",
   "execution_count": 65,
   "metadata": {},
   "outputs": [],
   "source": [
    "def highest_rank(hand):\n",
    "    convert = {}\n",
    "    for i in range(2, 10):\n",
    "        convert[str(i)] = i - 2\n",
    "    convert['T'] = 9\n",
    "    convert['J'] = 10\n",
    "    convert['Q'] = 11\n",
    "    convert['K'] = 12\n",
    "    convert['A'] = 13\n",
    "    \n",
    "    cards = [[], []]\n",
    "    for card in hand:\n",
    "        cards[0].append(convert[card[0]])\n",
    "        cards[1].append(card[1])\n",
    "    cards[0].sort(reverse=True)\n",
    "\n",
    "    ranks = [is_royal_flush, is_straight_flush, is_four_of_kind, is_full_house, is_flush, is_straight, is_three_of_kind, is_two_pair, is_one_pair]\n",
    "    for i, rank in enumerate(ranks):\n",
    "        v = rank(cards)\n",
    "        if v:\n",
    "            return [i, v]\n",
    "    return [len(ranks), cards[0]]\n",
    "    \n",
    "    \n",
    "def is_flush(cards):\n",
    "    suits = cards[1]\n",
    "    if all([suits[0] == s for s in suits]):\n",
    "        return cards[0]\n",
    "    return False\n",
    "\n",
    "def is_straight(cards):\n",
    "    nums = cards[0]\n",
    "    if all([nums[i] - 1 == nums[i+1] for i in range(4)]):\n",
    "        return nums\n",
    "    return False\n",
    "\n",
    "def is_four_of_kind(cards):\n",
    "    nums = cards[0]\n",
    "    if len(set(nums[1:])) == 1:\n",
    "        return nums[1:] + [nums[0]]\n",
    "    elif len(set(nums[:4])) == 1:\n",
    "        return nums\n",
    "    return False\n",
    "\n",
    "def is_full_house(cards):\n",
    "    nums = cards[0]\n",
    "    if nums[0] == nums[1] == nums[2] and nums[3] == nums[4]:\n",
    "        return nums\n",
    "    elif nums[0] == nums[1] and nums[2] == nums[3] == nums[4]:\n",
    "        return nums[2:] + nums[:2]\n",
    "    return False\n",
    "\n",
    "def is_royal_flush(cards):\n",
    "    nums = cards[0]\n",
    "    if nums == [13, 12, 11, 10, 9] and is_flush(cards):\n",
    "        return nums\n",
    "    return False\n",
    "\n",
    "def is_straight_flush(cards):\n",
    "    if is_straight(cards) and is_flush(cards):\n",
    "        return cards[0]\n",
    "    return False\n",
    "\n",
    "def is_three_of_kind(cards):\n",
    "    nums = cards[0]\n",
    "    for i in range(3):\n",
    "        if nums[i] == nums[i+1] == nums[i+2]:\n",
    "            return nums[i:i+3]\n",
    "    return False\n",
    "\n",
    "def is_two_pair(cards):\n",
    "    nums = cards[0]\n",
    "    # Assume three of a kind is not the case\n",
    "    if nums[0] == nums[1]:\n",
    "        if nums[2] == nums[3]:\n",
    "            return nums\n",
    "        elif nums[3] == nums[4]:\n",
    "            nums[2], nums[4] = nums[4], nums[2]\n",
    "            return nums\n",
    "    elif nums[1] == nums[2] and nums[3] == nums[4]:\n",
    "        return nums[1:] + [nums[0]]\n",
    "    return False\n",
    "\n",
    "def is_one_pair(cards):\n",
    "    nums = cards[0]\n",
    "    ret = []\n",
    "    for i in range(len(nums)-1):\n",
    "        if nums[i] == nums[i+1]:\n",
    "            return nums[i:i+2] + ret + nums[i+2:]\n",
    "        else:\n",
    "            ret.append(nums[i])\n",
    "    return False\n",
    "\n",
    "def winner(game):\n",
    "    first, second = game[0], game[1]\n",
    "    first = highest_rank(first)\n",
    "    second = highest_rank(second)\n",
    "    if first[0] == second[0]:\n",
    "        # tie\n",
    "        for f, s in zip(first[1], second[1]):\n",
    "            if f == s:\n",
    "                continue\n",
    "            else:\n",
    "                return f > s\n",
    "    else:\n",
    "        return first[0] < second[0]\n"
   ]
  },
  {
   "cell_type": "code",
   "execution_count": 59,
   "metadata": {},
   "outputs": [],
   "source": [
    "tests = [\n",
    "    \"5H 5C 6S 7S KD 2C 3S 8S 8D TD\",\n",
    "    \"5D 8C 9S JS AC 2C 5C 7D 8S QH\",\n",
    "    \"2D 9C AS AH AC 3D 6D 7D TD QD\",\n",
    "    \"4D 6S 9H QH QC 3D 6D 7H QD QS\",\n",
    "    \"2H 2D 4C 4D 4S 3C 3D 3S 9S 9D\",\n",
    "]\n",
    "ans = [False, True, False, True, True]\n",
    "t = []\n",
    "for test in tests:\n",
    "    game = test.split()\n",
    "    first, second = game[:5], game[5:]\n",
    "    t.append([first, second])"
   ]
  },
  {
   "cell_type": "code",
   "execution_count": 63,
   "metadata": {},
   "outputs": [
    {
     "output_type": "stream",
     "name": "stdout",
     "text": [
      "[8, [3, 3, 12, 5, 4]] [8, [6, 6, 9, 1, 0]]\nFalse\n[9, [13, 10, 7, 6, 3]] [9, [11, 6, 5, 3, 0]]\nTrue\n[6, [13, 13, 13]] [4, [11, 9, 5, 4, 1]]\nFalse\n[8, [11, 11, 7, 4, 2]] [8, [11, 11, 5, 4, 1]]\nTrue\n[3, [2, 2, 2, 0, 0]] [3, [1, 1, 1, 7, 7]]\nTrue\n"
     ]
    }
   ],
   "source": [
    "for i in t:\n",
    "    print(winner(i))"
   ]
  },
  {
   "cell_type": "code",
   "execution_count": 66,
   "metadata": {
    "tags": []
   },
   "outputs": [],
   "source": [
    "c = 0\n",
    "for g in games:\n",
    "    if winner(g):\n",
    "        c += 1"
   ]
  },
  {
   "cell_type": "code",
   "execution_count": 67,
   "metadata": {},
   "outputs": [
    {
     "output_type": "execute_result",
     "data": {
      "text/plain": [
       "376"
      ]
     },
     "metadata": {},
     "execution_count": 67
    }
   ],
   "source": [
    "c"
   ]
  },
  {
   "cell_type": "code",
   "execution_count": null,
   "metadata": {},
   "outputs": [],
   "source": []
  }
 ]
}