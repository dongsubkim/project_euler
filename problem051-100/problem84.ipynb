{
 "metadata": {
  "language_info": {
   "codemirror_mode": {
    "name": "ipython",
    "version": 3
   },
   "file_extension": ".py",
   "mimetype": "text/x-python",
   "name": "python",
   "nbconvert_exporter": "python",
   "pygments_lexer": "ipython3",
   "version": "3.8.5"
  },
  "orig_nbformat": 2,
  "kernelspec": {
   "name": "python385jvsc74a57bd0d0a6fc611dd9351d0e1a9a0fceebb8e7c292efc5334406d2c05ad42c75550574",
   "display_name": "Python 3.8.5 64-bit ('base': conda)"
  }
 },
 "nbformat": 4,
 "nbformat_minor": 2,
 "cells": [
  {
   "source": [
    "# Problem 84 \n",
    "## [Monopoly odds](https://projecteuler.net/problem=84)\n",
    "\n",
    "<p>In the game, <i>Monopoly</i>, the standard board is set up in the following way:</p>\n",
    "<div class=\"center\">\n",
    "<img src=\"https://projecteuler.net/project/images/p084_monopoly_board.png\" alt=\"p084_monopoly_board.png\" />\n",
    "</div>\n",
    "<p>A player starts on the GO square and adds the scores on two 6-sided dice to determine the number of squares they advance in a clockwise direction. Without any further rules we would expect to visit each square with equal probability: 2.5%. However, landing on G2J (Go To Jail), CC (community chest), and CH (chance) changes this distribution.</p>\n",
    "<p>In addition to G2J, and one card from each of CC and CH, that orders the player to go directly to jail, if a player rolls three consecutive doubles, they do not advance the result of their 3rd roll. Instead they proceed directly to jail.</p>\n",
    "<p>At the beginning of the game, the CC and CH cards are shuffled. When a player lands on CC or CH they take a card from the top of the respective pile and, after following the instructions, it is returned to the bottom of the pile. There are sixteen cards in each pile, but for the purpose of this problem we are only concerned with cards that order a movement; any instruction not concerned with movement will be ignored and the player will remain on the CC/CH square.</p>\n",
    "<ul><li>Community Chest (2/16 cards):\n",
    "<ol><li>Advance to GO</li>\n",
    "<li>Go to JAIL</li>\n",
    "</ol></li>\n",
    "<li>Chance (10/16 cards):\n",
    "<ol><li>Advance to GO</li>\n",
    "<li>Go to JAIL</li>\n",
    "<li>Go to C1</li>\n",
    "<li>Go to E3</li>\n",
    "<li>Go to H2</li>\n",
    "<li>Go to R1</li>\n",
    "<li>Go to next R (railway company)</li>\n",
    "<li>Go to next R</li>\n",
    "<li>Go to next U (utility company)</li>\n",
    "<li>Go back 3 squares.</li>\n",
    "</ol></li>\n",
    "</ul><p>The heart of this problem concerns the likelihood of visiting a particular square. That is, the probability of finishing at that square after a roll. For this reason it should be clear that, with the exception of G2J for which the probability of finishing on it is zero, the CH squares will have the lowest probabilities, as 5/8 request a movement to another square, and it is the final square that the player finishes at on each roll that we are interested in. We shall make no distinction between \"Just Visiting\" and being sent to JAIL, and we shall also ignore the rule about requiring a double to \"get out of jail\", assuming that they pay to get out on their next turn.</p>\n",
    "<p>By starting at GO and numbering the squares sequentially from 00 to 39 we can concatenate these two-digit numbers to produce strings that correspond with sets of squares.</p>\n",
    "<p>Statistically it can be shown that the three most popular squares, in order, are JAIL (6.24%) = Square 10, E3 (3.18%) = Square 24, and GO (3.09%) = Square 00. So these three most popular squares can be listed with the six-digit modal string: 102400.</p>\n",
    "<p>If, instead of using two 6-sided dice, two 4-sided dice are used, find the six-digit modal string.</p>\n",
    "\n"
   ],
   "cell_type": "markdown",
   "metadata": {}
  },
  {
   "cell_type": "code",
   "execution_count": 1,
   "metadata": {},
   "outputs": [],
   "source": [
    "from collections import defaultdict\n",
    "import random"
   ]
  },
  {
   "cell_type": "code",
   "execution_count": 2,
   "metadata": {},
   "outputs": [],
   "source": [
    "tiles = [\n",
    "    [\"GO\", 0],\n",
    "    [\"A\", 1],\n",
    "    [\"CC\", 1],\n",
    "    [\"A\", 2],\n",
    "    [\"T\", 1],\n",
    "    [\"R\", 1],\n",
    "    [\"B\", 1],\n",
    "    [\"CH\", 1],\n",
    "    [\"B\", 2],\n",
    "    [\"B\", 3],\n",
    "    [\"JAIL\", 0],\n",
    "    [\"C\",1],\n",
    "    [\"U\",1],\n",
    "    [\"C\",2],\n",
    "    [\"C\",3],\n",
    "    [\"R\",2],\n",
    "    [\"D\", 1],\n",
    "    [\"CC\", 2],\n",
    "    [\"D\", 2],\n",
    "    [\"D\", 3],\n",
    "    [\"FP\", 0],\n",
    "    [\"E\", 1],\n",
    "    [\"CH\", 2],\n",
    "    [\"E\", 2],\n",
    "    [\"E\", 3],\n",
    "    [\"R\", 3],\n",
    "    [\"F\", 1],\n",
    "    [\"F\", 1],\n",
    "    [\"U\", 2],\n",
    "    [\"F\", 3],\n",
    "    [\"G2J\", 0],\n",
    "    [\"G\", 1],\n",
    "    [\"CC\", 3],\n",
    "    [\"G\", 2],\n",
    "    [\"G\", 3],\n",
    "    [\"R\", 4],\n",
    "    [\"CH\", 3],\n",
    "    [\"H\", 1],\n",
    "    [\"T\", 2],\n",
    "    [\"H\", 2],\n",
    "]"
   ]
  },
  {
   "cell_type": "code",
   "execution_count": 3,
   "metadata": {},
   "outputs": [],
   "source": [
    "monopoly = {}\n",
    "for i in range(40):\n",
    "    if i < 10:\n",
    "        monopoly[\"0\" + str(i)] = tiles[i]\n",
    "    else:\n",
    "        monopoly[str(i)] = tiles[i]"
   ]
  },
  {
   "cell_type": "code",
   "execution_count": 4,
   "metadata": {},
   "outputs": [],
   "source": []
  },
  {
   "cell_type": "code",
   "execution_count": 4,
   "metadata": {},
   "outputs": [],
   "source": [
    "def setDice(n):\n",
    "    def foo():\n",
    "        first = random.randint(1, n)\n",
    "        second = random.randint(1, n)\n",
    "        return [first, second]\n",
    "    return foo"
   ]
  },
  {
   "cell_type": "code",
   "execution_count": 5,
   "metadata": {},
   "outputs": [],
   "source": [
    "def convertPos(n):\n",
    "    n = n % 40\n",
    "    if n < 10:\n",
    "        return \"0\" + str(n)\n",
    "    else:\n",
    "        return str(n)"
   ]
  },
  {
   "cell_type": "code",
   "execution_count": 6,
   "metadata": {},
   "outputs": [],
   "source": [
    "ordinary_type = [\"A\", \"B\", \"C\", \"D\", \"E\", \"F\", \"G\", \"H\", \"U\", \"R\", \"FP\", \"T\", \"GO\"]\n",
    "special_type = [\"CC\", \"CH\", \"JAIL\", \"G2J\"]"
   ]
  },
  {
   "cell_type": "code",
   "execution_count": 7,
   "metadata": {},
   "outputs": [],
   "source": [
    "def check_doubles(diceRess):\n",
    "    if len(diceRess) < 3:\n",
    "        return False\n",
    "    if diceRess[-3][0] == diceRess[-3][1] and diceRess[-2][0] == diceRess[-2][1] and diceRess[-1][0] == diceRess[-1][1]:\n",
    "        return True\n",
    "    return False"
   ]
  },
  {
   "cell_type": "code",
   "execution_count": 17,
   "metadata": {},
   "outputs": [],
   "source": [
    "cc = [[\"GOTO\", \"00\"], [\"GOTO\", \"10\"]] + [[]] * 14\n",
    "ch = [[\"GOTO\", \"00\"], [\"GOTO\", \"10\"], [\"GOTO\", \"11\"], [\"GOTO\", \"24\"], [\"GOTO\", \"39\"], [\"GOTO\", \"05\"], [\"GOTO\", \"NextR\"], [\"GOTO\", \"NextR\"], [\"GOTO\", \"NextU\"], [\"GOBACK\", 3]] + [[]] * 6\n",
    "def simulate(dice_num, simul_num, cc, ch):\n",
    "    counts = defaultdict(int)\n",
    "    roll_dice = setDice(dice_num)\n",
    "    # roll dice\n",
    "    dice_ress = []\n",
    "    curr_pos = 0\n",
    "    for _ in range(simul_num):\n",
    "        dice_res = roll_dice()\n",
    "        dice_ress.append(dice_res)\n",
    "        dice_ress = dice_ress[-3:]\n",
    "\n",
    "        if check_doubles(dice_ress):\n",
    "            # doubles 3 times, go to jail\n",
    "            curr_pos = \"10\"\n",
    "        else:\n",
    "            curr_pos = convertPos(int(curr_pos) + sum(dice_res))\n",
    "        # curr_pos = convertPos(int(curr_pos) + sum(dice_res))\n",
    "        curr_tile = monopoly[curr_pos]\n",
    "        tile_type = curr_tile[0]\n",
    "        if tile_type == \"CC\":\n",
    "            card = cc[0]\n",
    "            if card != []:\n",
    "                curr_pos = card[1]\n",
    "            cc = cc[1:] + [cc[0]]\n",
    "        elif tile_type == \"CH\":\n",
    "            card = ch[0]\n",
    "            ch = ch[1:] + [ch[0]]\n",
    "            if card != []:\n",
    "                if card[0] == \"GOBACK\":\n",
    "                    curr_pos = convertPos(int(curr_pos) - 3)\n",
    "                elif card[1] == \"NextR\":\n",
    "                    if curr_pos == \"07\":\n",
    "                        curr_pos = \"15\"\n",
    "                    elif curr_pos == \"22\":\n",
    "                        curr_pos = \"25\"\n",
    "                    elif curr_pos == \"36\":\n",
    "                        curr_pos = \"05\"\n",
    "                    else:\n",
    "                        raise ValueError(\"1\")\n",
    "                elif card[1] == \"NextU\":\n",
    "                    if curr_pos == \"07\" or curr_pos == \"36\":\n",
    "                        curr_pos = \"12\"\n",
    "                    elif curr_pos == \"22\":\n",
    "                        curr_pos = \"28\"\n",
    "                    else:\n",
    "                        raise ValueError(\"2\")\n",
    "                else:\n",
    "                    curr_pos = card[1]\n",
    "        elif tile_type == \"G2J\":\n",
    "            curr_pos = \"10\"\n",
    "        counts[curr_pos] += 1\n",
    "\n",
    "    for k in counts.keys():\n",
    "        counts[k] = counts[k] / (simul_num) * 100\n",
    "    return counts\n"
   ]
  },
  {
   "cell_type": "code",
   "execution_count": 25,
   "metadata": {},
   "outputs": [
    {
     "output_type": "stream",
     "name": "stdout",
     "text": [
      "['JAIL', 0] 10 7.38478\n['R', 2] 15 3.67518\n['E', 3] 24 3.2699899999999995\n['D', 1] 16 3.18466\n['R', 3] 25 3.1169700000000002\n['D', 3] 19 3.057\n['E', 1] 21 3.03946\n['FP', 0] 20 3.0089\n['E', 2] 23 2.97756\n['D', 2] 18 2.89779\n25.7 s ± 0 ns per loop (mean ± std. dev. of 1 run, 1 loop each)\n"
     ]
    }
   ],
   "source": [
    "%%timeit -n1 -r1\n",
    "res = simulate(4, 10000000, cc, ch)\n",
    "for k, v in sorted(res.items(), key=lambda s: s[1], reverse=True)[:10]:\n",
    "    print(monopoly[k], k, v)"
   ]
  },
  {
   "cell_type": "code",
   "execution_count": null,
   "metadata": {},
   "outputs": [],
   "source": []
  }
 ]
}