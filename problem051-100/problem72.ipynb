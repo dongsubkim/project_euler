{
 "metadata": {
  "language_info": {
   "codemirror_mode": {
    "name": "ipython",
    "version": 3
   },
   "file_extension": ".py",
   "mimetype": "text/x-python",
   "name": "python",
   "nbconvert_exporter": "python",
   "pygments_lexer": "ipython3",
   "version": "3.8.5"
  },
  "orig_nbformat": 2,
  "kernelspec": {
   "name": "python385jvsc74a57bd0d0a6fc611dd9351d0e1a9a0fceebb8e7c292efc5334406d2c05ad42c75550574",
   "display_name": "Python 3.8.5 64-bit ('base': conda)"
  }
 },
 "nbformat": 4,
 "nbformat_minor": 2,
 "cells": [
  {
   "source": [
    "# [Counting fractions](https://projecteuler.net/problem=72)\n",
    "<p>Consider the fraction, <i>n/d</i>, where <i>n</i> and <i>d</i> are positive integers. If <i>n</i>&lt;<i>d</i> and HCF(<i>n,d</i>)=1, it is called a reduced proper fraction.</p>\n",
    "<p>If we list the set of reduced proper fractions for <i>d</i> ≤ 8 in ascending order of size, we get:</p>\n",
    "<p class=\"center smaller\">1/8, 1/7, 1/6, 1/5, 1/4, 2/7, 1/3, 3/8, 2/5, 3/7, 1/2, 4/7, 3/5, 5/8, 2/3, 5/7, 3/4, 4/5, 5/6, 6/7, 7/8</p>\n",
    "<p>It can be seen that there are 21 elements in this set.</p>\n",
    "<p>How many elements would be contained in the set of reduced proper fractions for <i>d</i> ≤ 1,000,000?</p>\n"
   ],
   "cell_type": "markdown",
   "metadata": {}
  },
  {
   "cell_type": "code",
   "execution_count": 2,
   "metadata": {},
   "outputs": [],
   "source": [
    "import math"
   ]
  },
  {
   "cell_type": "code",
   "execution_count": 14,
   "metadata": {},
   "outputs": [],
   "source": [
    "primes = []"
   ]
  },
  {
   "cell_type": "code",
   "execution_count": 25,
   "metadata": {},
   "outputs": [],
   "source": [
    "def phi(n):\n",
    "    ans = n\n",
    "    for p in primes:\n",
    "        if n % p == 0:\n",
    "            ans -= ans // p\n",
    "        elif p > n:\n",
    "            break\n",
    "    return ans\n",
    "        "
   ]
  },
  {
   "cell_type": "code",
   "execution_count": 31,
   "metadata": {},
   "outputs": [],
   "source": [
    "def is_prime(n):\n",
    "    for p in primes:\n",
    "        if n % p == 0:\n",
    "            return False\n",
    "        if p > math.isqrt(n):\n",
    "            break\n",
    "    return True"
   ]
  },
  {
   "cell_type": "code",
   "execution_count": 32,
   "metadata": {},
   "outputs": [],
   "source": [
    "for i in range(2, 1000000):\n",
    "    if is_prime(i):\n",
    "        primes.append(i)"
   ]
  },
  {
   "cell_type": "code",
   "execution_count": 48,
   "metadata": {},
   "outputs": [
    {
     "output_type": "execute_result",
     "data": {
      "text/plain": [
       "[2, 3, 5, 7, 11, 13, 17, 19, 3, 5, 7, 11, 13, 17, 19, 23, 29, 31, 37, 41]"
      ]
     },
     "metadata": {},
     "execution_count": 48
    }
   ],
   "source": [
    "primes[:20]"
   ]
  },
  {
   "cell_type": "code",
   "execution_count": 57,
   "metadata": {},
   "outputs": [],
   "source": []
  },
  {
   "cell_type": "code",
   "execution_count": 85,
   "metadata": {},
   "outputs": [
    {
     "output_type": "execute_result",
     "data": {
      "text/plain": [
       "78505"
      ]
     },
     "metadata": {},
     "execution_count": 85
    }
   ],
   "source": [
    "len(primes)"
   ]
  },
  {
   "cell_type": "code",
   "execution_count": 89,
   "metadata": {},
   "outputs": [],
   "source": [
    "def solution(d):\n",
    "    s = 1\n",
    "    for i in range(1, d+1):\n",
    "        s += mobius_function(i) * ((d // i)**2)\n",
    "    return s/2 - 1"
   ]
  },
  {
   "cell_type": "code",
   "execution_count": 91,
   "metadata": {},
   "outputs": [
    {
     "output_type": "stream",
     "name": "stdout",
     "text": [
      "303963552391.0\n16.4 s ± 0 ns per loop (mean ± std. dev. of 1 run, 1 loop each)\n"
     ]
    }
   ],
   "source": [
    "%%timeit -n1 -r1\n",
    "print(solution(1000000))"
   ]
  },
  {
   "cell_type": "code",
   "execution_count": 1,
   "metadata": {},
   "outputs": [],
   "source": [
    "def solution(d):\n",
    "    s = 1\n",
    "    for i in range(1, d+1):\n",
    "        s += mobius_function(i) * ((d // i)**2)\n",
    "    return s/2 - 1\n",
    "def mobius(n):\n",
    "    c = 0\n",
    "    for p in primes:\n",
    "        if p > n:\n",
    "            break\n",
    "        elif p == n:\n",
    "            return -1\n",
    "        if n % p == 0:\n",
    "            if n % (p**2) == 0:\n",
    "                return 0\n",
    "            c += 1\n",
    "    if c % 2 == 0:\n",
    "        return 1\n",
    "    return -1\n",
    "def is_square_free(factors):\n",
    "    '''\n",
    "    This functions takes a list of prime factors as input.\n",
    "    returns True if the factors are square free.\n",
    "    '''\n",
    "    for i in factors:\n",
    "        if factors.count(i) > 1:\n",
    "            return False\n",
    "    return True\n",
    "\n",
    "\n",
    "def prime_factors(n):\n",
    "    '''\n",
    "    Returns prime factors of n as a list.\n",
    "    '''\n",
    "    i = 2\n",
    "    factors = []\n",
    "    while i * i <= n:\n",
    "        if n % i:\n",
    "            i += 1\n",
    "        else:\n",
    "            n //= i\n",
    "            factors.append(i)\n",
    "    if n > 1:\n",
    "        factors.append(n)\n",
    "    return factors\n",
    "\n",
    "\n",
    "def mobius_function(n):\n",
    "    '''\n",
    "    Defines Mobius function\n",
    "    '''\n",
    "    factors = prime_factors(n)\n",
    "    if is_square_free(factors):\n",
    "        if len(factors) % 2 == 0:\n",
    "            return 1\n",
    "        elif len(factors) % 2 != 0:\n",
    "            return -1\n",
    "    else:\n",
    "        return 0"
   ]
  },
  {
   "cell_type": "code",
   "execution_count": 87,
   "metadata": {},
   "outputs": [
    {
     "output_type": "stream",
     "name": "stdout",
     "text": [
      "83.6 µs ± 792 ns per loop (mean ± std. dev. of 7 runs, 10000 loops each)\n"
     ]
    }
   ],
   "source": [
    "%%timeit\n",
    "for i in range(100):\n",
    "    mobius_function(i)"
   ]
  },
  {
   "cell_type": "code",
   "execution_count": 88,
   "metadata": {},
   "outputs": [
    {
     "output_type": "stream",
     "name": "stdout",
     "text": [
      "146 µs ± 289 ns per loop (mean ± std. dev. of 7 runs, 10000 loops each)\n"
     ]
    }
   ],
   "source": [
    "%%timeit\n",
    "for i in range(100):\n",
    "    mobius(i)"
   ]
  },
  {
   "cell_type": "code",
   "execution_count": null,
   "metadata": {},
   "outputs": [],
   "source": []
  }
 ]
}