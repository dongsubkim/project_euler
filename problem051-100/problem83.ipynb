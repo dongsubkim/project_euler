{
 "metadata": {
  "language_info": {
   "codemirror_mode": {
    "name": "ipython",
    "version": 3
   },
   "file_extension": ".py",
   "mimetype": "text/x-python",
   "name": "python",
   "nbconvert_exporter": "python",
   "pygments_lexer": "ipython3",
   "version": "3.8.5"
  },
  "orig_nbformat": 2,
  "kernelspec": {
   "name": "python385jvsc74a57bd0d0a6fc611dd9351d0e1a9a0fceebb8e7c292efc5334406d2c05ad42c75550574",
   "display_name": "Python 3.8.5 64-bit ('base': conda)"
  }
 },
 "nbformat": 4,
 "nbformat_minor": 2,
 "cells": [
  {
   "source": [
    "# Problem 83\n",
    "## [Path sum: four ways](https://projecteuler.net/problem=83)\n",
    "<p class=\"small_notice\">NOTE: This problem is a significantly more challenging version of <a href=\"https://rocky-reef-36065.herokuapp.com/post/61a1d9cc-fd69-4587-6f45-f87784158d9f\">Problem 81</a>.</p>\n",
    "<p>In the 5 by 5 matrix below, the minimal path sum from the top left to the bottom right, by moving left, right, up, and down, is indicated in bold red and is equal to 2297.</p>\n",
    "<div class=\"center\">\n",
    "\n",
    "![Web capture_5-6-2021_174915_projecteuler.net.jpeg](https://res.cloudinary.com/ddeivviyp/image/upload/v1622882981/MyBlog/y2mdpgasseom2hgne7vq.jpg)\n",
    "\n",
    "</div>\n",
    "<p>Find the minimal path sum from the top left to the bottom right by moving left, right, up, and down in <a href=\"https://projecteuler.net/project/resources/p083_matrix.txt\">matrix.txt</a> (right click and \"Save Link/Target As...\"), a 31K text file containing an 80 by 80 matrix.</p>"
   ],
   "cell_type": "markdown",
   "metadata": {}
  },
  {
   "cell_type": "code",
   "execution_count": 1,
   "metadata": {},
   "outputs": [],
   "source": [
    "sample = [[131, 673, 234, 103, 18], [201, 96, 342, 965, 150], [630, 803, 746, 422, 111], [537, 699, 497, 121, 956], [805, 732, 524, 37, 331]]"
   ]
  },
  {
   "cell_type": "code",
   "execution_count": 2,
   "metadata": {},
   "outputs": [],
   "source": [
    "from collections import deque"
   ]
  },
  {
   "cell_type": "code",
   "execution_count": 13,
   "metadata": {},
   "outputs": [],
   "source": [
    "def solution(matrix):\n",
    "    q = deque([])\n",
    "    q.append((0, 0))\n",
    "    sumMatrix = [[None] * len(matrix[0]) for _ in range(len(matrix))]\n",
    "    sumMatrix[0][0] = matrix[0][0]\n",
    "    while q:\n",
    "        i, j = q.popleft()\n",
    "        curr = sumMatrix[i][j]\n",
    "        deltas = [(0, 1), (0, -1), (1, 0), (-1, 0)]\n",
    "        coord = []\n",
    "        for d in deltas:\n",
    "            new_i = i + d[0]\n",
    "            new_j = j + d[1]\n",
    "            if 0 <= new_i < len(matrix) and 0 <= new_j < len(matrix[0]):\n",
    "                coord.append((new_i, new_j))\n",
    "        for new_i, new_j in coord:\n",
    "            if sumMatrix[new_i][new_j] is None:\n",
    "                sumMatrix[new_i][new_j] = matrix[new_i][new_j] + curr\n",
    "                q.append((new_i, new_j))\n",
    "            elif matrix[new_i][new_j] + curr < sumMatrix[new_i][new_j]:\n",
    "                sumMatrix[new_i][new_j] = matrix[new_i][new_j] + curr\n",
    "                q.append((new_i, new_j))\n",
    "    return sumMatrix[-1][-1]"
   ]
  },
  {
   "cell_type": "code",
   "execution_count": 12,
   "metadata": {},
   "outputs": [
    {
     "output_type": "stream",
     "name": "stdout",
     "text": [
      "deque([(0, 1), (1, 0)])\ndeque([(1, 0), (0, 2), (1, 1)])\ndeque([(0, 2), (1, 1), (1, 1), (2, 0)])\ndeque([(1, 1), (1, 1), (2, 0), (0, 3), (1, 2)])\ndeque([(1, 1), (2, 0), (0, 3), (1, 2), (1, 2), (2, 1)])\ndeque([(2, 0), (0, 3), (1, 2), (1, 2), (2, 1)])\ndeque([(0, 3), (1, 2), (1, 2), (2, 1), (3, 0)])\ndeque([(1, 2), (1, 2), (2, 1), (3, 0), (0, 4), (1, 3)])\ndeque([(1, 2), (2, 1), (3, 0), (0, 4), (1, 3), (1, 3), (2, 2), (0, 2)])\ndeque([(2, 1), (3, 0), (0, 4), (1, 3), (1, 3), (2, 2), (0, 2)])\ndeque([(3, 0), (0, 4), (1, 3), (1, 3), (2, 2), (0, 2), (3, 1)])\ndeque([(0, 4), (1, 3), (1, 3), (2, 2), (0, 2), (3, 1), (4, 0)])\ndeque([(1, 3), (1, 3), (2, 2), (0, 2), (3, 1), (4, 0), (1, 4)])\ndeque([(1, 3), (2, 2), (0, 2), (3, 1), (4, 0), (1, 4), (2, 3)])\ndeque([(2, 2), (0, 2), (3, 1), (4, 0), (1, 4), (2, 3)])\ndeque([(0, 2), (3, 1), (4, 0), (1, 4), (2, 3), (2, 3), (3, 2)])\ndeque([(3, 1), (4, 0), (1, 4), (2, 3), (2, 3), (3, 2), (0, 3)])\ndeque([(4, 0), (1, 4), (2, 3), (2, 3), (3, 2), (0, 3), (4, 1)])\ndeque([(1, 4), (2, 3), (2, 3), (3, 2), (0, 3), (4, 1)])\ndeque([(2, 3), (2, 3), (3, 2), (0, 3), (4, 1), (2, 4)])\ndeque([(2, 3), (3, 2), (0, 3), (4, 1), (2, 4), (3, 3)])\ndeque([(3, 2), (0, 3), (4, 1), (2, 4), (3, 3)])\ndeque([(0, 3), (4, 1), (2, 4), (3, 3), (4, 2)])\ndeque([(4, 1), (2, 4), (3, 3), (4, 2), (0, 4)])\ndeque([(2, 4), (3, 3), (4, 2), (0, 4)])\ndeque([(3, 3), (4, 2), (0, 4), (2, 3), (3, 4)])\ndeque([(4, 2), (0, 4), (2, 3), (3, 4), (4, 3)])\ndeque([(0, 4), (2, 3), (3, 4), (4, 3)])\ndeque([(2, 3), (3, 4), (4, 3), (1, 4)])\ndeque([(3, 4), (4, 3), (1, 4), (3, 3)])\ndeque([(4, 3), (1, 4), (3, 3), (4, 4)])\ndeque([(1, 4), (3, 3), (4, 4), (4, 4)])\ndeque([(3, 3), (4, 4), (4, 4), (2, 4)])\ndeque([(4, 4), (4, 4), (2, 4), (4, 3)])\ndeque([(4, 4), (2, 4), (4, 3)])\ndeque([(2, 4), (4, 3)])\ndeque([(4, 3), (2, 3), (3, 4)])\ndeque([(2, 3), (3, 4), (4, 4), (4, 2)])\ndeque([(3, 4), (4, 4), (4, 2), (3, 3)])\ndeque([(4, 4), (4, 2), (3, 3)])\ndeque([(4, 2), (3, 3)])\ndeque([(3, 3)])\ndeque([(4, 3)])\ndeque([(4, 4), (4, 2)])\ndeque([(4, 2)])\ndeque([])\n"
     ]
    },
    {
     "output_type": "execute_result",
     "data": {
      "text/plain": [
       "2297"
      ]
     },
     "metadata": {},
     "execution_count": 12
    }
   ],
   "source": [
    "solution(sample)"
   ]
  },
  {
   "cell_type": "code",
   "execution_count": 14,
   "metadata": {},
   "outputs": [],
   "source": [
    "matrix = []\n",
    "with open(\"p082_matrix.txt\", \"r\") as f:\n",
    "    matrix = f.read().splitlines()\n",
    "matrix = [list(map(int, r.split(\",\"))) for r in matrix]"
   ]
  },
  {
   "cell_type": "code",
   "execution_count": 15,
   "metadata": {},
   "outputs": [
    {
     "output_type": "execute_result",
     "data": {
      "text/plain": [
       "425185"
      ]
     },
     "metadata": {},
     "execution_count": 15
    }
   ],
   "source": [
    "solution(matrix)"
   ]
  },
  {
   "cell_type": "code",
   "execution_count": null,
   "metadata": {},
   "outputs": [],
   "source": []
  }
 ]
}