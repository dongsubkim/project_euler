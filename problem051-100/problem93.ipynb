{
 "metadata": {
  "language_info": {
   "codemirror_mode": {
    "name": "ipython",
    "version": 3
   },
   "file_extension": ".py",
   "mimetype": "text/x-python",
   "name": "python",
   "nbconvert_exporter": "python",
   "pygments_lexer": "ipython3",
   "version": "3.8.5"
  },
  "orig_nbformat": 2,
  "kernelspec": {
   "name": "python385jvsc74a57bd0d0a6fc611dd9351d0e1a9a0fceebb8e7c292efc5334406d2c05ad42c75550574",
   "display_name": "Python 3.8.5 64-bit ('base': conda)"
  }
 },
 "nbformat": 4,
 "nbformat_minor": 2,
 "cells": [
  {
   "source": [
    "# Problem 93\n",
    "## [Arithmetic expressions](https://projecteuler.net/problem=93)\n",
    "\n",
    "<p>By using each of the digits from the set, {1, 2, 3, 4}, exactly once, and making use of the four arithmetic operations (+, −, *, /) and brackets/parentheses, it is possible to form different positive integer targets.</p>\n",
    "<p>For example,</p>\n",
    "<p class=\"monospace margin_left\">8 = (4 * (1 + 3)) / 2<br />\n",
    "14 = 4 * (3 + 1 / 2)<br />\n",
    "19 = 4 * (2 + 3) − 1<br />\n",
    "36 = 3 * 4 * (2 + 1)</p>\n",
    "<p>Note that concatenations of the digits, like 12 + 34, are not allowed.</p>\n",
    "<p>Using the set, {1, 2, 3, 4}, it is possible to obtain thirty-one different target numbers of which 36 is the maximum, and each of the numbers 1 to 28 can be obtained before encountering the first non-expressible number.</p>\n",
    "<p>Find the set of four distinct digits, <i>a</i> &lt; <i>b</i> &lt; <i>c</i> &lt; <i>d</i>, for which the longest set of consecutive positive integers, 1 to <i>n</i>, can be obtained, giving your answer as a string: <i>abcd</i>.</p>\n"
   ],
   "cell_type": "markdown",
   "metadata": {}
  },
  {
   "cell_type": "code",
   "execution_count": 3,
   "metadata": {},
   "outputs": [],
   "source": [
    "from itertools import permutations, product\n",
    "import math"
   ]
  },
  {
   "cell_type": "code",
   "execution_count": 4,
   "metadata": {},
   "outputs": [],
   "source": [
    "def apply(a, b, f):\n",
    "    if f == \"add\":\n",
    "        return a + b\n",
    "    elif f == \"sub\":\n",
    "        return a - b\n",
    "    elif f == \"div\":\n",
    "        return a / b\n",
    "    elif f == \"mul\":\n",
    "        return a * b\n",
    "    else:\n",
    "        raise ValueError(\"INVALID FUNC\")"
   ]
  },
  {
   "cell_type": "code",
   "execution_count": 5,
   "metadata": {},
   "outputs": [
    {
     "output_type": "execute_result",
     "data": {
      "text/plain": [
       "[(0, 1, 2), (0, 2, 1), (1, 0, 2), (1, 2, 0), (2, 0, 1), (2, 1, 0)]"
      ]
     },
     "metadata": {},
     "execution_count": 5
    }
   ],
   "source": [
    "list(permutations(range(3), 3))"
   ]
  },
  {
   "cell_type": "code",
   "execution_count": 12,
   "metadata": {},
   "outputs": [],
   "source": [
    "def consecutive(a, b, c, d):\n",
    "    s = set()\n",
    "    for p in permutations([a, b, c, d], 4):\n",
    "        for ops in product([\"add\", \"sub\", \"mul\", \"div\"], repeat=3):\n",
    "            for order in [(0, 1, 2), (0, 2, 1), (1, 0, 2), (1, 2, 0), (2, 0, 1), (2, 1, 0)]:\n",
    "                formula = [p[0], ops[0], p[1], ops[1], p[2], ops[2], p[3]]\n",
    "                res = None\n",
    "                try:\n",
    "                    if order[0] == 0:\n",
    "                        formula = [apply(formula[0], formula[2], formula[1])] + formula[3:]\n",
    "                    elif order[0] == 1:\n",
    "                        formula = formula[:2] + [apply(formula[2], formula[4], formula[3])] + formula[5:]\n",
    "                    else:\n",
    "                        formula = formula[:4] + [apply(formula[4], formula[6], formula[5])]\n",
    "\n",
    "                    if order[1] == 0 or order[:1] == [0, 1]:\n",
    "                        formula = [apply(formula[0], formula[2], formula[1])] + formula[3:]\n",
    "                    else:\n",
    "                        formula = [formula[:2]] + [apply(formula[2], formula[4], formula[3])]\n",
    "\n",
    "                    res = apply(formula[0], formula[2], formula[1])    \n",
    "                except:\n",
    "                    continue\n",
    "                if res is not None and res > 0:\n",
    "                    if isinstance(res, int):\n",
    "                        s.add(res)\n",
    "                    elif res - math.floor(res) < 0.0001:\n",
    "                        s.add(math.floor(res))\n",
    "                    elif math.ceil(res) - res < 0.0001:\n",
    "                        s.add(math.ceil(res))\n",
    "                \n",
    "    return list(sorted(s))\n"
   ]
  },
  {
   "cell_type": "code",
   "execution_count": 16,
   "metadata": {
    "tags": []
   },
   "outputs": [
    {
     "output_type": "execute_result",
     "data": {
      "text/plain": [
       "51"
      ]
     },
     "metadata": {},
     "execution_count": 16
    }
   ],
   "source": [
    "longest(consecutive(1,2,5,8))"
   ]
  },
  {
   "cell_type": "code",
   "execution_count": 15,
   "metadata": {
    "tags": []
   },
   "outputs": [],
   "source": [
    "def longest(s):\n",
    "    if s[0] != 1:\n",
    "        return 0\n",
    "    for i, v in enumerate(s):\n",
    "        if i+1 != v:\n",
    "            return i\n",
    "    return len(s)"
   ]
  },
  {
   "cell_type": "code",
   "execution_count": 17,
   "metadata": {},
   "outputs": [],
   "source": [
    "def solution(M):\n",
    "    maxN = 0\n",
    "    combs = tuple()\n",
    "    for a in range(0, M-3):\n",
    "        for b in range(a+1, M-2):\n",
    "            for c in range(b+1, M-1):\n",
    "                for d in range(c+1, M):\n",
    "                    r = longest(consecutive(a,b,c,d))\n",
    "                    if r >= maxN:\n",
    "                        combs = [a,b,c,d]\n",
    "                        maxN = r\n",
    "    return maxN, combs"
   ]
  },
  {
   "cell_type": "code",
   "execution_count": 18,
   "metadata": {
    "tags": []
   },
   "outputs": [
    {
     "output_type": "execute_result",
     "data": {
      "text/plain": [
       "(51, [1, 2, 5, 8])"
      ]
     },
     "metadata": {},
     "execution_count": 18
    }
   ],
   "source": [
    "solution(10)"
   ]
  },
  {
   "cell_type": "code",
   "execution_count": null,
   "metadata": {},
   "outputs": [],
   "source": []
  }
 ]
}