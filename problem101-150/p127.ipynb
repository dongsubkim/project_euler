{
 "metadata": {
  "language_info": {
   "codemirror_mode": {
    "name": "ipython",
    "version": 3
   },
   "file_extension": ".py",
   "mimetype": "text/x-python",
   "name": "python",
   "nbconvert_exporter": "python",
   "pygments_lexer": "ipython3",
   "version": "3.8.5"
  },
  "orig_nbformat": 4,
  "kernelspec": {
   "name": "python3",
   "display_name": "Python 3.8.5 64-bit ('base': conda)"
  },
  "interpreter": {
   "hash": "d0a6fc611dd9351d0e1a9a0fceebb8e7c292efc5334406d2c05ad42c75550574"
  }
 },
 "nbformat": 4,
 "nbformat_minor": 2,
 "cells": [
  {
   "source": [
    "<p>The radical of <i>n</i>, rad(<i>n</i>), is the product of distinct prime factors of <i>n</i>. For example, 504 = 2<sup>3</sup> × 3<sup>2</sup> × 7, so rad(504) = 2 × 3 × 7 = 42.</p>\n",
    "<p>We shall define the triplet of positive integers (<i>a</i>, <i>b</i>, <i>c</i>) to be an abc-hit if:</p>\n",
    "<ol><li>GCD(<i>a,</i> <i>b</i>) = GCD(<i>a</i>, <i>c</i>) = GCD(<i>b</i>, <i>c</i>) = 1</li>\n",
    "<li><i>a</i> &lt; <i>b</i></li>\n",
    "<li><i>a</i> + <i>b</i> = <i>c</i></li>\n",
    "<li>rad(<i>abc</i>) &lt; <i>c</i></li>\n",
    "</ol><p>For example, (5, 27, 32) is an abc-hit, because:</p>\n",
    "<ol><li>GCD(5, 27) = GCD(5, 32) = GCD(27, 32) = 1</li>\n",
    "<li>5 &lt; 27</li>\n",
    "<li>5 + 27 = 32</li>\n",
    "<li>rad(4320) = 30 &lt; 32</li>\n",
    "</ol><p>It turns out that abc-hits are quite rare and there are only thirty-one abc-hits for <i>c</i> &lt; 1000, with ∑<i>c</i> = 12523.</p>\n",
    "<p>Find ∑<i>c</i> for <i>c</i> &lt; 120000.</p>\n"
   ],
   "cell_type": "markdown",
   "metadata": {}
  },
  {
   "cell_type": "code",
   "execution_count": 4,
   "metadata": {},
   "outputs": [],
   "source": [
    "import math"
   ]
  },
  {
   "cell_type": "code",
   "execution_count": 81,
   "metadata": {},
   "outputs": [],
   "source": [
    "pfs = {}"
   ]
  },
  {
   "cell_type": "code",
   "execution_count": 82,
   "metadata": {},
   "outputs": [],
   "source": [
    "def prime_factors(n):\n",
    "    if n in pfs:\n",
    "        return pfs[n]\n",
    "    original = n\n",
    "    i = 2\n",
    "    factors = set()\n",
    "    while i * i <= n:\n",
    "        if n % i:\n",
    "            i += 1\n",
    "        else:\n",
    "            n //= i\n",
    "            factors.add(i)\n",
    "    if n > 1:\n",
    "        factors.add(n)\n",
    "    pfs[original] = factors\n",
    "    return factors\n"
   ]
  },
  {
   "cell_type": "code",
   "execution_count": 83,
   "metadata": {},
   "outputs": [],
   "source": [
    "def getB(pfa, a, maxC):\n",
    "    res = []\n",
    "    for b in range(a+1, maxC - a):\n",
    "        if all([b % f != 0 for f in pfa]):\n",
    "            res.append(b)\n",
    "    return res\n"
   ]
  },
  {
   "cell_type": "code",
   "execution_count": 103,
   "metadata": {},
   "outputs": [],
   "source": [
    "def solution(maxC):\n",
    "    s = 0\n",
    "    pfs = {}\n",
    "    for a in range(1, maxC // 2):\n",
    "        pfa = prime_factors(a)\n",
    "        for b in getB(pfa, a, maxC):\n",
    "            pfb = prime_factors(b)\n",
    "            if len(pfa & pfb) == 0:\n",
    "                c = a + b\n",
    "                pfc = prime_factors(c)\n",
    "                if len(pfa & pfc) == 0 and len(pfc & pfb) == 0 and math.prod(pfa|pfb|pfc) < c:\n",
    "                    print(\"a: {}, b: {}, c: {}, rad(abc): {}, pfa: {}, pfb: {}, pfc: {}\".format(a, b, c, math.prod(pfa|pfb|pfc), pfa, pfb, pfc))\n",
    "                    s += c\n",
    "    return s"
   ]
  },
  {
   "cell_type": "code",
   "execution_count": 104,
   "metadata": {},
   "outputs": [
    {
     "output_type": "stream",
     "name": "stdout",
     "text": [
      "a: 1, b: 8, c: 9, rad(abc): 6, pfa: set(), pfb: {2}, pfc: {3}\n",
      "a: 1, b: 48, c: 49, rad(abc): 42, pfa: set(), pfb: {2, 3}, pfc: {7}\n",
      "a: 1, b: 63, c: 64, rad(abc): 42, pfa: set(), pfb: {3, 7}, pfc: {2}\n",
      "a: 1, b: 80, c: 81, rad(abc): 30, pfa: set(), pfb: {2, 5}, pfc: {3}\n",
      "a: 1, b: 224, c: 225, rad(abc): 210, pfa: set(), pfb: {2, 7}, pfc: {3, 5}\n",
      "a: 1, b: 242, c: 243, rad(abc): 66, pfa: set(), pfb: {2, 11}, pfc: {3}\n",
      "a: 1, b: 288, c: 289, rad(abc): 102, pfa: set(), pfb: {2, 3}, pfc: {17}\n",
      "a: 1, b: 512, c: 513, rad(abc): 114, pfa: set(), pfb: {2}, pfc: {19, 3}\n",
      "a: 1, b: 624, c: 625, rad(abc): 390, pfa: set(), pfb: {2, 3, 13}, pfc: {5}\n",
      "a: 1, b: 675, c: 676, rad(abc): 390, pfa: set(), pfb: {3, 5}, pfc: {2, 13}\n",
      "a: 1, b: 728, c: 729, rad(abc): 546, pfa: set(), pfb: {2, 13, 7}, pfc: {3}\n",
      "a: 1, b: 960, c: 961, rad(abc): 930, pfa: set(), pfb: {2, 3, 5}, pfc: {31}\n",
      "a: 2, b: 243, c: 245, rad(abc): 210, pfa: {2}, pfb: {3}, pfc: {5, 7}\n",
      "a: 3, b: 125, c: 128, rad(abc): 30, pfa: {3}, pfb: {5}, pfc: {2}\n",
      "a: 4, b: 121, c: 125, rad(abc): 110, pfa: {2}, pfb: {11}, pfc: {5}\n",
      "a: 5, b: 27, c: 32, rad(abc): 30, pfa: {5}, pfb: {3}, pfc: {2}\n",
      "a: 5, b: 507, c: 512, rad(abc): 390, pfa: {5}, pfb: {3, 13}, pfc: {2}\n",
      "a: 7, b: 243, c: 250, rad(abc): 210, pfa: {7}, pfb: {3}, pfc: {2, 5}\n",
      "a: 13, b: 243, c: 256, rad(abc): 78, pfa: {13}, pfb: {3}, pfc: {2}\n",
      "a: 25, b: 704, c: 729, rad(abc): 330, pfa: {5}, pfb: {2, 11}, pfc: {3}\n",
      "a: 27, b: 512, c: 539, rad(abc): 462, pfa: {3}, pfb: {2}, pfc: {11, 7}\n",
      "a: 32, b: 49, c: 81, rad(abc): 42, pfa: {2}, pfb: {7}, pfc: {3}\n",
      "a: 32, b: 343, c: 375, rad(abc): 210, pfa: {2}, pfb: {7}, pfc: {3, 5}\n",
      "a: 49, b: 576, c: 625, rad(abc): 210, pfa: {7}, pfb: {2, 3}, pfc: {5}\n",
      "a: 81, b: 175, c: 256, rad(abc): 210, pfa: {3}, pfb: {5, 7}, pfc: {2}\n",
      "a: 81, b: 544, c: 625, rad(abc): 510, pfa: {3}, pfb: {17, 2}, pfc: {5}\n",
      "a: 100, b: 243, c: 343, rad(abc): 210, pfa: {2, 5}, pfb: {3}, pfc: {7}\n",
      "a: 104, b: 625, c: 729, rad(abc): 390, pfa: {2, 13}, pfb: {5}, pfc: {3}\n",
      "a: 169, b: 343, c: 512, rad(abc): 182, pfa: {13}, pfb: {7}, pfc: {2}\n",
      "a: 200, b: 529, c: 729, rad(abc): 690, pfa: {2, 5}, pfb: {23}, pfc: {3}\n",
      "a: 343, b: 625, c: 968, rad(abc): 770, pfa: {7}, pfb: {5}, pfc: {2, 11}\n",
      "Solution for problem 127: 12523\n",
      "252 ms ± 0 ns per loop (mean ± std. dev. of 1 run, 1 loop each)\n"
     ]
    }
   ],
   "source": [
    "%%timeit -n1 -r1\n",
    "print(\"Solution for problem 127:\", solution(1000))"
   ]
  },
  {
   "cell_type": "code",
   "execution_count": null,
   "metadata": {},
   "outputs": [],
   "source": []
  }
 ]
}