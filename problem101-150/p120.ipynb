{
 "metadata": {
  "language_info": {
   "codemirror_mode": {
    "name": "ipython",
    "version": 3
   },
   "file_extension": ".py",
   "mimetype": "text/x-python",
   "name": "python",
   "nbconvert_exporter": "python",
   "pygments_lexer": "ipython3",
   "version": "3.8.5"
  },
  "orig_nbformat": 4,
  "kernelspec": {
   "name": "python3",
   "display_name": "Python 3.8.5 64-bit ('base': conda)"
  },
  "interpreter": {
   "hash": "d0a6fc611dd9351d0e1a9a0fceebb8e7c292efc5334406d2c05ad42c75550574"
  }
 },
 "nbformat": 4,
 "nbformat_minor": 2,
 "cells": [
  {
   "source": [
    "# Problem 120\n",
    "## [Square remainders](https://projecteuler.net/problem=120)\n",
    "\n",
    "<p>Let <i>r</i> be the remainder when (<i>a</i>−1)<sup><i>n</i></sup> + (<i>a</i>+1)<sup><i>n</i></sup> is divided by <i>a</i><sup>2</sup>.</p>\n",
    "<p>For example, if <i>a</i> = 7 and <i>n</i> = 3, then <i>r</i> = 42: 6<sup>3</sup> + 8<sup>3</sup> = 728 ≡ 42 mod 49. And as <i>n</i> varies, so too will <i>r</i>, but for <i>a</i> = 7 it turns out that <i>r</i><sub>max</sub> = 42.</p>\n",
    "<p>For 3 ≤ <i>a</i> ≤ 1000, find <span style=\"font-family:'times new roman';font-size:13pt;\">∑</span> <i>r</i><sub>max</sub>.</p>\n"
   ],
   "cell_type": "markdown",
   "metadata": {}
  },
  {
   "cell_type": "code",
   "execution_count": 1,
   "metadata": {},
   "outputs": [],
   "source": [
    "def solution():\n",
    "    s = 0\n",
    "    for a in range(3, 1001):\n",
    "        if a % 2 == 0:\n",
    "            s += a * (a - 2)\n",
    "        else:\n",
    "            s += a * (a - 1)\n",
    "    return s"
   ]
  },
  {
   "cell_type": "code",
   "execution_count": 3,
   "metadata": {},
   "outputs": [
    {
     "output_type": "stream",
     "name": "stdout",
     "text": [
      "333082500\n232 µs ± 0 ns per loop (mean ± std. dev. of 1 run, 1 loop each)\n"
     ]
    }
   ],
   "source": [
    "%%timeit -n1 -r1\n",
    "print(solution())"
   ]
  },
  {
   "cell_type": "code",
   "execution_count": null,
   "metadata": {},
   "outputs": [],
   "source": []
  }
 ]
}