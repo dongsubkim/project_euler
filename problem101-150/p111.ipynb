{
 "metadata": {
  "language_info": {
   "codemirror_mode": {
    "name": "ipython",
    "version": 3
   },
   "file_extension": ".py",
   "mimetype": "text/x-python",
   "name": "python",
   "nbconvert_exporter": "python",
   "pygments_lexer": "ipython3",
   "version": "3.8.5"
  },
  "orig_nbformat": 4,
  "kernelspec": {
   "name": "python3",
   "display_name": "Python 3.8.5 64-bit ('base': conda)"
  },
  "interpreter": {
   "hash": "d0a6fc611dd9351d0e1a9a0fceebb8e7c292efc5334406d2c05ad42c75550574"
  }
 },
 "nbformat": 4,
 "nbformat_minor": 2,
 "cells": [
  {
   "source": [
    "# Problem 111\n",
    "## [Primes with runs](https://projecteuler.net/problem=111)\n",
    "\n",
    "<p>Considering 4-digit primes containing repeated digits it is clear that they cannot all be the same: 1111 is divisible by 11, 2222 is divisible by 22, and so on. But there are nine 4-digit primes containing three ones:</p>\n",
    "<p class=\"center\">1117, 1151, 1171, 1181, 1511, 1811, 2111, 4111, 8111</p>\n",
    "<p>We shall say that M(<i>n</i>, <i>d</i>) represents the maximum number of repeated digits for an <i>n</i>-digit prime where <i>d</i> is the repeated digit, N(<i>n</i>, <i>d</i>) represents the number of such primes, and S(<i>n</i>, <i>d</i>) represents the sum of these primes.</p>\n",
    "<p>So M(4, 1) = 3 is the maximum number of repeated digits for a 4-digit prime where one is the repeated digit, there are N(4, 1) = 9 such primes, and the sum of these primes is S(4, 1) = 22275. It turns out that for <i>d</i> = 0, it is only possible to have M(4, 0) = 2 repeated digits, but there are N(4, 0) = 13 such cases.</p>\n",
    "<p>In the same way we obtain the following results for 4-digit primes.</p>\n",
    "<div class=\"center\">\n",
    "<table align=\"center\" border=\"1\" cellspacing=\"0\" cellpadding=\"5\"><tr><td><b>Digit, <i>d</i></b></td>\n",
    "<td><b>M(4, <i>d</i>)</b></td>\n",
    "<td><b>N(4, <i>d</i>)</b></td>\n",
    "<td><b>S(4, <i>d</i>)</b></td>\n",
    "</tr><tr><td>0</td>\n",
    "<td>2</td>\n",
    "<td>13</td>\n",
    "<td>67061</td>\n",
    "</tr><tr><td>1</td>\n",
    "<td>3</td>\n",
    "<td>9</td>\n",
    "<td>22275</td>\n",
    "</tr><tr><td>2</td>\n",
    "<td>3</td>\n",
    "<td>1</td>\n",
    "<td>2221</td>\n",
    "</tr><tr><td>3</td>\n",
    "<td>3</td>\n",
    "<td>12</td>\n",
    "<td>46214</td>\n",
    "</tr><tr><td>4</td>\n",
    "<td>3</td>\n",
    "<td>2</td>\n",
    "<td>8888</td>\n",
    "</tr><tr><td>5</td>\n",
    "<td>3</td>\n",
    "<td>1</td>\n",
    "<td>5557</td>\n",
    "</tr><tr><td>6</td>\n",
    "<td>3</td>\n",
    "<td>1</td>\n",
    "<td>6661</td>\n",
    "</tr><tr><td>7</td>\n",
    "<td>3</td>\n",
    "<td>9</td>\n",
    "<td>57863</td>\n",
    "</tr><tr><td>8</td>\n",
    "<td>3</td>\n",
    "<td>1</td>\n",
    "<td>8887</td>\n",
    "</tr><tr><td>9</td>\n",
    "<td>3</td>\n",
    "<td>7</td>\n",
    "<td>48073</td>\n",
    "</tr></table></div>\n",
    "<p>For <i>d</i> = 0 to 9, the sum of all S(4, <i>d</i>) is 273700.</p>\n",
    "<p>Find the sum of all S(10, <i>d</i>).</p>\n"
   ],
   "cell_type": "markdown",
   "metadata": {}
  },
  {
   "cell_type": "code",
   "execution_count": 1,
   "metadata": {},
   "outputs": [],
   "source": [
    "import math\n",
    "from itertools import product, permutations, combinations"
   ]
  },
  {
   "cell_type": "code",
   "execution_count": 2,
   "metadata": {},
   "outputs": [],
   "source": [
    "primes = []\n",
    "def is_prime(n):\n",
    "    if n <= 1:\n",
    "        return False\n",
    "    for p in primes:\n",
    "        if p > math.isqrt(n)+1:\n",
    "            return True\n",
    "        if n % p == 0:\n",
    "            return False\n",
    "    return True\n",
    "\n",
    "for i in range(2, 10**5):\n",
    "    if is_prime(i):\n",
    "        primes.append(i)"
   ]
  },
  {
   "cell_type": "code",
   "execution_count": 3,
   "metadata": {},
   "outputs": [],
   "source": [
    "def repeated_primes(repeated_digit, d, n):\n",
    "    s = set()\n",
    "    for nums in product(range(10), repeat=d):\n",
    "        for position in combinations(range(n), r=d):\n",
    "            num = [repeated_digit]*n\n",
    "            for i, j in zip(position, nums):\n",
    "                num[i] = j\n",
    "            if num[0] == 0:\n",
    "                continue\n",
    "            p = sum([j * 10**i for i, j in enumerate(num)])\n",
    "            if p // 10**(n-1) != 0 and is_prime(p):\n",
    "                s.add(p)\n",
    "    return s\n",
    "\n",
    "def solution(n):\n",
    "    s = 0\n",
    "    for repeated_digit in range(10):\n",
    "        for d in range(1, n):\n",
    "            v = repeated_primes(repeated_digit, d, n)\n",
    "            if v:\n",
    "                s += sum(v)\n",
    "                break\n",
    "    return s"
   ]
  },
  {
   "cell_type": "code",
   "execution_count": 4,
   "metadata": {},
   "outputs": [
    {
     "output_type": "execute_result",
     "data": {
      "text/plain": [
       "273700"
      ]
     },
     "metadata": {},
     "execution_count": 4
    }
   ],
   "source": [
    "solution(4)"
   ]
  },
  {
   "cell_type": "code",
   "execution_count": 5,
   "metadata": {},
   "outputs": [
    {
     "output_type": "stream",
     "name": "stdout",
     "text": [
      "612407567715\n294 ms ± 0 ns per loop (mean ± std. dev. of 1 run, 1 loop each)\n"
     ]
    }
   ],
   "source": [
    "%%timeit -n1 -r1\n",
    "print(solution(10))"
   ]
  },
  {
   "cell_type": "code",
   "execution_count": null,
   "metadata": {},
   "outputs": [],
   "source": []
  }
 ]
}