{
 "cells": [
  {
   "cell_type": "markdown",
   "source": [
    "\n",
    "<p>A number consisting entirely of ones is called a repunit. We shall define R(<i>k</i>) to be a repunit of length <i>k</i>; for example, R(6) = 111111.</p>\n",
    "<p>Given that <i>n</i> is a positive integer and GCD(<i>n</i>, 10) = 1, it can be shown that there always exists a value, <i>k</i>, for which R(<i>k</i>) is divisible by <i>n</i>, and let A(<i>n</i>) be the least such value of <i>k</i>; for example, A(7) = 6 and A(41) = 5.</p>\n",
    "<p>You are given that for all primes, <i>p</i> &gt; 5, that <i>p</i> − 1 is divisible by A(<i>p</i>). For example, when <i>p</i> = 41, A(41) = 5, and 40 is divisible by 5.</p>\n",
    "<p>However, there are rare composite values for which this is also true; the first five examples being 91, 259, 451, 481, and 703.</p>\n",
    "<p>Find the sum of the first twenty-five composite values of <i>n</i> for which<br />GCD(<i>n</i>, 10) = 1 and <i>n</i> − 1 is divisible by A(<i>n</i>).</p>\n"
   ],
   "metadata": {}
  },
  {
   "cell_type": "code",
   "execution_count": 5,
   "source": [
    "\n",
    "import math"
   ],
   "outputs": [],
   "metadata": {}
  },
  {
   "cell_type": "code",
   "execution_count": 6,
   "source": [
    "repunits = {}\n",
    "def repunit(k):\n",
    "    if k in repunits:\n",
    "        return repunits[k]\n",
    "    res = 1\n",
    "    for _ in range(k-1):\n",
    "        res = res*10 + 1\n",
    "    repunits[k] = res\n",
    "    return res"
   ],
   "outputs": [],
   "metadata": {}
  },
  {
   "cell_type": "code",
   "execution_count": 7,
   "source": [
    "primes = []\n",
    "def is_prime(n):\n",
    "    for p in primes:\n",
    "        if p == n or p > math.isqrt(n):\n",
    "            return True\n",
    "        if n % p == 0:\n",
    "            return False\n",
    "    return True"
   ],
   "outputs": [],
   "metadata": {}
  },
  {
   "cell_type": "code",
   "execution_count": 8,
   "source": [
    "for i in range(2, 10000):\n",
    "    if is_prime(i):\n",
    "        primes.append(i)"
   ],
   "outputs": [],
   "metadata": {}
  },
  {
   "cell_type": "code",
   "execution_count": 9,
   "source": [
    "def A(n):\n",
    "    i = int(math.log10(n))\n",
    "    while True:\n",
    "        if repunit(i) % n == 0:\n",
    "            return i\n",
    "        i += 1\n"
   ],
   "outputs": [],
   "metadata": {}
  },
  {
   "cell_type": "code",
   "execution_count": 23,
   "source": [
    "def solution(target):\n",
    "    count = 0\n",
    "    s = 0\n",
    "    n = 1\n",
    "    while count < target:\n",
    "        if not is_prime(n) and n % 5 != 0 and (n-1) % A(n) == 0:\n",
    "            count += 1\n",
    "            s += n\n",
    "            print(count, n)\n",
    "        n += 2\n",
    "    return s"
   ],
   "outputs": [],
   "metadata": {}
  },
  {
   "cell_type": "code",
   "execution_count": 24,
   "source": [
    "solution(25)"
   ],
   "outputs": [
    {
     "output_type": "stream",
     "name": "stdout",
     "text": [
      "1 91\n",
      "2 259\n",
      "3 451\n",
      "4 481\n",
      "5 703\n",
      "6 1729\n",
      "7 2821\n",
      "8 2981\n",
      "9 3367\n",
      "10 4141\n",
      "11 4187\n",
      "12 5461\n",
      "13 6533\n",
      "14 6541\n",
      "15 6601\n",
      "16 7471\n",
      "17 7777\n",
      "18 8149\n",
      "19 8401\n",
      "20 8911\n",
      "21 10001\n",
      "22 11111\n",
      "23 12403\n",
      "24 13981\n",
      "25 14701\n"
     ]
    },
    {
     "output_type": "execute_result",
     "data": {
      "text/plain": [
       "149253"
      ]
     },
     "metadata": {},
     "execution_count": 24
    }
   ],
   "metadata": {}
  }
 ],
 "metadata": {
  "orig_nbformat": 4,
  "language_info": {
   "name": "python",
   "version": "3.8.5",
   "mimetype": "text/x-python",
   "codemirror_mode": {
    "name": "ipython",
    "version": 3
   },
   "pygments_lexer": "ipython3",
   "nbconvert_exporter": "python",
   "file_extension": ".py"
  },
  "kernelspec": {
   "name": "python3",
   "display_name": "Python 3.8.5 64-bit ('base': conda)"
  },
  "interpreter": {
   "hash": "d0a6fc611dd9351d0e1a9a0fceebb8e7c292efc5334406d2c05ad42c75550574"
  }
 },
 "nbformat": 4,
 "nbformat_minor": 2
}