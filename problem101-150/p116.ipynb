{
 "metadata": {
  "language_info": {
   "codemirror_mode": {
    "name": "ipython",
    "version": 3
   },
   "file_extension": ".py",
   "mimetype": "text/x-python",
   "name": "python",
   "nbconvert_exporter": "python",
   "pygments_lexer": "ipython3",
   "version": "3.8.5"
  },
  "orig_nbformat": 4,
  "kernelspec": {
   "name": "python3",
   "display_name": "Python 3.8.5 64-bit ('base': conda)"
  },
  "interpreter": {
   "hash": "d0a6fc611dd9351d0e1a9a0fceebb8e7c292efc5334406d2c05ad42c75550574"
  }
 },
 "nbformat": 4,
 "nbformat_minor": 2,
 "cells": [
  {
   "source": [
    "# Problem 116\n",
    "## [Red, green or blue tiles](https://projecteuler.net/problem=116)\n",
    "<p>A row of five grey square tiles is to have a number of its tiles replaced with coloured oblong tiles chosen from red (length two), green (length three), or blue (length four).</p>\n",
    "<p>If red tiles are chosen there are exactly seven ways this can be done.</p>\n",
    "\n",
    "<div class=\"center\">\n",
    "<img src=\"https://projecteuler.net/project/images/p116_1.png\" alt=\"png116_1.png\" />\n",
    "</div>\n",
    "\n",
    "<p>If green tiles are chosen there are three ways.</p>\n",
    "\n",
    "<div class=\"center\">\n",
    "<img src=\"https://projecteuler.net/project/images/p116_2.png\" alt=\"png116_2.png\" />\n",
    "</div>\n",
    "\n",
    "<p>And if blue tiles are chosen there are two ways.</p>\n",
    "\n",
    "<div class=\"center\">\n",
    "<img src=\"https://projecteuler.net/project/images/p116_3.png\" alt=\"png116_3.png\" />\n",
    "</div>\n",
    "\n",
    "<p>Assuming that colours cannot be mixed there are 7 + 3 + 2 = 12 ways of replacing the grey tiles in a row measuring five units in length.</p>\n",
    "<p>How many different ways can the grey tiles in a row measuring fifty units in length be replaced if colours cannot be mixed and at least one coloured tile must be used?</p>\n",
    "<p class=\"note\">NOTE: This is related to <a href=\"problem=117\">Problem 117</a>.</p>"
   ],
   "cell_type": "markdown",
   "metadata": {}
  },
  {
   "cell_type": "code",
   "execution_count": 28,
   "metadata": {},
   "outputs": [],
   "source": [
    "mem_red = {0: 0, 1:0, 2:1}\n",
    "mem_green = {0:0, 1:0, 2:0, 3:1}\n",
    "mem_blue = {0:0, 1:0, 2:0, 3:0, 4:1}"
   ]
  },
  {
   "cell_type": "code",
   "execution_count": 29,
   "metadata": {},
   "outputs": [],
   "source": [
    "def red(n):\n",
    "    if n < 0:\n",
    "        return 0\n",
    "    if n in mem_red:\n",
    "        return mem_red[n]\n",
    "    res = red(n-2) + red(n-1) + 1 \n",
    "    mem_red[n] = res\n",
    "    return res"
   ]
  },
  {
   "cell_type": "code",
   "execution_count": 30,
   "metadata": {},
   "outputs": [],
   "source": [
    "def green(n):\n",
    "    if n < 0:\n",
    "        return 0\n",
    "    if n in mem_green:\n",
    "        return mem_green[n]\n",
    "    res = green(n-1) + green(n-3) + 1\n",
    "    mem_green[n] = res\n",
    "    return res"
   ]
  },
  {
   "cell_type": "code",
   "execution_count": 31,
   "metadata": {},
   "outputs": [],
   "source": [
    "def blue(n):\n",
    "    if n < 0:\n",
    "        return 0\n",
    "    if n in mem_blue:\n",
    "        return mem_blue[n]\n",
    "    res = blue(n-1) + 1 +blue(n-4)\n",
    "    mem_blue[n] = res\n",
    "    return res"
   ]
  },
  {
   "cell_type": "code",
   "execution_count": 32,
   "metadata": {},
   "outputs": [],
   "source": [
    "def solution(n):\n",
    "    for i in range(n+1):\n",
    "        red(i)\n",
    "        green(i)\n",
    "        blue(i)\n",
    "    return mem_red[n] + mem_blue[n] + mem_green[n]"
   ]
  },
  {
   "cell_type": "code",
   "execution_count": 38,
   "metadata": {},
   "outputs": [
    {
     "output_type": "stream",
     "name": "stdout",
     "text": [
      "20492570929\n349 µs ± 0 ns per loop (mean ± std. dev. of 1 run, 1 loop each)\n"
     ]
    }
   ],
   "source": [
    "%%timeit -n1 -r1\n",
    "print(solution(50))"
   ]
  }
 ]
}