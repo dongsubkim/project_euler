{
 "metadata": {
  "language_info": {
   "codemirror_mode": {
    "name": "ipython",
    "version": 3
   },
   "file_extension": ".py",
   "mimetype": "text/x-python",
   "name": "python",
   "nbconvert_exporter": "python",
   "pygments_lexer": "ipython3",
   "version": "3.8.5"
  },
  "orig_nbformat": 4,
  "kernelspec": {
   "name": "python3",
   "display_name": "Python 3.8.5 64-bit ('base': conda)"
  },
  "interpreter": {
   "hash": "d0a6fc611dd9351d0e1a9a0fceebb8e7c292efc5334406d2c05ad42c75550574"
  }
 },
 "nbformat": 4,
 "nbformat_minor": 2,
 "cells": [
  {
   "source": [
    "# Problem 107\n",
    "## [Minimal network](https://projecteuler.net/problem=107)\n",
    "\n",
    "<p>The following undirected network consists of seven vertices and twelve edges with a total weight of 243.</p>\n",
    "<div class=\"center\">\n",
    "\n",
    "![p107_1.png](https://res.cloudinary.com/ddeivviyp/image/upload/v1624969915/MyBlog/vyfno4kfsjulakuwfvtt.png)\n",
    "\n",
    "<p>The same network can be represented by the matrix below.</p>\n",
    "<table cellpadding=\"5\" cellspacing=\"0\" border=\"1\" align=\"center\"><tr><td>    </td><td><b>A</b></td><td><b>B</b></td><td><b>C</b></td><td><b>D</b></td><td><b>E</b></td><td><b>F</b></td><td><b>G</b></td>\n",
    "</tr><tr><td><b>A</b></td><td>-</td><td>16</td><td>12</td><td>21</td><td>-</td><td>-</td><td>-</td>\n",
    "</tr><tr><td><b>B</b></td><td>16</td><td>-</td><td>-</td><td>17</td><td>20</td><td>-</td><td>-</td>\n",
    "</tr><tr><td><b>C</b></td><td>12</td><td>-</td><td>-</td><td>28</td><td>-</td><td>31</td><td>-</td>\n",
    "</tr><tr><td><b>D</b></td><td>21</td><td>17</td><td>28</td><td>-</td><td>18</td><td>19</td><td>23</td>\n",
    "</tr><tr><td><b>E</b></td><td>-</td><td>20</td><td>-</td><td>18</td><td>-</td><td>-</td><td>11</td>\n",
    "</tr><tr><td><b>F</b></td><td>-</td><td>-</td><td>31</td><td>19</td><td>-</td><td>-</td><td>27</td>\n",
    "</tr><tr><td><b>G</b></td><td>-</td><td>-</td><td>-</td><td>23</td><td>11</td><td>27</td><td>-</td>\n",
    "</tr></table><p>However, it is possible to optimise the network by removing some edges and still ensure that all points on the network remain connected. The network which achieves the maximum saving is shown below. It has a weight of 93, representing a saving of 243 − 93 = 150 from the original network.</p>\n",
    "<div class=\"center\">\n",
    "\n",
    "![p107_2.png](https://res.cloudinary.com/ddeivviyp/image/upload/v1624969915/MyBlog/cbsxdu5ba9lhsuk3lczp.png)\n",
    "\n",
    "<p>Using <a href=\"https://projecteuler.net/project/resources/p107_network.txt\">network.txt</a> (right click and 'Save Link/Target As...'), a 6K text file containing a network with forty vertices, and given in matrix form, find the maximum saving which can be achieved by removing redundant edges whilst ensuring that the network remains connected.</p>\n",
    "\n",
    "![Screen Shot 2021-06-29 at 3.31.23 PM.png](https://res.cloudinary.com/ddeivviyp/image/upload/v1624969916/MyBlog/gkdtms6b6uzrk6stxdl1.png)"
   ],
   "cell_type": "markdown",
   "metadata": {}
  },
  {
   "cell_type": "code",
   "execution_count": 2,
   "metadata": {},
   "outputs": [],
   "source": [
    "sample = [\n",
    "    [None, 16, 12, 21, None, None, None],\n",
    "    [16, None, None, 17, 20, None, None],\n",
    "    [12, None, None, 28, None, 31, None],\n",
    "    [21, 17, 28, None, 18, 19, 23],\n",
    "    [None, 20, None, 18, None, None, 11],\n",
    "    [None, None, 31, 19, None, None, 27],\n",
    "    [None, None, None, 23, 11, 27, None]\n",
    "]"
   ]
  },
  {
   "cell_type": "code",
   "execution_count": 7,
   "metadata": {},
   "outputs": [],
   "source": [
    "def findMST(graph):\n",
    "    vertices = len(graph)\n",
    "    C = [1<<31] * vertices\n",
    "    E = [None] * vertices\n",
    "    F = []\n",
    "    Q = set(range(vertices))\n",
    "    while Q:\n",
    "        v = min(Q, key=lambda x: C[x])\n",
    "        Q.remove(v)\n",
    "\n",
    "        if E[v] is not None:\n",
    "            F.append(E[v])\n",
    "        for w, edge in enumerate(graph[v]):\n",
    "            if edge is None:\n",
    "                continue\n",
    "            if w in Q and edge < C[w]:\n",
    "                C[w] = edge\n",
    "                E[w] = edge\n",
    "    return sum(F)"
   ]
  },
  {
   "cell_type": "code",
   "execution_count": 8,
   "metadata": {},
   "outputs": [
    {
     "output_type": "execute_result",
     "data": {
      "text/plain": [
       "93"
      ]
     },
     "metadata": {},
     "execution_count": 8
    }
   ],
   "source": [
    "findMST(sample)"
   ]
  },
  {
   "cell_type": "code",
   "execution_count": 12,
   "metadata": {},
   "outputs": [],
   "source": [
    "graph = []\n",
    "with open(\"p107_network.txt\", \"r\") as f:\n",
    "    graph = f.read().splitlines()\n",
    "    graph = [r.split(\",\") for r in graph]"
   ]
  },
  {
   "cell_type": "code",
   "execution_count": 15,
   "metadata": {},
   "outputs": [],
   "source": [
    "graph = [[int(i)  if i != \"-\" else None for i in r] for r in graph]"
   ]
  },
  {
   "cell_type": "code",
   "execution_count": 17,
   "metadata": {},
   "outputs": [
    {
     "output_type": "execute_result",
     "data": {
      "text/plain": [
       "2153"
      ]
     },
     "metadata": {},
     "execution_count": 17
    }
   ],
   "source": [
    "findMST(graph)"
   ]
  },
  {
   "cell_type": "code",
   "execution_count": 20,
   "metadata": {},
   "outputs": [],
   "source": [
    "s = 0\n",
    "for i in range(len(graph)):\n",
    "    for j in range(len(graph)):\n",
    "        if graph[i][j] != None:\n",
    "            s += graph[i][j]"
   ]
  },
  {
   "cell_type": "code",
   "execution_count": 23,
   "metadata": {},
   "outputs": [
    {
     "output_type": "execute_result",
     "data": {
      "text/plain": [
       "523664"
      ]
     },
     "metadata": {},
     "execution_count": 23
    }
   ],
   "source": [
    "s"
   ]
  },
  {
   "cell_type": "code",
   "execution_count": 24,
   "metadata": {},
   "outputs": [
    {
     "output_type": "execute_result",
     "data": {
      "text/plain": [
       "259679"
      ]
     },
     "metadata": {},
     "execution_count": 24
    }
   ],
   "source": [
    "s // 2 - 2153"
   ]
  },
  {
   "cell_type": "code",
   "execution_count": null,
   "metadata": {},
   "outputs": [],
   "source": []
  }
 ]
}