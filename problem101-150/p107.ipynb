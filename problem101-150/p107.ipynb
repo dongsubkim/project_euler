{
 "metadata": {
  "language_info": {
   "codemirror_mode": {
    "name": "ipython",
    "version": 3
   },
   "file_extension": ".py",
   "mimetype": "text/x-python",
   "name": "python",
   "nbconvert_exporter": "python",
   "pygments_lexer": "ipython3",
   "version": "3.8.5"
  },
  "orig_nbformat": 4,
  "kernelspec": {
   "name": "python3",
   "display_name": "Python 3.8.5 64-bit ('base': conda)"
  },
  "interpreter": {
   "hash": "d0a6fc611dd9351d0e1a9a0fceebb8e7c292efc5334406d2c05ad42c75550574"
  }
 },
 "nbformat": 4,
 "nbformat_minor": 2,
 "cells": [
  {
   "cell_type": "code",
   "execution_count": null,
   "metadata": {},
   "outputs": [],
   "source": []
  },
  {
   "cell_type": "code",
   "execution_count": 2,
   "metadata": {},
   "outputs": [],
   "source": [
    "sample = [\n",
    "    [None, 16, 12, 21, None, None, None],\n",
    "    [16, None, None, 17, 20, None, None],\n",
    "    [12, None, None, 28, None, 31, None],\n",
    "    [21, 17, 28, None, 18, 19, 23],\n",
    "    [None, 20, None, 18, None, None, 11],\n",
    "    [None, None, 31, 19, None, None, 27],\n",
    "    [None, None, None, 23, 11, 27, None]\n",
    "]"
   ]
  },
  {
   "cell_type": "code",
   "execution_count": 7,
   "metadata": {},
   "outputs": [],
   "source": [
    "def findMST(graph):\n",
    "    vertices = len(graph)\n",
    "    C = [1<<31] * vertices\n",
    "    E = [None] * vertices\n",
    "    F = []\n",
    "    Q = set(range(vertices))\n",
    "    while Q:\n",
    "        v = min(Q, key=lambda x: C[x])\n",
    "        Q.remove(v)\n",
    "\n",
    "        if E[v] is not None:\n",
    "            F.append(E[v])\n",
    "        for w, edge in enumerate(graph[v]):\n",
    "            if edge is None:\n",
    "                continue\n",
    "            if w in Q and edge < C[w]:\n",
    "                C[w] = edge\n",
    "                E[w] = edge\n",
    "    return sum(F)"
   ]
  },
  {
   "cell_type": "code",
   "execution_count": 8,
   "metadata": {},
   "outputs": [
    {
     "output_type": "execute_result",
     "data": {
      "text/plain": [
       "93"
      ]
     },
     "metadata": {},
     "execution_count": 8
    }
   ],
   "source": [
    "findMST(sample)"
   ]
  },
  {
   "cell_type": "code",
   "execution_count": 12,
   "metadata": {},
   "outputs": [],
   "source": [
    "graph = []\n",
    "with open(\"p107_network.txt\", \"r\") as f:\n",
    "    graph = f.read().splitlines()\n",
    "    graph = [r.split(\",\") for r in graph]"
   ]
  },
  {
   "cell_type": "code",
   "execution_count": 15,
   "metadata": {},
   "outputs": [],
   "source": [
    "graph = [[int(i)  if i != \"-\" else None for i in r] for r in graph]"
   ]
  },
  {
   "cell_type": "code",
   "execution_count": 17,
   "metadata": {},
   "outputs": [
    {
     "output_type": "execute_result",
     "data": {
      "text/plain": [
       "2153"
      ]
     },
     "metadata": {},
     "execution_count": 17
    }
   ],
   "source": [
    "findMST(graph)"
   ]
  },
  {
   "cell_type": "code",
   "execution_count": 20,
   "metadata": {},
   "outputs": [],
   "source": [
    "s = 0\n",
    "for i in range(len(graph)):\n",
    "    for j in range(len(graph)):\n",
    "        if graph[i][j] != None:\n",
    "            s += graph[i][j]"
   ]
  },
  {
   "cell_type": "code",
   "execution_count": 23,
   "metadata": {},
   "outputs": [
    {
     "output_type": "execute_result",
     "data": {
      "text/plain": [
       "523664"
      ]
     },
     "metadata": {},
     "execution_count": 23
    }
   ],
   "source": [
    "s"
   ]
  },
  {
   "cell_type": "code",
   "execution_count": 24,
   "metadata": {},
   "outputs": [
    {
     "output_type": "execute_result",
     "data": {
      "text/plain": [
       "259679"
      ]
     },
     "metadata": {},
     "execution_count": 24
    }
   ],
   "source": [
    "s // 2 - 2153"
   ]
  },
  {
   "cell_type": "code",
   "execution_count": null,
   "metadata": {},
   "outputs": [],
   "source": []
  }
 ]
}