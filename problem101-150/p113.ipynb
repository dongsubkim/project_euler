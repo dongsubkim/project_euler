{
 "metadata": {
  "language_info": {
   "codemirror_mode": {
    "name": "ipython",
    "version": 3
   },
   "file_extension": ".py",
   "mimetype": "text/x-python",
   "name": "python",
   "nbconvert_exporter": "python",
   "pygments_lexer": "ipython3",
   "version": "3.8.5"
  },
  "orig_nbformat": 4,
  "kernelspec": {
   "name": "python3",
   "display_name": "Python 3.8.5 64-bit ('base': conda)"
  },
  "interpreter": {
   "hash": "d0a6fc611dd9351d0e1a9a0fceebb8e7c292efc5334406d2c05ad42c75550574"
  }
 },
 "nbformat": 4,
 "nbformat_minor": 2,
 "cells": [
  {
   "source": [
    "# Problem 113\n",
    "## [Non-bouncy numbers](https://projecteuler.net/problem=113)\n",
    "\n",
    "<p>Working from left-to-right if no digit is exceeded by the digit to its left it is called an increasing number; for example, 134468.</p>\n",
    "<p>Similarly if no digit is exceeded by the digit to its right it is called a decreasing number; for example, 66420.</p>\n",
    "<p>We shall call a positive integer that is neither increasing nor decreasing a \"bouncy\" number; for example, 155349.</p>\n",
    "<p>As <i>n</i> increases, the proportion of bouncy numbers below <i>n</i> increases such that there are only 12951 numbers below one-million that are not bouncy and only 277032 non-bouncy numbers below 10<sup>10</sup>.</p>\n",
    "<p>How many numbers below a googol (10<sup>100</sup>) are not bouncy?</p>\n"
   ],
   "cell_type": "markdown",
   "metadata": {}
  },
  {
   "cell_type": "code",
   "execution_count": 1,
   "metadata": {},
   "outputs": [],
   "source": [
    "from collections import defaultdict\n",
    "import math"
   ]
  },
  {
   "cell_type": "code",
   "execution_count": 2,
   "metadata": {},
   "outputs": [],
   "source": [
    "def gen_inc(digit):\n",
    "    inc = {}\n",
    "    inc[1] = defaultdict(int)\n",
    "    for i in range(10):\n",
    "        inc[1][i] = 1\n",
    "        \n",
    "    for n in range(2, digit+1):\n",
    "        inc[n] = defaultdict(int)\n",
    "        for i in range(10):\n",
    "            for j in range(9, i-1, -1):\n",
    "                inc[n][i] += inc[n-1][j]\n",
    "    return inc"
   ]
  },
  {
   "cell_type": "code",
   "execution_count": 3,
   "metadata": {},
   "outputs": [],
   "source": [
    "def solution(digit):\n",
    "    inc = gen_inc(digit)\n",
    "    s = 0\n",
    "    for n in range(1, digit+1):\n",
    "        for i in range(10):\n",
    "            s += 2 * inc[n][i] - 1\n",
    "        s -= inc[n][0]\n",
    "    return s"
   ]
  },
  {
   "cell_type": "code",
   "execution_count": 4,
   "metadata": {},
   "outputs": [
    {
     "output_type": "stream",
     "name": "stdout",
     "text": [
      "51161058134250\n1.65 ms ± 0 ns per loop (mean ± std. dev. of 1 run, 1 loop each)\n"
     ]
    }
   ],
   "source": [
    "%%timeit -n1 -r1\n",
    "print(solution(100))"
   ]
  },
  {
   "cell_type": "code",
   "execution_count": null,
   "metadata": {},
   "outputs": [],
   "source": []
  }
 ]
}