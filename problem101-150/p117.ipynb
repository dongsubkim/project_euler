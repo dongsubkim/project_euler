{
 "metadata": {
  "language_info": {
   "codemirror_mode": {
    "name": "ipython",
    "version": 3
   },
   "file_extension": ".py",
   "mimetype": "text/x-python",
   "name": "python",
   "nbconvert_exporter": "python",
   "pygments_lexer": "ipython3",
   "version": "3.8.5"
  },
  "orig_nbformat": 4,
  "kernelspec": {
   "name": "python3",
   "display_name": "Python 3.8.5 64-bit ('base': conda)"
  },
  "interpreter": {
   "hash": "d0a6fc611dd9351d0e1a9a0fceebb8e7c292efc5334406d2c05ad42c75550574"
  }
 },
 "nbformat": 4,
 "nbformat_minor": 2,
 "cells": [
  {
   "source": [
    "# Problem 117\n",
    "## [Red, green, and blue tiles](https://projecteuler.net/problem=117)\n",
    "<p>Using a combination of grey square tiles and oblong tiles chosen from: red tiles (measuring two units), green tiles (measuring three units), and blue tiles (measuring four units), it is possible to tile a row measuring five units in length in exactly fifteen different ways.</p>\n",
    "\n",
    "<div class=\"center\">\n",
    "<img src=\"https://projecteuler.net/project/images/p117.png\" alt=\"png117.png\" />\n",
    "</div>\n",
    "\n",
    "<p>How many ways can a row measuring fifty units in length be tiled?</p>\n",
    "<p class=\"note\">NOTE: This is related to <a href=\"http://www.dskim.blog/post/425f0481-b405-4b72-78f0-44da6b97e58c\">Problem 116</a>.</p>\n"
   ],
   "cell_type": "markdown",
   "metadata": {}
  },
  {
   "cell_type": "code",
   "execution_count": 1,
   "metadata": {},
   "outputs": [],
   "source": [
    "def fill_count(mem, row_length):\n",
    "    if row_length < 0:\n",
    "        return 0\n",
    "    if row_length < 2:\n",
    "        return 1\n",
    "    if row_length in mem:\n",
    "        return mem[row_length]\n",
    "    c = 0\n",
    "    for block_size in range(1, 5):\n",
    "        c += fill_count(mem, row_length - block_size)\n",
    "    mem[row_length] = c\n",
    "    return c"
   ]
  },
  {
   "cell_type": "code",
   "execution_count": 2,
   "metadata": {},
   "outputs": [
    {
     "output_type": "stream",
     "name": "stdout",
     "text": [
      "100808458960497\n195 µs ± 0 ns per loop (mean ± std. dev. of 1 run, 1 loop each)\n"
     ]
    }
   ],
   "source": [
    "%%timeit -n1 -r1\n",
    "print(fill_count({}, 50))"
   ]
  },
  {
   "cell_type": "code",
   "execution_count": null,
   "metadata": {},
   "outputs": [],
   "source": []
  }
 ]
}