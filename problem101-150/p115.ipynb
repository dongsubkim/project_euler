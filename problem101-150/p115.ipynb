{
 "metadata": {
  "language_info": {
   "codemirror_mode": {
    "name": "ipython",
    "version": 3
   },
   "file_extension": ".py",
   "mimetype": "text/x-python",
   "name": "python",
   "nbconvert_exporter": "python",
   "pygments_lexer": "ipython3",
   "version": "3.8.5"
  },
  "orig_nbformat": 4,
  "kernelspec": {
   "name": "python3",
   "display_name": "Python 3.8.5 64-bit ('base': conda)"
  },
  "interpreter": {
   "hash": "d0a6fc611dd9351d0e1a9a0fceebb8e7c292efc5334406d2c05ad42c75550574"
  }
 },
 "nbformat": 4,
 "nbformat_minor": 2,
 "cells": [
  {
   "source": [
    "# Problem 114\n",
    "## [Counting block combinations II](https://projecteuler.net/problem=114)\n",
    "<p class=\"note\">NOTE: This is a more difficult version of <a href=\"http://www.dskim.blog/post/234f4662-f24f-41e5-6f2e-1006a9f7f3fe\">Problem 114</a>.</p>\n",
    "<p>A row measuring <i>n</i> units in length has red blocks with a minimum length of <i>m</i> units placed on it, such that any two red blocks (which are allowed to be different lengths) are separated by at least one black square.</p>\n",
    "<p>Let the fill-count function, F(<i>m</i>, <i>n</i>), represent the number of ways that a row can be filled.</p>\n",
    "<p>For example, F(3, 29) = 673135 and F(3, 30) = 1089155.</p>\n",
    "<p>That is, for <i>m</i> = 3, it can be seen that <i>n</i> = 30 is the smallest value for which the fill-count function first exceeds one million.</p>\n",
    "<p>In the same way, for <i>m</i> = 10, it can be verified that F(10, 56) = 880711 and F(10, 57) = 1148904, so <i>n</i> = 57 is the least value for which the fill-count function first exceeds one million.</p>\n",
    "<p>For <i>m</i> = 50, find the least value of <i>n</i> for which the fill-count function first exceeds one million.</p>\n"
   ],
   "cell_type": "markdown",
   "metadata": {}
  },
  {
   "cell_type": "code",
   "execution_count": 1,
   "metadata": {},
   "outputs": [],
   "source": [
    "def fill_count(mem, min_block_size, row_length):\n",
    "    if row_length < min_block_size:\n",
    "        return 1\n",
    "    if row_length in mem:\n",
    "        return mem[row_length]\n",
    "    c = fill_count(mem, min_block_size, row_length-1)\n",
    "    for block_size in range(min_block_size, row_length+1):\n",
    "        c += fill_count(mem, min_block_size, row_length - block_size - 1)\n",
    "    mem[row_length] = c\n",
    "    return c"
   ]
  },
  {
   "cell_type": "code",
   "execution_count": 2,
   "metadata": {},
   "outputs": [],
   "source": [
    "def solution(m):\n",
    "    min_block_size = m\n",
    "    mem = {}\n",
    "    n = 1\n",
    "    while fill_count(mem, m, n) < 1000000:\n",
    "        n += 1\n",
    "    return n"
   ]
  },
  {
   "cell_type": "code",
   "execution_count": 3,
   "metadata": {},
   "outputs": [
    {
     "output_type": "stream",
     "name": "stdout",
     "text": [
      "168\n1.78 ms ± 0 ns per loop (mean ± std. dev. of 1 run, 1 loop each)\n"
     ]
    }
   ],
   "source": [
    "%%timeit -n1 -r1\n",
    "print(solution(50))"
   ]
  },
  {
   "cell_type": "code",
   "execution_count": null,
   "metadata": {},
   "outputs": [],
   "source": []
  }
 ]
}