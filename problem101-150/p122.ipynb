{
 "metadata": {
  "language_info": {
   "codemirror_mode": {
    "name": "ipython",
    "version": 3
   },
   "file_extension": ".py",
   "mimetype": "text/x-python",
   "name": "python",
   "nbconvert_exporter": "python",
   "pygments_lexer": "ipython3",
   "version": "3.8.5"
  },
  "orig_nbformat": 4,
  "kernelspec": {
   "name": "python3",
   "display_name": "Python 3.8.5 64-bit ('base': conda)"
  },
  "interpreter": {
   "hash": "d0a6fc611dd9351d0e1a9a0fceebb8e7c292efc5334406d2c05ad42c75550574"
  }
 },
 "nbformat": 4,
 "nbformat_minor": 2,
 "cells": [
  {
   "source": [
    "# Problem 122\n",
    "## [Efficient exponentiation](https://projecteuler.net/problem=122)\n",
    "<p>The most naive way of computing <i>n</i><sup>15</sup> requires fourteen multiplications:</p>\n",
    "<p style=\"margin-left:100px;\"><i>n</i> × <i>n</i> × ... × <i>n</i> = <i>n</i><sup>15</sup></p>\n",
    "<p>But using a \"binary\" method you can compute it in six multiplications:</p>\n",
    "<p style=\"margin-left:100px;\"><i>n</i> × <i>n</i> = <i>n</i><sup>2</sup><br /><i>n</i><sup>2</sup> × <i>n</i><sup>2</sup> = <i>n</i><sup>4</sup><br /><i>n</i><sup>4</sup> × <i>n</i><sup>4</sup> = <i>n</i><sup>8</sup><br /><i>n</i><sup>8</sup> × <i>n</i><sup>4</sup> = <i>n</i><sup>12</sup><br /><i>n</i><sup>12</sup> × <i>n</i><sup>2</sup> = <i>n</i><sup>14</sup><br /><i>n</i><sup>14</sup> × <i>n</i> = <i>n</i><sup>15</sup></p>\n",
    "<p>However it is yet possible to compute it in only five multiplications:</p>\n",
    "<p style=\"margin-left:100px;\"><i>n</i> × <i>n</i> = <i>n</i><sup>2</sup><br /><i>n</i><sup>2</sup> × <i>n</i> = <i>n</i><sup>3</sup><br /><i>n</i><sup>3</sup> × <i>n</i><sup>3</sup> = <i>n</i><sup>6</sup><br /><i>n</i><sup>6</sup> × <i>n</i><sup>6</sup> = <i>n</i><sup>12</sup><br /><i>n</i><sup>12</sup> × <i>n</i><sup>3</sup> = <i>n</i><sup>15</sup></p>\n",
    "<p>We shall define m(<i>k</i>) to be the minimum number of multiplications to compute <i>n</i><sup><i>k</i></sup>; for example m(15) = 5.</p>\n",
    "<p>For 1 ≤ <i>k</i> ≤ 200, find <span style=\"font-family:'times new roman';font-size:13pt;\">∑</span> m(<i>k</i>).</p>\n",
    "\n",
    "My solution is inspired by : https://www.mathblog.dk/project-euler-122-efficient-exponentiation/\n"
   ],
   "cell_type": "markdown",
   "metadata": {}
  },
  {
   "cell_type": "code",
   "execution_count": 1,
   "metadata": {},
   "outputs": [],
   "source": [
    "cost = [200] * 201\n",
    "path = [0] * 201\n",
    "\n",
    "def solution():\n",
    "    res = 0\n",
    "    backtrack(1, 0)\n",
    "    return sum(cost[1:])"
   ]
  },
  {
   "cell_type": "code",
   "execution_count": 2,
   "metadata": {},
   "outputs": [],
   "source": [
    "def backtrack(power, depth):\n",
    "    if power > 200 or depth > cost[power]:\n",
    "        return\n",
    "    cost[power] = depth\n",
    "    path[depth] = power\n",
    "    for i in range(depth, -1, -1):\n",
    "        backtrack(power + path[i], depth+1)\n"
   ]
  },
  {
   "cell_type": "code",
   "execution_count": 3,
   "metadata": {},
   "outputs": [
    {
     "output_type": "stream",
     "name": "stdout",
     "text": [
      "1582\n119 ms ± 0 ns per loop (mean ± std. dev. of 1 run, 1 loop each)\n"
     ]
    }
   ],
   "source": [
    "%%timeit -n1 -r1\n",
    "print(solution())"
   ]
  },
  {
   "cell_type": "code",
   "execution_count": null,
   "metadata": {},
   "outputs": [],
   "source": []
  }
 ]
}