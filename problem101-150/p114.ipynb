{
 "metadata": {
  "language_info": {
   "codemirror_mode": {
    "name": "ipython",
    "version": 3
   },
   "file_extension": ".py",
   "mimetype": "text/x-python",
   "name": "python",
   "nbconvert_exporter": "python",
   "pygments_lexer": "ipython3",
   "version": "3.8.5"
  },
  "orig_nbformat": 4,
  "kernelspec": {
   "name": "python3",
   "display_name": "Python 3.8.5 64-bit ('base': conda)"
  },
  "interpreter": {
   "hash": "d0a6fc611dd9351d0e1a9a0fceebb8e7c292efc5334406d2c05ad42c75550574"
  }
 },
 "nbformat": 4,
 "nbformat_minor": 2,
 "cells": [
  {
   "source": [
    "# Problem 114\n",
    "## [Counting block combinations I](https://projecteuler.net/problem=114)\n",
    "<p>A row measuring seven units in length has red blocks with a minimum length of three units placed on it, such that any two red blocks (which are allowed to be different lengths) are separated by at least one grey square. There are exactly seventeen ways of doing this.</p>\n",
    "\n",
    "<div class=\"center\">\n",
    "<img src=\"https://projecteuler.net/project/images/p114.png\" alt=\"p114.png\" />\n",
    "</div>\n",
    "\n",
    "<p>How many ways can a row measuring fifty units in length be filled?</p>\n",
    "<p class=\"note\">NOTE: Although the example above does not lend itself to the possibility, in general it is permitted to mix block sizes. For example, on a row measuring eight units in length you could use red (3), grey (1), and red (4).</p>"
   ],
   "cell_type": "markdown",
   "metadata": {}
  },
  {
   "cell_type": "code",
   "execution_count": 1,
   "metadata": {},
   "outputs": [],
   "source": [
    "mem = {}\n",
    "min_block_size = 3\n",
    "def solution(row_length):\n",
    "    if row_length < min_block_size:\n",
    "        return 1\n",
    "    if row_length in mem:\n",
    "        return mem[row_length]\n",
    "    c = solution(row_length-1)\n",
    "    for block_size in range(min_block_size, row_length+1):\n",
    "        c += solution(row_length - block_size - 1)\n",
    "    mem[row_length] = c\n",
    "    return c\n",
    "    \n"
   ]
  },
  {
   "cell_type": "code",
   "execution_count": 2,
   "metadata": {},
   "outputs": [
    {
     "output_type": "stream",
     "name": "stdout",
     "text": [
      "16475640049\n1.05 ms ± 0 ns per loop (mean ± std. dev. of 1 run, 1 loop each)\n"
     ]
    }
   ],
   "source": [
    "%%timeit -n1 -r1\n",
    "print(solution(50))"
   ]
  },
  {
   "cell_type": "code",
   "execution_count": null,
   "metadata": {},
   "outputs": [],
   "source": []
  }
 ]
}