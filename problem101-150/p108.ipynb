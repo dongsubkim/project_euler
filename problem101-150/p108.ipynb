{
 "metadata": {
  "language_info": {
   "codemirror_mode": {
    "name": "ipython",
    "version": 3
   },
   "file_extension": ".py",
   "mimetype": "text/x-python",
   "name": "python",
   "nbconvert_exporter": "python",
   "pygments_lexer": "ipython3",
   "version": "3.8.5"
  },
  "orig_nbformat": 4,
  "kernelspec": {
   "name": "python3",
   "display_name": "Python 3.8.5 64-bit ('base': conda)"
  },
  "interpreter": {
   "hash": "d0a6fc611dd9351d0e1a9a0fceebb8e7c292efc5334406d2c05ad42c75550574"
  }
 },
 "nbformat": 4,
 "nbformat_minor": 2,
 "cells": [
  {
   "source": [
    "<p>In the following equation <var>x</var>, <var>y</var>, and <var>n</var> are positive integers.</p>\n",
    "$$\\dfrac{1}{x} + \\dfrac{1}{y} = \\dfrac{1}{n}$$\n",
    "<p>For <var>n</var> = 4 there are exactly three distinct solutions:</p>\n",
    "$$\\begin{align}\n",
    "\\dfrac{1}{5} + \\dfrac{1}{20} &amp;= \\dfrac{1}{4}\\\\\n",
    "\\dfrac{1}{6} + \\dfrac{1}{12} &amp;= \\dfrac{1}{4}\\\\\n",
    "\\dfrac{1}{8} + \\dfrac{1}{8} &amp;= \\dfrac{1}{4}\n",
    "\\end{align}\n",
    "$$\n",
    "\n",
    "<p>What is the least value of <var>n</var> for which the number of distinct solutions exceeds one-thousand?</p>\n",
    "<p class=\"note\">NOTE: This problem is an easier version of <a href=\"problem=110\">Problem 110</a>; it is strongly advised that you solve this one first.</p>"
   ],
   "cell_type": "markdown",
   "metadata": {}
  },
  {
   "cell_type": "code",
   "execution_count": 61,
   "metadata": {},
   "outputs": [],
   "source": [
    "from itertools import product\n",
    "import math"
   ]
  },
  {
   "cell_type": "code",
   "execution_count": 65,
   "metadata": {},
   "outputs": [],
   "source": [
    "def square_factors(n):\n",
    "    factors = set()\n",
    "    for i in range(1, math.isqrt(n)+1):\n",
    "        if n % i == 0:\n",
    "            factors.add(i)\n",
    "            factors.add(n // i)\n",
    "    for p1, p2 in product(factors, repeat=2):\n",
    "        if (p1 * p2) <= n:\n",
    "            factors.add(p1*p2)\n",
    "    return len(factors)"
   ]
  },
  {
   "cell_type": "code",
   "execution_count": 72,
   "metadata": {},
   "outputs": [],
   "source": [
    "def solution():\n",
    "    n = 1\n",
    "    while square_factors(n) < 1000:\n",
    "        n += 1\n",
    "    return n"
   ]
  },
  {
   "cell_type": "code",
   "execution_count": 74,
   "metadata": {},
   "outputs": [
    {
     "output_type": "stream",
     "name": "stdout",
     "text": [
      "7.57 s ± 0 ns per loop (mean ± std. dev. of 1 run, 1 loop each)\n"
     ]
    }
   ],
   "source": [
    "%%timeit -n1 -r1\n",
    "solution()"
   ]
  },
  {
   "cell_type": "code",
   "execution_count": null,
   "metadata": {},
   "outputs": [],
   "source": []
  }
 ]
}