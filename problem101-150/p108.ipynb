{
 "metadata": {
  "language_info": {
   "codemirror_mode": {
    "name": "ipython",
    "version": 3
   },
   "file_extension": ".py",
   "mimetype": "text/x-python",
   "name": "python",
   "nbconvert_exporter": "python",
   "pygments_lexer": "ipython3",
   "version": "3.8.5"
  },
  "orig_nbformat": 4,
  "kernelspec": {
   "name": "python3",
   "display_name": "Python 3.8.5 64-bit ('base': conda)"
  },
  "interpreter": {
   "hash": "d0a6fc611dd9351d0e1a9a0fceebb8e7c292efc5334406d2c05ad42c75550574"
  }
 },
 "nbformat": 4,
 "nbformat_minor": 2,
 "cells": [
  {
   "source": [
    "# Problem 108\n",
    "## [Diophantine reciprocals I](https://projecteuler.net/problem=108)\n",
    "\n",
    "![Screen Shot 2021-06-30 at 5.41.58 PM.png](https://res.cloudinary.com/ddeivviyp/image/upload/v1625042548/MyBlog/gokgjl9euccbm3alkhgu.png)\n",
    "\n",
    "![Screen Shot 2021-06-30 at 5.41.19 PM.png](https://res.cloudinary.com/ddeivviyp/image/upload/v1625042547/MyBlog/rtepcpmwdvaakgjpulh7.png)\n",
    "\n",
    "# Check my solution in [Jupyter Notebook](https://github.com/dongsubkim/project_euler/blob/main/problem1.0801-1.0850/p108.ipynb)\n"
   ],
   "cell_type": "markdown",
   "metadata": {}
  },
  {
   "cell_type": "code",
   "execution_count": 61,
   "metadata": {},
   "outputs": [],
   "source": [
    "from itertools import product\n",
    "import math"
   ]
  },
  {
   "cell_type": "code",
   "execution_count": 65,
   "metadata": {},
   "outputs": [],
   "source": [
    "def square_factors(n):\n",
    "    factors = set()\n",
    "    for i in range(1, math.isqrt(n)+1):\n",
    "        if n % i == 0:\n",
    "            factors.add(i)\n",
    "            factors.add(n // i)\n",
    "    for p1, p2 in product(factors, repeat=2):\n",
    "        if (p1 * p2) <= n:\n",
    "            factors.add(p1*p2)\n",
    "    return len(factors)"
   ]
  },
  {
   "cell_type": "code",
   "execution_count": 72,
   "metadata": {},
   "outputs": [],
   "source": [
    "def solution():\n",
    "    n = 1\n",
    "    while square_factors(n) < 1000:\n",
    "        n += 1\n",
    "    return n"
   ]
  },
  {
   "cell_type": "code",
   "execution_count": 74,
   "metadata": {},
   "outputs": [
    {
     "output_type": "stream",
     "name": "stdout",
     "text": [
      "7.57 s ± 0 ns per loop (mean ± std. dev. of 1 run, 1 loop each)\n"
     ]
    }
   ],
   "source": [
    "%%timeit -n1 -r1\n",
    "solution()"
   ]
  },
  {
   "cell_type": "code",
   "execution_count": null,
   "metadata": {},
   "outputs": [],
   "source": []
  }
 ]
}