{
 "metadata": {
  "language_info": {
   "codemirror_mode": {
    "name": "ipython",
    "version": 3
   },
   "file_extension": ".py",
   "mimetype": "text/x-python",
   "name": "python",
   "nbconvert_exporter": "python",
   "pygments_lexer": "ipython3",
   "version": "3.8.5"
  },
  "orig_nbformat": 4,
  "kernelspec": {
   "name": "python3",
   "display_name": "Python 3.8.5 64-bit ('base': conda)"
  },
  "interpreter": {
   "hash": "d0a6fc611dd9351d0e1a9a0fceebb8e7c292efc5334406d2c05ad42c75550574"
  }
 },
 "nbformat": 4,
 "nbformat_minor": 2,
 "cells": [
  {
   "source": [
    "# Problem 109 \n",
    "## [Darts](https://projecteuler.net/problem=109)\n",
    "\n",
    "<p>In the game of darts a player throws three darts at a target board which is split into twenty equal sized sections numbered one to twenty.</p>\n",
    "<div class=\"center\">\n",
    "<img src=\"https://projecteuler.net/project/images/p109.png\" class=\"dark_img\" alt=\"\" /><br /></div>\n",
    "<p>The score of a dart is determined by the number of the region that the dart lands in. A dart landing outside the red/green outer ring scores zero. The black and cream regions inside this ring represent single scores. However, the red/green outer ring and middle ring score double and treble scores respectively.</p>\n",
    "<p>At the centre of the board are two concentric circles called the bull region, or bulls-eye. The outer bull is worth 25 points and the inner bull is a double, worth 50 points.</p>\n",
    "<p>There are many variations of rules but in the most popular game the players will begin with a score 301 or 501 and the first player to reduce their running total to zero is a winner. However, it is normal to play a \"doubles out\" system, which means that the player must land a double (including the double bulls-eye at the centre of the board) on their final dart to win; any other dart that would reduce their running total to one or lower means the score for that set of three darts is \"bust\".</p>\n",
    "<p>When a player is able to finish  on their current score it is called a \"checkout\" and the highest checkout is 170: T20 T20 D25 (two treble 20s and double bull).</p>\n",
    "<p>There are exactly eleven distinct ways to checkout on a score of 6:</p>\n",
    "<div class=\"center monospace\">\n",
    "<table class=\"center\">\n",
    "<tr>\n",
    "<td>     </td>\n",
    "<td>     </td>\n",
    "<td>     </td>\n",
    "</tr>\n",
    "<tr><td>D3</td><td></td><td></td></tr>\n",
    "<tr><td>D1</td><td>D2</td><td></td></tr>\n",
    "<tr><td>S2</td><td>D2</td><td></td></tr>\n",
    "<tr><td>D2</td><td>D1</td><td></td></tr>\n",
    "<tr><td>S4</td><td>D1</td><td></td></tr>\n",
    "<tr><td>S1</td><td>S1</td><td>D2</td></tr>\n",
    "<tr><td>S1</td><td>T1</td><td>D1</td></tr>\n",
    "<tr><td>S1</td><td>S3</td><td>D1</td></tr>\n",
    "<tr><td>D1</td><td>D1</td><td>D1</td></tr>\n",
    "<tr><td>D1</td><td>S2</td><td>D1</td></tr>\n",
    "<tr><td>S2</td><td>S2</td><td>D1</td></tr>\n",
    "</table>\n",
    "</div>\n",
    "<p>Note that D1 D2 is considered <b>different</b> to D2 D1 as they finish on different doubles. However, the combination S1 T1 D1 is considered the <b>same</b> as T1 S1 D1.</p>\n",
    "<p>In addition we shall not include misses in considering combinations; for example, D3 is the <b>same</b> as 0 D3 and 0 0 D3.</p>\n",
    "<p>Incredibly there are 42336 distinct ways of checking out in total.</p>\n",
    "<p>How many distinct ways can a player checkout with a score less than 100?</p>"
   ],
   "cell_type": "markdown",
   "metadata": {}
  },
  {
   "cell_type": "code",
   "execution_count": 1,
   "metadata": {},
   "outputs": [],
   "source": [
    "import math\n",
    "from itertools import product\n",
    "from collections import defaultdict"
   ]
  },
  {
   "cell_type": "code",
   "execution_count": 2,
   "metadata": {},
   "outputs": [],
   "source": [
    "def solution():\n",
    "    s = defaultdict(set)\n",
    "    m = [1,2,3]\n",
    "    r = range(1, 21)\n",
    "    ranges = list(product(m, r)) + [(1, 25), (0, 0), (2, 25)]\n",
    "    drange = list(range(2, 42, 2)) + [50]\n",
    "    for first in ranges:\n",
    "        for second in ranges:\n",
    "            for third in drange:\n",
    "                v = (first, second, third)\n",
    "                if (second, first, third) not in s[math.prod(first)+math.prod(second)+third]:\n",
    "                    s[math.prod(first)+math.prod(second)+third].add(v)\n",
    "    return s"
   ]
  },
  {
   "cell_type": "code",
   "execution_count": 3,
   "metadata": {},
   "outputs": [
    {
     "output_type": "stream",
     "name": "stdout",
     "text": [
      "38182\n53.7 ms ± 0 ns per loop (mean ± std. dev. of 1 run, 1 loop each)\n"
     ]
    }
   ],
   "source": [
    "%%timeit -n1 -r1\n",
    "s = solution()\n",
    "c = 0\n",
    "for i in [k for k in s.keys() if k < 100]:\n",
    "    c += len(s[i])\n",
    "print(c)"
   ]
  }
 ]
}