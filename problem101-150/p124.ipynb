{
 "metadata": {
  "language_info": {
   "codemirror_mode": {
    "name": "ipython",
    "version": 3
   },
   "file_extension": ".py",
   "mimetype": "text/x-python",
   "name": "python",
   "nbconvert_exporter": "python",
   "pygments_lexer": "ipython3",
   "version": "3.8.5"
  },
  "orig_nbformat": 4,
  "kernelspec": {
   "name": "python3",
   "display_name": "Python 3.8.5 64-bit ('base': conda)"
  },
  "interpreter": {
   "hash": "d0a6fc611dd9351d0e1a9a0fceebb8e7c292efc5334406d2c05ad42c75550574"
  }
 },
 "nbformat": 4,
 "nbformat_minor": 2,
 "cells": [
  {
   "source": [
    "# Problem 124\n",
    "## [Ordered radicals](https://projecteuler.net/problem=124)\n",
    "\n",
    "<p>The radical of <i>n</i>, rad(<i>n</i>), is the product of the distinct prime factors of <i>n</i>. For example, 504 = 2<sup>3</sup> × 3<sup>2</sup> × 7, so rad(504) = 2 × 3 × 7 = 42.</p>\n",
    "<p>If we calculate rad(<i>n</i>) for <i>1</i> ≤ <i>n</i> ≤ 10, then sort them on rad(<i>n</i>), and sorting on <i>n</i> if the radical values are equal, we get:</p>\n",
    "<table cellpadding=\"2\" cellspacing=\"0\" border=\"0\" align=\"center\"><tr><td colspan=\"2\"><div class=\"center\"><b>Unsorted</b></div></td>\n",
    "<td> </td>\n",
    "<td colspan=\"3\"><div class=\"center\"><b>Sorted</b></div></td>\n",
    "</tr><tr><td><div class=\"center\"><img src=\"images/spacer.gif\" width=\"50\" height=\"1\" alt=\"\" /><br /><b><i>n</i></b></div></td>\n",
    "<td><div class=\"center\"><img src=\"images/spacer.gif\" width=\"50\" height=\"1\" alt=\"\" /><br /><b>rad(<i>n</i>)</b></div></td>\n",
    "<td><img src=\"images/spacer.gif\" width=\"50\" height=\"1\" alt=\"\" /><br /></td>\n",
    "<td><div class=\"center\"><img src=\"images/spacer.gif\" width=\"50\" height=\"1\" alt=\"\" /><br /><b><i>n</i></b></div></td>\n",
    "<td><div class=\"center\"><img src=\"images/spacer.gif\" width=\"50\" height=\"1\" alt=\"\" /><br /><b>rad(<i>n</i>)</b></div></td>\n",
    "<td><div class=\"center\"><img src=\"images/spacer.gif\" width=\"50\" height=\"1\" alt=\"\" /><br /><b>k</b></div></td>\n",
    "</tr><tr><td><div class=\"center\">1</div></td><td><div class=\"center\">1</div></td>\n",
    "<td> </td>\n",
    "<td><div class=\"center\">1</div></td><td><div class=\"center\">1</div></td><td><div class=\"center\">1</div></td>\n",
    "</tr><tr><td><div class=\"center\">2</div></td><td><div class=\"center\">2</div></td>\n",
    "<td> </td>\n",
    "<td><div class=\"center\">2</div></td><td><div class=\"center\">2</div></td><td><div class=\"center\">2</div></td>\n",
    "</tr><tr><td><div class=\"center\">3</div></td><td><div class=\"center\">3</div></td>\n",
    "<td> </td>\n",
    "<td><div class=\"center\">4</div></td><td><div class=\"center\">2</div></td><td><div class=\"center\">3</div></td>\n",
    "</tr><tr><td><div class=\"center\">4</div></td><td><div class=\"center\">2</div></td>\n",
    "<td> </td>\n",
    "<td><div class=\"center\">8</div></td><td><div class=\"center\">2</div></td><td><div class=\"center\">4</div></td>\n",
    "</tr><tr><td><div class=\"center\">5</div></td><td><div class=\"center\">5</div></td>\n",
    "<td> </td>\n",
    "<td><div class=\"center\">3</div></td><td><div class=\"center\">3</div></td><td><div class=\"center\">5</div></td>\n",
    "</tr><tr><td><div class=\"center\">6</div></td><td><div class=\"center\">6</div></td>\n",
    "<td> </td>\n",
    "<td><div class=\"center\">9</div></td><td><div class=\"center\">3</div></td><td><div class=\"center\">6</div></td>\n",
    "</tr><tr><td><div class=\"center\">7</div></td><td><div class=\"center\">7</div></td>\n",
    "<td> </td>\n",
    "<td><div class=\"center\">5</div></td><td><div class=\"center\">5</div></td><td><div class=\"center\">7</div></td>\n",
    "</tr><tr><td><div class=\"center\">8</div></td><td><div class=\"center\">2</div></td>\n",
    "<td> </td>\n",
    "<td><div class=\"center\">6</div></td><td><div class=\"center\">6</div></td><td><div class=\"center\">8</div></td>\n",
    "</tr><tr><td><div class=\"center\">9</div></td><td><div class=\"center\">3</div></td>\n",
    "<td> </td>\n",
    "<td><div class=\"center\">7</div></td><td><div class=\"center\">7</div></td><td><div class=\"center\">9</div></td>\n",
    "</tr><tr><td><div class=\"center\">10</div></td><td><div class=\"center\">10</div></td>\n",
    "<td> </td>\n",
    "<td><div class=\"center\">10</div></td><td><div class=\"center\">10</div></td><td><div class=\"center\">10</div></td>\n",
    "</tr></table><p>Let E(<i>k</i>) be the <i>k</i>th element in the sorted <i>n</i> column; for example, E(4) = 8 and E(6) = 9.</p>\n",
    "<p>If rad(<i>n</i>) is sorted for 1 ≤ <i>n</i> ≤ 100000, find E(10000).</p>\n"
   ],
   "cell_type": "markdown",
   "metadata": {}
  },
  {
   "cell_type": "code",
   "execution_count": 1,
   "metadata": {},
   "outputs": [],
   "source": [
    "import math"
   ]
  },
  {
   "cell_type": "code",
   "execution_count": 2,
   "metadata": {},
   "outputs": [],
   "source": [
    "def prime_factors(n):\n",
    "    if n == 1:\n",
    "        return {1}\n",
    "    i = 2\n",
    "    factors = set()\n",
    "    while i * i <= n:\n",
    "        if n % i:\n",
    "            i += 1\n",
    "        else:\n",
    "            n //= i\n",
    "            factors.add(i)\n",
    "    if n > 1:\n",
    "        factors.add(n)\n",
    "    return factors\n"
   ]
  },
  {
   "cell_type": "code",
   "execution_count": 3,
   "metadata": {},
   "outputs": [],
   "source": [
    "def solution(t, ind):\n",
    "    rads = []\n",
    "    for n in range(1, t+1):\n",
    "        rads.append([n, math.prod(prime_factors(n))])\n",
    "    rads.sort(key=lambda x: (x[1], x[0]))\n",
    "    return rads[ind-1][0]"
   ]
  },
  {
   "cell_type": "code",
   "execution_count": 4,
   "metadata": {},
   "outputs": [
    {
     "output_type": "stream",
     "name": "stdout",
     "text": [
      "21417\n690 ms ± 0 ns per loop (mean ± std. dev. of 1 run, 1 loop each)\n"
     ]
    }
   ],
   "source": [
    "%%timeit -n1 -r1\n",
    "print(solution(100000, 10000))"
   ]
  },
  {
   "cell_type": "code",
   "execution_count": null,
   "metadata": {},
   "outputs": [],
   "source": []
  }
 ]
}