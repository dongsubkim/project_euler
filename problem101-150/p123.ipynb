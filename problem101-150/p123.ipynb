{
 "metadata": {
  "language_info": {
   "codemirror_mode": {
    "name": "ipython",
    "version": 3
   },
   "file_extension": ".py",
   "mimetype": "text/x-python",
   "name": "python",
   "nbconvert_exporter": "python",
   "pygments_lexer": "ipython3",
   "version": "3.8.5"
  },
  "orig_nbformat": 4,
  "kernelspec": {
   "name": "python3",
   "display_name": "Python 3.8.5 64-bit ('base': conda)"
  },
  "interpreter": {
   "hash": "d0a6fc611dd9351d0e1a9a0fceebb8e7c292efc5334406d2c05ad42c75550574"
  }
 },
 "nbformat": 4,
 "nbformat_minor": 2,
 "cells": [
  {
   "source": [
    "# Problem 123\n",
    "## [Prime square remainders](https://projecteuler.net/problem=123)\n",
    "\n",
    "<p>Let <i>p</i><sub>n</sub> be the <i>n</i>th prime: 2, 3, 5, 7, 11, ..., and let <i>r</i> be the remainder when (<i>p</i><sub>n</sub>−1)<sup><i>n</i></sup> + (<i>p</i><sub>n</sub>+1)<sup><i>n</i></sup> is divided by <i>p</i><sub>n</sub><sup>2</sup>.</p>\n",
    "<p>For example, when <i>n</i> = 3, <i>p</i><sub>3</sub> = 5, and 4<sup>3</sup> + 6<sup>3</sup> = 280 ≡ 5 mod 25.</p>\n",
    "<p>The least value of <i>n</i> for which the remainder first exceeds 10<sup>9</sup> is 7037.</p>\n",
    "<p>Find the least value of <i>n</i> for which the remainder first exceeds 10<sup>10</sup>.</p>"
   ],
   "cell_type": "markdown",
   "metadata": {}
  },
  {
   "cell_type": "code",
   "execution_count": 1,
   "metadata": {},
   "outputs": [],
   "source": [
    "import math"
   ]
  },
  {
   "cell_type": "code",
   "execution_count": 2,
   "metadata": {},
   "outputs": [],
   "source": [
    "primes = []\n",
    "def is_prime(n):\n",
    "    if n in primes:\n",
    "        return True\n",
    "    if n < 2:\n",
    "        return False\n",
    "    for p in primes:\n",
    "        if p > math.isqrt(n):\n",
    "            return True\n",
    "        if n % p == 0:\n",
    "            return False\n",
    "    return True"
   ]
  },
  {
   "cell_type": "code",
   "execution_count": 3,
   "metadata": {},
   "outputs": [],
   "source": [
    "def solution():\n",
    "    n = 1\n",
    "    k = 1\n",
    "    while True:\n",
    "        while len(primes) < n:\n",
    "            if is_prime(k):\n",
    "                primes.append(k)\n",
    "            k += 1\n",
    "        p = primes[n-1]\n",
    "        if n % 2== 0:\n",
    "            v = 2 * n * p + 2\n",
    "        else:\n",
    "            v = 2 * n * p\n",
    "        if v > 10**10:\n",
    "            return n\n",
    "        n += 1"
   ]
  },
  {
   "cell_type": "code",
   "execution_count": 4,
   "metadata": {},
   "outputs": [
    {
     "output_type": "stream",
     "name": "stdout",
     "text": [
      "21034\n30.2 s ± 0 ns per loop (mean ± std. dev. of 1 run, 1 loop each)\n"
     ]
    }
   ],
   "source": [
    "%%timeit -n1 -r1\n",
    "print(solution())"
   ]
  },
  {
   "cell_type": "code",
   "execution_count": null,
   "metadata": {},
   "outputs": [],
   "source": []
  }
 ]
}