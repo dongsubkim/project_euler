{
 "metadata": {
  "language_info": {
   "codemirror_mode": {
    "name": "ipython",
    "version": 3
   },
   "file_extension": ".py",
   "mimetype": "text/x-python",
   "name": "python",
   "nbconvert_exporter": "python",
   "pygments_lexer": "ipython3",
   "version": "3.8.5"
  },
  "orig_nbformat": 4,
  "kernelspec": {
   "name": "python3",
   "display_name": "Python 3.8.5 64-bit ('base': conda)"
  },
  "interpreter": {
   "hash": "d0a6fc611dd9351d0e1a9a0fceebb8e7c292efc5334406d2c05ad42c75550574"
  }
 },
 "nbformat": 4,
 "nbformat_minor": 2,
 "cells": [
  {
   "source": [
    "# Problem 110\n",
    "## [Diophantine reciprocals II](https://projecteuler.net/problem=110)\n",
    "\n",
    "![Screen Shot 2021-07-02 at 5.23.28 PM.png](https://res.cloudinary.com/ddeivviyp/image/upload/v1625214274/MyBlog/ttfp83tdnwjswl2mrfcv.png)\n",
    "\n",
    "<p class=\"smaller\">NOTE: This problem is a much more difficult version of <a href=\"http://www.dskim.blog/post/0e8b2c3b-513b-4838-6412-f77578e595ed\">Problem 108</a> and as it is well beyond the limitations of a brute force approach it requires a clever implementation.</p>\n"
   ],
   "cell_type": "markdown",
   "metadata": {}
  },
  {
   "cell_type": "code",
   "execution_count": 16,
   "metadata": {},
   "outputs": [],
   "source": [
    "from itertools import product\n",
    "import math\n",
    "from collections import Counter"
   ]
  },
  {
   "cell_type": "code",
   "execution_count": 17,
   "metadata": {},
   "outputs": [],
   "source": [
    "def prime_factors(n):\n",
    "    '''\n",
    "    Returns prime factors of n as a list.\n",
    "    '''\n",
    "    i = 2\n",
    "    factors = []\n",
    "    while i * i <= n:\n",
    "        if n % i:\n",
    "            i += 1\n",
    "        else:\n",
    "            n //= i\n",
    "            factors.append(i)\n",
    "    if n > 1:\n",
    "        factors.append(n)\n",
    "    return factors\n"
   ]
  },
  {
   "cell_type": "code",
   "execution_count": 49,
   "metadata": {},
   "outputs": [],
   "source": [
    "primes = []\n",
    "def is_prime(n):\n",
    "    for p in primes:\n",
    "        if n % p == 0:\n",
    "            return False\n",
    "        if p > math.isqrt(n)+1:\n",
    "            return True\n",
    "    return True\n",
    "for n in range(2, 10000):\n",
    "    if is_prime(n):\n",
    "        primes.append(n)"
   ]
  },
  {
   "cell_type": "code",
   "execution_count": 83,
   "metadata": {},
   "outputs": [],
   "source": [
    "def solution(target):\n",
    "    v = math.inf\n",
    "    for i in range(target, target + 30000):\n",
    "        ps = prime_factors(i*2 - 1)\n",
    "        ps = [(i-1)//2 for i in ps][::-1]\n",
    "        n = 1\n",
    "        for a, b in zip(ps, primes):\n",
    "            n *= b**a\n",
    "        v = min(v, n)\n",
    "    return v"
   ]
  },
  {
   "cell_type": "code",
   "execution_count": 84,
   "metadata": {},
   "outputs": [
    {
     "output_type": "stream",
     "name": "stdout",
     "text": [
      "9350130049860600\n1min 11s ± 0 ns per loop (mean ± std. dev. of 1 run, 1 loop each)\n"
     ]
    }
   ],
   "source": [
    "%%timeit -n1 -r1\n",
    "print(solution(4000000))"
   ]
  }
 ]
}