{
 "metadata": {
  "language_info": {
   "codemirror_mode": {
    "name": "ipython",
    "version": 3
   },
   "file_extension": ".py",
   "mimetype": "text/x-python",
   "name": "python",
   "nbconvert_exporter": "python",
   "pygments_lexer": "ipython3",
   "version": "3.8.5"
  },
  "orig_nbformat": 4,
  "kernelspec": {
   "name": "python3",
   "display_name": "Python 3.8.5 64-bit ('base': conda)"
  },
  "interpreter": {
   "hash": "d0a6fc611dd9351d0e1a9a0fceebb8e7c292efc5334406d2c05ad42c75550574"
  }
 },
 "nbformat": 4,
 "nbformat_minor": 2,
 "cells": [
  {
   "source": [
    "<p>Using all of the digits 1 through 9 and concatenating them freely to form decimal integers, different sets can be formed. Interestingly with the set {2,5,47,89,631}, all of the elements belonging to it are prime.</p>\n",
    "<p>How many distinct sets containing each of the digits one through nine exactly once contain only prime elements?</p>\n"
   ],
   "cell_type": "markdown",
   "metadata": {}
  },
  {
   "cell_type": "code",
   "execution_count": 1,
   "metadata": {},
   "outputs": [],
   "source": [
    "import math\n",
    "from itertools import permutations"
   ]
  },
  {
   "cell_type": "code",
   "execution_count": 6,
   "metadata": {},
   "outputs": [],
   "source": [
    "primes = []\n",
    "def is_prime(n):\n",
    "    if n < 2:\n",
    "        return False\n",
    "    for p in primes:\n",
    "        if n == p:\n",
    "            return True\n",
    "        if n % p == 0:\n",
    "            return False\n",
    "        if p > math.isqrt(n):\n",
    "            break\n",
    "    return True\n",
    "\n",
    "for i in range(2, 1000000):\n",
    "    if is_prime(i):\n",
    "        primes.append(i)\n"
   ]
  },
  {
   "cell_type": "code",
   "execution_count": 8,
   "metadata": {},
   "outputs": [],
   "source": [
    "\n",
    "def check(s):\n",
    "    d = set()\n",
    "    for i in s:\n",
    "        d = d.union(set(str(i)))\n",
    "    return len(d) == 9\n",
    "\n",
    "def find_prime_set(digit_list, prev_prime_list):\n",
    "    if not digit_list:\n",
    "        res.add(\",\".join(map(str, sorted(prev_prime_list))))\n",
    "        return\n",
    "    for i in range(1, len(digit_list)):\n",
    "        num = int(\"\".join(map(str, digit_list[:i])))\n",
    "        if is_prime(num):\n",
    "            new_list = prev_prime_list.copy()\n",
    "            new_list.append(num)\n",
    "            find_prime_set(digit_list[i:], new_list)\n"
   ]
  },
  {
   "cell_type": "code",
   "execution_count": 9,
   "metadata": {
    "tags": []
   },
   "outputs": [],
   "source": [
    "res = set()\n",
    "\n",
    "for p in permutations(range(1, 10)):\n",
    "    find_prime_set(p, [])\n"
   ]
  },
  {
   "cell_type": "code",
   "execution_count": 10,
   "metadata": {},
   "outputs": [
    {
     "output_type": "execute_result",
     "data": {
      "text/plain": [
       "0"
      ]
     },
     "metadata": {},
     "execution_count": 10
    }
   ],
   "source": [
    "len(res)"
   ]
  },
  {
   "cell_type": "code",
   "execution_count": null,
   "metadata": {},
   "outputs": [],
   "source": []
  }
 ]
}