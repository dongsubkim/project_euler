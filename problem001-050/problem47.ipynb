{
 "metadata": {
  "language_info": {
   "codemirror_mode": {
    "name": "ipython",
    "version": 3
   },
   "file_extension": ".py",
   "mimetype": "text/x-python",
   "name": "python",
   "nbconvert_exporter": "python",
   "pygments_lexer": "ipython3",
   "version": "3.8.5"
  },
  "orig_nbformat": 2,
  "kernelspec": {
   "name": "python385jvsc74a57bd0d0a6fc611dd9351d0e1a9a0fceebb8e7c292efc5334406d2c05ad42c75550574",
   "display_name": "Python 3.8.5 64-bit ('base': conda)"
  }
 },
 "nbformat": 4,
 "nbformat_minor": 2,
 "cells": [
  {
   "source": [
    "<p>The first two consecutive numbers to have two distinct prime factors are:</p>\n",
    "<p class=\"margin_left\">14 = 2 × 7<br />15 = 3 × 5</p>\n",
    "<p>The first three consecutive numbers to have three distinct prime factors are:</p>\n",
    "<p class=\"margin_left\">644 = 2² × 7 × 23<br />645 = 3 × 5 × 43<br />646 = 2 × 17 × 19.</p>\n",
    "<p>Find the first four consecutive integers to have four distinct prime factors each. What is the first of these numbers?</p>\n"
   ],
   "cell_type": "markdown",
   "metadata": {}
  },
  {
   "cell_type": "code",
   "execution_count": 1,
   "metadata": {},
   "outputs": [],
   "source": [
    "import math"
   ]
  },
  {
   "cell_type": "code",
   "execution_count": 25,
   "metadata": {},
   "outputs": [
    {
     "output_type": "stream",
     "name": "stdout",
     "text": [
      "134043\n"
     ]
    }
   ],
   "source": [
    "primes = []\n",
    "divisors = {}\n",
    "\n",
    "def foo(n):\n",
    "    d = []\n",
    "    for p in primes:\n",
    "        if n % p == 0:\n",
    "            d.append(p)\n",
    "    if d == []:\n",
    "        primes.append(n)\n",
    "    divisors[n] = d\n",
    "    return len(d)\n",
    "\n",
    "    \n",
    "n = 2\n",
    "while True:\n",
    "    foo(n)\n",
    "    if n > 5 and len(divisors[n]) == len(divisors[n-1]) == len(divisors[n-2]) == len(divisors[n-3]) == 4:\n",
    "        print(n-3)\n",
    "        break\n",
    "    n += 1"
   ]
  },
  {
   "cell_type": "code",
   "execution_count": null,
   "metadata": {},
   "outputs": [],
   "source": []
  }
 ]
}