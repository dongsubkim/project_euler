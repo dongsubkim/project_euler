{
 "metadata": {
  "language_info": {
   "codemirror_mode": {
    "name": "ipython",
    "version": 3
   },
   "file_extension": ".py",
   "mimetype": "text/x-python",
   "name": "python",
   "nbconvert_exporter": "python",
   "pygments_lexer": "ipython3",
   "version": "3.8.5"
  },
  "orig_nbformat": 2,
  "kernelspec": {
   "name": "python385jvsc74a57bd0d0a6fc611dd9351d0e1a9a0fceebb8e7c292efc5334406d2c05ad42c75550574",
   "display_name": "Python 3.8.5 64-bit ('base': conda)"
  }
 },
 "nbformat": 4,
 "nbformat_minor": 2,
 "cells": [
  {
   "source": [
    "<p>It was proposed by Christian Goldbach that every odd composite number can be written as the sum of a prime and twice a square.</p>\n",
    "<p class=\"margin_left\">9 = 7 + 2×1<sup>2</sup><br />\n",
    "15 = 7 + 2×2<sup>2</sup><br />\n",
    "21 = 3 + 2×3<sup>2</sup><br />\n",
    "25 = 7 + 2×3<sup>2</sup><br />\n",
    "27 = 19 + 2×2<sup>2</sup><br />\n",
    "33 = 31 + 2×1<sup>2</sup></p>\n",
    "<p>It turns out that the conjecture was false.</p>\n",
    "<p>What is the smallest odd composite that cannot be written as the sum of a prime and twice a square?</p>\n"
   ],
   "cell_type": "markdown",
   "metadata": {}
  },
  {
   "cell_type": "code",
   "execution_count": 1,
   "metadata": {},
   "outputs": [],
   "source": [
    "import utils\n",
    "import math"
   ]
  },
  {
   "cell_type": "code",
   "execution_count": 4,
   "metadata": {},
   "outputs": [],
   "source": [
    "def solution():\n",
    "    primes = set()\n",
    "    primes.add(2)\n",
    "    n = 3\n",
    "    def goldbach(n):\n",
    "        for p in primes:\n",
    "            x = (n-p)/2\n",
    "            if x == int(math.sqrt(x))**2:\n",
    "                return True\n",
    "        return False\n",
    "\n",
    "    while True:\n",
    "        if utils.is_prime(n):\n",
    "            primes.add(n)\n",
    "            \n",
    "        elif not goldbach(n):\n",
    "            return n\n",
    "        n += 2 "
   ]
  },
  {
   "cell_type": "code",
   "execution_count": 5,
   "metadata": {},
   "outputs": [
    {
     "output_type": "execute_result",
     "data": {
      "text/plain": [
       "5777"
      ]
     },
     "metadata": {},
     "execution_count": 5
    }
   ],
   "source": [
    "solution()"
   ]
  },
  {
   "cell_type": "code",
   "execution_count": null,
   "metadata": {},
   "outputs": [],
   "source": []
  }
 ]
}