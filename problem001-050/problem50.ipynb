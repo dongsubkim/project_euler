{
 "metadata": {
  "language_info": {
   "codemirror_mode": {
    "name": "ipython",
    "version": 3
   },
   "file_extension": ".py",
   "mimetype": "text/x-python",
   "name": "python",
   "nbconvert_exporter": "python",
   "pygments_lexer": "ipython3",
   "version": "3.8.5"
  },
  "orig_nbformat": 2,
  "kernelspec": {
   "name": "python385jvsc74a57bd0d0a6fc611dd9351d0e1a9a0fceebb8e7c292efc5334406d2c05ad42c75550574",
   "display_name": "Python 3.8.5 64-bit ('base': conda)"
  }
 },
 "nbformat": 4,
 "nbformat_minor": 2,
 "cells": [
  {
   "source": [
    "<p>The prime 41, can be written as the sum of six consecutive primes:</p>\n",
    "<div class=\"center\">41 = 2 + 3 + 5 + 7 + 11 + 13</div>\n",
    "<p>This is the longest sum of consecutive primes that adds to a prime below one-hundred.</p>\n",
    "<p>The longest sum of consecutive primes below one-thousand that adds to a prime, contains 21 terms, and is equal to 953.</p>\n",
    "<p>Which prime, below one-million, can be written as the sum of the most consecutive primes?</p>\n"
   ],
   "cell_type": "markdown",
   "metadata": {}
  },
  {
   "cell_type": "code",
   "execution_count": 1,
   "metadata": {},
   "outputs": [],
   "source": [
    "import math\n",
    "import utils"
   ]
  },
  {
   "cell_type": "code",
   "execution_count": 2,
   "metadata": {},
   "outputs": [],
   "source": [
    "primes = []"
   ]
  },
  {
   "cell_type": "code",
   "execution_count": 3,
   "metadata": {},
   "outputs": [],
   "source": [
    "for i in range(2, 1000000):\n",
    "    if utils.is_prime(i):\n",
    "        primes.append(i)"
   ]
  },
  {
   "cell_type": "code",
   "execution_count": 6,
   "metadata": {},
   "outputs": [],
   "source": [
    "prime_set = set(primes)"
   ]
  },
  {
   "cell_type": "code",
   "execution_count": 38,
   "metadata": {},
   "outputs": [],
   "source": [
    "def solution():\n",
    "    max_c, max_n = 0, 0\n",
    "    s = 0\n",
    "    for i in range(len(primes)):\n",
    "        s = sum(primes[i:i+max_c])\n",
    "        j = i+max_c\n",
    "        while s < 1000000 and j < len(primes):\n",
    "            s += primes[j]\n",
    "            j += 1\n",
    "            if s in primes:\n",
    "                max_c = j - i\n",
    "                max_n = s\n",
    "    return max_n, max_c"
   ]
  },
  {
   "cell_type": "code",
   "execution_count": 39,
   "metadata": {
    "tags": []
   },
   "outputs": [
    {
     "output_type": "execute_result",
     "data": {
      "text/plain": [
       "(997651, 543)"
      ]
     },
     "metadata": {},
     "execution_count": 39
    }
   ],
   "source": [
    "solution()"
   ]
  },
  {
   "cell_type": "code",
   "execution_count": 28,
   "metadata": {},
   "outputs": [
    {
     "output_type": "execute_result",
     "data": {
      "text/plain": [
       "2980"
      ]
     },
     "metadata": {},
     "execution_count": 28
    }
   ],
   "source": [
    "len([p for p in primes if p >= 958577])"
   ]
  },
  {
   "cell_type": "code",
   "execution_count": 35,
   "metadata": {},
   "outputs": [
    {
     "output_type": "execute_result",
     "data": {
      "text/plain": [
       "[999863,\n",
       " 999883,\n",
       " 999907,\n",
       " 999917,\n",
       " 999931,\n",
       " 999953,\n",
       " 999959,\n",
       " 999961,\n",
       " 999979,\n",
       " 999983]"
      ]
     },
     "metadata": {},
     "execution_count": 35
    }
   ],
   "source": [
    "primes[-10:]"
   ]
  },
  {
   "cell_type": "code",
   "execution_count": null,
   "metadata": {},
   "outputs": [],
   "source": []
  }
 ]
}