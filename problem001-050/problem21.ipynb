{
 "metadata": {
  "language_info": {
   "codemirror_mode": {
    "name": "ipython",
    "version": 3
   },
   "file_extension": ".py",
   "mimetype": "text/x-python",
   "name": "python",
   "nbconvert_exporter": "python",
   "pygments_lexer": "ipython3",
   "version": "3.8.5-final"
  },
  "orig_nbformat": 2,
  "kernelspec": {
   "name": "python3",
   "display_name": "Python 3.8.5 64-bit ('base': conda)",
   "metadata": {
    "interpreter": {
     "hash": "d0a6fc611dd9351d0e1a9a0fceebb8e7c292efc5334406d2c05ad42c75550574"
    }
   }
  }
 },
 "nbformat": 4,
 "nbformat_minor": 2,
 "cells": [
  {
   "cell_type": "code",
   "execution_count": 6,
   "metadata": {},
   "outputs": [],
   "source": [
    "import math\n",
    "def divisors(n):\n",
    "    s = 0\n",
    "    for i in range(1, int(math.sqrt(n))):\n",
    "        if n % i == 0:\n",
    "            s += i\n",
    "            s += n // i\n",
    "    return s - n"
   ]
  },
  {
   "cell_type": "code",
   "execution_count": 19,
   "metadata": {},
   "outputs": [],
   "source": [
    "def is_amicable(n):\n",
    "    a = divisors(n)\n",
    "    if a > 0 and a != n and divisors(a) == n:\n",
    "        return a\n",
    "    return False"
   ]
  },
  {
   "cell_type": "code",
   "execution_count": 21,
   "metadata": {
    "tags": []
   },
   "outputs": [
    {
     "output_type": "stream",
     "name": "stdout",
     "text": [
      "31626\n"
     ]
    }
   ],
   "source": [
    "amicables = set()\n",
    "for i in range(1, 10001):\n",
    "    if i not in amicables:\n",
    "        a = is_amicable(i)\n",
    "        if a:\n",
    "            amicables.add(i)\n",
    "            amicables.add(a)\n",
    "print(sum(list(amicables)))"
   ]
  },
  {
   "cell_type": "code",
   "execution_count": null,
   "metadata": {},
   "outputs": [],
   "source": []
  }
 ]
}